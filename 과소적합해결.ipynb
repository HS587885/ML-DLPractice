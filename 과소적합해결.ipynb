{
  "nbformat": 4,
  "nbformat_minor": 0,
  "metadata": {
    "colab": {
      "provenance": [],
      "authorship_tag": "ABX9TyPLrOeXCs75TCzbKt8R87tV",
      "include_colab_link": true
    },
    "kernelspec": {
      "name": "python3",
      "display_name": "Python 3"
    },
    "language_info": {
      "name": "python"
    }
  },
  "cells": [
    {
      "cell_type": "markdown",
      "metadata": {
        "id": "view-in-github",
        "colab_type": "text"
      },
      "source": [
        "<a href=\"https://colab.research.google.com/github/as9786/ML-DLPratice/blob/main/%EA%B3%BC%EC%86%8C%EC%A0%81%ED%95%A9%ED%95%B4%EA%B2%B0.ipynb\" target=\"_parent\"><img src=\"https://colab.research.google.com/assets/colab-badge.svg\" alt=\"Open In Colab\"/></a>"
      ]
    },
    {
      "cell_type": "markdown",
      "source": [
        "# Module"
      ],
      "metadata": {
        "id": "dccaCjKNUoGg"
      }
    },
    {
      "cell_type": "code",
      "execution_count": 1,
      "metadata": {
        "id": "GLIlMayaUjCj"
      },
      "outputs": [],
      "source": [
        "import tensorflow as tf\n",
        "import numpy as np"
      ]
    },
    {
      "cell_type": "markdown",
      "source": [
        "# Dataset"
      ],
      "metadata": {
        "id": "JhSkhJTgUrYN"
      }
    },
    {
      "cell_type": "code",
      "source": [
        "fashion_mnist = tf.keras.datasets.fashion_mnist"
      ],
      "metadata": {
        "id": "A8jWcWRtUrBU"
      },
      "execution_count": 2,
      "outputs": []
    },
    {
      "cell_type": "code",
      "source": [
        "(X_train,y_train),(X_test,y_test) = fashion_mnist.load_data()"
      ],
      "metadata": {
        "colab": {
          "base_uri": "https://localhost:8080/"
        },
        "id": "tutGDcv-UuSs",
        "outputId": "2141af96-5dd4-4a7f-fe44-1eac6fc88925"
      },
      "execution_count": 3,
      "outputs": [
        {
          "output_type": "stream",
          "name": "stdout",
          "text": [
            "Downloading data from https://storage.googleapis.com/tensorflow/tf-keras-datasets/train-labels-idx1-ubyte.gz\n",
            "29515/29515 [==============================] - 0s 0us/step\n",
            "Downloading data from https://storage.googleapis.com/tensorflow/tf-keras-datasets/train-images-idx3-ubyte.gz\n",
            "26421880/26421880 [==============================] - 0s 0us/step\n",
            "Downloading data from https://storage.googleapis.com/tensorflow/tf-keras-datasets/t10k-labels-idx1-ubyte.gz\n",
            "5148/5148 [==============================] - 0s 0us/step\n",
            "Downloading data from https://storage.googleapis.com/tensorflow/tf-keras-datasets/t10k-images-idx3-ubyte.gz\n",
            "4422102/4422102 [==============================] - 0s 0us/step\n"
          ]
        }
      ]
    },
    {
      "cell_type": "code",
      "source": [
        "X_train, X_test = X_train/255., X_test/255."
      ],
      "metadata": {
        "id": "Ah9qNyfpU4ol"
      },
      "execution_count": 4,
      "outputs": []
    },
    {
      "cell_type": "code",
      "source": [
        "X_train = X_train.astype(np.float32)\n",
        "X_test = X_test.astype(np.float32)"
      ],
      "metadata": {
        "id": "9AWUpR5rU5vK"
      },
      "execution_count": 5,
      "outputs": []
    },
    {
      "cell_type": "code",
      "source": [
        "train_ds = tf.data.Dataset.from_tensor_slices((X_train,y_train)).shuffle(1000).batch(32).prefetch(1024)\n",
        "test_ds = tf.data.Dataset.from_tensor_slices((X_test,y_test)).shuffle(1000).batch(32).prefetch(1024)"
      ],
      "metadata": {
        "id": "muLov4l3U6oI"
      },
      "execution_count": 6,
      "outputs": []
    },
    {
      "cell_type": "markdown",
      "source": [
        "# 모형"
      ],
      "metadata": {
        "id": "OEmUWESpU8U0"
      }
    },
    {
      "cell_type": "code",
      "source": [
        "EPOCHS = 10"
      ],
      "metadata": {
        "id": "RwVSYeurVI68"
      },
      "execution_count": 15,
      "outputs": []
    },
    {
      "cell_type": "code",
      "source": [
        "class MyModel(tf.keras.Model):\n",
        "\n",
        "  def __init__(self):\n",
        "    super().__init__()\n",
        "    self.flatten = tf.keras.layers.Flatten()\n",
        "\n",
        "    self.dense1 = tf.keras.layers.Dense(32,use_bias=False)\n",
        "    self.batch1 = tf.keras.layers.BatchNormalization()\n",
        "\n",
        "    self.dense2 = tf.keras.layers.Dense(32,use_bias=False)\n",
        "    self.batch2 = tf.keras.layers.BatchNormalization()\n",
        "\n",
        "    self.dense3 = tf.keras.layers.Dense(64,use_bias=False)\n",
        "    self.batch3 = tf.keras.layers.BatchNormalization()\n",
        "\n",
        "    self.dense4 = tf.keras.layers.Dense(128,use_bias=False)\n",
        "    self.batch4 = tf.keras.layers.BatchNormalization()\n",
        "\n",
        "    self.dense5 = tf.keras.layers.Dense(10,activation='softmax')\n",
        "\n",
        "  def call(self,x,training=False,mask=None):\n",
        "    x = self.flatten(x)\n",
        "\n",
        "    x = self.dense1(x)\n",
        "    x = self.batch1(x,training)\n",
        "    x = tf.nn.relu(x)\n",
        "\n",
        "    h = self.batch2(x,training)\n",
        "    h = tf.nn.relu(h)\n",
        "    h = self.dense2(h)\n",
        "    x = tf.concat([x,h],axis=-1)\n",
        "\n",
        "    h = self.batch3(x,training)\n",
        "    h = tf.nn.relu(h)\n",
        "    h = self.dense3(h)\n",
        "    x = tf.concat([x,h],axis=-1)\n",
        "\n",
        "    h = self.batch4(x,training)\n",
        "    h = tf.nn.relu(h)\n",
        "    h = self.dense4(h)\n",
        "    x = tf.concat([x,h],axis=-1)\n",
        "\n",
        "    out = self.dense5(x)\n",
        "    return out"
      ],
      "metadata": {
        "id": "P6ScYAzeU7qC"
      },
      "execution_count": 17,
      "outputs": []
    },
    {
      "cell_type": "markdown",
      "source": [
        "배치 정규화 사용 시 이전 층에서 편향과 활성화 함수를 사용하지 않음"
      ],
      "metadata": {
        "id": "YUqvUPTUVv7K"
      }
    },
    {
      "cell_type": "markdown",
      "source": [
        "자원이 제한되어 있을 때는 DenseNet 구조처럼 모형 구조를 바꿀 수 있음"
      ],
      "metadata": {
        "id": "vt5G0RFQXbMq"
      }
    },
    {
      "cell_type": "code",
      "source": [
        "model = MyModel()"
      ],
      "metadata": {
        "id": "eqkNFareVhar"
      },
      "execution_count": 18,
      "outputs": []
    },
    {
      "cell_type": "markdown",
      "source": [
        "# 학습"
      ],
      "metadata": {
        "id": "jhd6AgCsWz4x"
      }
    },
    {
      "cell_type": "code",
      "source": [
        "model.compile(optimizer='adam',loss='sparse_categorical_crossentropy',metrics=['accuracy'])"
      ],
      "metadata": {
        "id": "eAmGNxsPWs7n"
      },
      "execution_count": 19,
      "outputs": []
    },
    {
      "cell_type": "code",
      "source": [
        "model.fit(train_ds,validation_data=test_ds,epochs=EPOCHS)"
      ],
      "metadata": {
        "colab": {
          "base_uri": "https://localhost:8080/"
        },
        "id": "27nwclVlW0jL",
        "outputId": "ce789ac8-0f3d-4346-d5d3-8f81ec7a38fd"
      },
      "execution_count": 20,
      "outputs": [
        {
          "output_type": "stream",
          "name": "stdout",
          "text": [
            "Epoch 1/10\n",
            "1875/1875 [==============================] - 6s 2ms/step - loss: 0.5194 - accuracy: 0.8141 - val_loss: 0.4549 - val_accuracy: 0.8413\n",
            "Epoch 2/10\n",
            "1875/1875 [==============================] - 4s 2ms/step - loss: 0.4020 - accuracy: 0.8550 - val_loss: 0.4063 - val_accuracy: 0.8538\n",
            "Epoch 3/10\n",
            "1875/1875 [==============================] - 4s 2ms/step - loss: 0.3695 - accuracy: 0.8651 - val_loss: 0.4636 - val_accuracy: 0.8338\n",
            "Epoch 4/10\n",
            "1875/1875 [==============================] - 4s 2ms/step - loss: 0.3472 - accuracy: 0.8721 - val_loss: 0.4094 - val_accuracy: 0.8508\n",
            "Epoch 5/10\n",
            "1875/1875 [==============================] - 4s 2ms/step - loss: 0.3335 - accuracy: 0.8763 - val_loss: 0.4150 - val_accuracy: 0.8494\n",
            "Epoch 6/10\n",
            "1875/1875 [==============================] - 4s 2ms/step - loss: 0.3201 - accuracy: 0.8827 - val_loss: 0.3953 - val_accuracy: 0.8613\n",
            "Epoch 7/10\n",
            "1875/1875 [==============================] - 4s 2ms/step - loss: 0.3092 - accuracy: 0.8876 - val_loss: 0.4079 - val_accuracy: 0.8522\n",
            "Epoch 8/10\n",
            "1875/1875 [==============================] - 4s 2ms/step - loss: 0.2996 - accuracy: 0.8884 - val_loss: 0.3743 - val_accuracy: 0.8699\n",
            "Epoch 9/10\n",
            "1875/1875 [==============================] - 4s 2ms/step - loss: 0.2946 - accuracy: 0.8899 - val_loss: 0.3684 - val_accuracy: 0.8685\n",
            "Epoch 10/10\n",
            "1875/1875 [==============================] - 4s 2ms/step - loss: 0.2878 - accuracy: 0.8923 - val_loss: 0.3812 - val_accuracy: 0.8682\n"
          ]
        },
        {
          "output_type": "execute_result",
          "data": {
            "text/plain": [
              "<keras.callbacks.History at 0x7f2a606ac790>"
            ]
          },
          "metadata": {},
          "execution_count": 20
        }
      ]
    },
    {
      "cell_type": "code",
      "source": [],
      "metadata": {
        "id": "nC3Uip1RW44k"
      },
      "execution_count": null,
      "outputs": []
    }
  ]
}