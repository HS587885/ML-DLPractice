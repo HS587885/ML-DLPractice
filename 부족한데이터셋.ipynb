{
  "nbformat": 4,
  "nbformat_minor": 0,
  "metadata": {
    "colab": {
      "provenance": [],
      "authorship_tag": "ABX9TyPsf4YqDmSoAXE/tDiJErnf",
      "include_colab_link": true
    },
    "kernelspec": {
      "name": "python3",
      "display_name": "Python 3"
    },
    "language_info": {
      "name": "python"
    }
  },
  "cells": [
    {
      "cell_type": "markdown",
      "metadata": {
        "id": "view-in-github",
        "colab_type": "text"
      },
      "source": [
        "<a href=\"https://colab.research.google.com/github/as9786/ML-DLPratice/blob/main/%EB%B6%80%EC%A1%B1%ED%95%9C%EB%8D%B0%EC%9D%B4%ED%84%B0%EC%85%8B.ipynb\" target=\"_parent\"><img src=\"https://colab.research.google.com/assets/colab-badge.svg\" alt=\"Open In Colab\"/></a>"
      ]
    },
    {
      "cell_type": "markdown",
      "source": [
        "# Module"
      ],
      "metadata": {
        "id": "VhjfKFxCYbBz"
      }
    },
    {
      "cell_type": "code",
      "execution_count": 5,
      "metadata": {
        "id": "J2D6gFzbYQAC"
      },
      "outputs": [],
      "source": [
        "import tensorflow as tf\n",
        "import numpy as np\n",
        "import random"
      ]
    },
    {
      "cell_type": "markdown",
      "source": [
        "# Dataset"
      ],
      "metadata": {
        "id": "Z7aq6PgzYhGt"
      }
    },
    {
      "cell_type": "code",
      "source": [
        "cifar10 = tf.keras.datasets.cifar10"
      ],
      "metadata": {
        "id": "tQe8sSuMYeHT"
      },
      "execution_count": 2,
      "outputs": []
    },
    {
      "cell_type": "code",
      "source": [
        "(X_train,y_train),(X_test,y_test) = cifar10.load_data()"
      ],
      "metadata": {
        "colab": {
          "base_uri": "https://localhost:8080/"
        },
        "id": "tK1J4faCYjKw",
        "outputId": "d1df6956-d197-441b-8e6a-44fabb96a6a0"
      },
      "execution_count": 3,
      "outputs": [
        {
          "output_type": "stream",
          "name": "stdout",
          "text": [
            "Downloading data from https://www.cs.toronto.edu/~kriz/cifar-10-python.tar.gz\n",
            "170498071/170498071 [==============================] - 2s 0us/step\n"
          ]
        }
      ]
    },
    {
      "cell_type": "code",
      "source": [
        "X_train, X_test = X_train/255., X_test/255."
      ],
      "metadata": {
        "id": "b06XokZWYkzS"
      },
      "execution_count": 4,
      "outputs": []
    },
    {
      "cell_type": "markdown",
      "source": [
        "## Datset 부족하게 만들기"
      ],
      "metadata": {
        "id": "2VtvppLZYy7v"
      }
    },
    {
      "cell_type": "code",
      "source": [
        "x_train_small = list()\n",
        "y_train_small = list()\n",
        "\n",
        "for x,y in zip(X_train,y_train):\n",
        "  # 0번에 대해서는 10%만 사용, 1번은 모두 사용\n",
        "  if (y == 0 and random.randint(0,100) < 10) or y == 1:\n",
        "    x_train_small.append(x[:])\n",
        "    y_train_small.append(y)"
      ],
      "metadata": {
        "id": "a4R9TDEZYl4F"
      },
      "execution_count": 6,
      "outputs": []
    },
    {
      "cell_type": "code",
      "source": [
        "x_test_small = list()\n",
        "y_test_small = list()\n",
        "\n",
        "for x,y in zip(X_test,y_test):\n",
        "  if y == 0 or y== 1:\n",
        "    x_test_small.append(x[:])\n",
        "    y_test_small.append(y)"
      ],
      "metadata": {
        "id": "UU20AfO5ZInW"
      },
      "execution_count": 7,
      "outputs": []
    },
    {
      "cell_type": "code",
      "source": [
        "X_train = np.stack(x_train_small,axis=0)\n",
        "y_train = np.stack(y_train_small,axis=0)"
      ],
      "metadata": {
        "id": "SOmWVu6lZRcb"
      },
      "execution_count": 12,
      "outputs": []
    },
    {
      "cell_type": "code",
      "source": [
        "X_test = np.stack(x_test_small,axis=0)\n",
        "y_test = np.stack(y_test_small,axis=0)"
      ],
      "metadata": {
        "id": "h9N5o9hcZUB8"
      },
      "execution_count": 13,
      "outputs": []
    },
    {
      "cell_type": "code",
      "source": [
        "train_ds = tf.data.Dataset.from_tensor_slices((X_train,y_train)).shuffle(1000).batch(32).prefetch(1024)\n",
        "test_ds = tf.data.Dataset.from_tensor_slices((X_test,y_test)).shuffle(1000).batch(32).prefetch(1024)"
      ],
      "metadata": {
        "id": "GZN4aqwIZZZy"
      },
      "execution_count": 14,
      "outputs": []
    },
    {
      "cell_type": "markdown",
      "source": [
        "# 모형"
      ],
      "metadata": {
        "id": "wcMi_vDSZneQ"
      }
    },
    {
      "cell_type": "code",
      "source": [
        "class MyModel(tf.keras.Model):\n",
        "\n",
        "  def __init__(self):\n",
        "    super().__init__()\n",
        "    self.flatten = tf.keras.layers.Flatten()\n",
        "    self.dense1 = tf.keras.layers.Dense(1024,activation='relu')\n",
        "    self.dense2 = tf.keras.layers.Dense(1,activation='sigmoid')\n",
        "\n",
        "  def call(self,x,training=False,mask=None):\n",
        "    x = self.flatten(x)\n",
        "    x = self.dense1(x)\n",
        "    out = self.dense2(x)\n",
        "    return out"
      ],
      "metadata": {
        "id": "qeMWRZ6PZjDS"
      },
      "execution_count": 15,
      "outputs": []
    },
    {
      "cell_type": "markdown",
      "source": [
        "# 학습"
      ],
      "metadata": {
        "id": "aE29Q9RHZ9qo"
      }
    },
    {
      "cell_type": "code",
      "source": [
        "model = MyModel()"
      ],
      "metadata": {
        "id": "BEsAk0CKZ81R"
      },
      "execution_count": 16,
      "outputs": []
    },
    {
      "cell_type": "code",
      "source": [
        "model.compile(optimizer='adam',loss='binary_crossentropy',metrics=['accuracy',tf.keras.metrics.Precision(name='precision'),tf.keras.metrics.Recall(name='recall')])"
      ],
      "metadata": {
        "id": "ObLkmHsDZ-6Y"
      },
      "execution_count": 17,
      "outputs": []
    },
    {
      "cell_type": "code",
      "source": [
        "model.fit(train_ds,validation_data=test_ds,epochs=10)"
      ],
      "metadata": {
        "colab": {
          "base_uri": "https://localhost:8080/"
        },
        "id": "Ji5fZQ08aKgq",
        "outputId": "8b321ca5-95ef-43f4-f26c-1036453877a6"
      },
      "execution_count": 18,
      "outputs": [
        {
          "output_type": "stream",
          "name": "stdout",
          "text": [
            "Epoch 1/10\n",
            "172/172 [==============================] - 9s 43ms/step - loss: 0.3621 - accuracy: 0.9077 - precision: 0.9181 - recall: 0.9866 - val_loss: 0.6198 - val_accuracy: 0.6980 - val_precision: 0.6284 - val_recall: 0.9690\n",
            "Epoch 2/10\n",
            "172/172 [==============================] - 7s 41ms/step - loss: 0.2510 - accuracy: 0.9123 - precision: 0.9283 - recall: 0.9792 - val_loss: 0.8131 - val_accuracy: 0.6185 - val_precision: 0.5682 - val_recall: 0.9870\n",
            "Epoch 3/10\n",
            "172/172 [==============================] - 8s 45ms/step - loss: 0.2273 - accuracy: 0.9203 - precision: 0.9333 - recall: 0.9826 - val_loss: 0.8899 - val_accuracy: 0.6240 - val_precision: 0.5717 - val_recall: 0.9890\n",
            "Epoch 4/10\n",
            "172/172 [==============================] - 10s 60ms/step - loss: 0.2062 - accuracy: 0.9279 - precision: 0.9405 - recall: 0.9830 - val_loss: 1.1474 - val_accuracy: 0.5600 - val_precision: 0.5321 - val_recall: 0.9940\n",
            "Epoch 5/10\n",
            "172/172 [==============================] - 8s 47ms/step - loss: 0.2099 - accuracy: 0.9279 - precision: 0.9413 - recall: 0.9820 - val_loss: 1.4817 - val_accuracy: 0.5220 - val_precision: 0.5113 - val_recall: 0.9990\n",
            "Epoch 6/10\n",
            "172/172 [==============================] - 8s 47ms/step - loss: 0.1974 - accuracy: 0.9294 - precision: 0.9413 - recall: 0.9838 - val_loss: 1.0347 - val_accuracy: 0.6005 - val_precision: 0.5564 - val_recall: 0.9920\n",
            "Epoch 7/10\n",
            "172/172 [==============================] - 9s 54ms/step - loss: 0.1852 - accuracy: 0.9339 - precision: 0.9460 - recall: 0.9836 - val_loss: 0.5232 - val_accuracy: 0.7690 - val_precision: 0.6935 - val_recall: 0.9640\n",
            "Epoch 8/10\n",
            "172/172 [==============================] - 9s 55ms/step - loss: 0.1831 - accuracy: 0.9332 - precision: 0.9475 - recall: 0.9810 - val_loss: 0.5783 - val_accuracy: 0.7545 - val_precision: 0.6764 - val_recall: 0.9760\n",
            "Epoch 9/10\n",
            "172/172 [==============================] - 13s 73ms/step - loss: 0.1748 - accuracy: 0.9358 - precision: 0.9481 - recall: 0.9832 - val_loss: 0.4776 - val_accuracy: 0.8000 - val_precision: 0.7311 - val_recall: 0.9490\n",
            "Epoch 10/10\n",
            "172/172 [==============================] - 8s 47ms/step - loss: 0.1659 - accuracy: 0.9387 - precision: 0.9495 - recall: 0.9850 - val_loss: 0.5770 - val_accuracy: 0.7625 - val_precision: 0.6863 - val_recall: 0.9670\n"
          ]
        },
        {
          "output_type": "execute_result",
          "data": {
            "text/plain": [
              "<keras.callbacks.History at 0x7fbae07ea0e0>"
            ]
          },
          "metadata": {},
          "execution_count": 18
        }
      ]
    },
    {
      "cell_type": "markdown",
      "source": [
        "정밀도가 낮고 재현율이 낮음\n",
        "\n",
        "0번이 적기 때문에 다 1로 찍음"
      ],
      "metadata": {
        "id": "M8vtXR9naYD3"
      }
    },
    {
      "cell_type": "markdown",
      "source": [
        "# Smote"
      ],
      "metadata": {
        "id": "k7qDtp2Eai1G"
      }
    },
    {
      "cell_type": "code",
      "source": [
        "!pip install imblearn"
      ],
      "metadata": {
        "colab": {
          "base_uri": "https://localhost:8080/"
        },
        "id": "QG20EzmqaQlv",
        "outputId": "3460471f-e36c-4c2d-b222-f3fcd9a99353"
      },
      "execution_count": 20,
      "outputs": [
        {
          "output_type": "stream",
          "name": "stdout",
          "text": [
            "Collecting imblearn\n",
            "  Downloading imblearn-0.0-py2.py3-none-any.whl (1.9 kB)\n",
            "Requirement already satisfied: imbalanced-learn in /usr/local/lib/python3.10/dist-packages (from imblearn) (0.10.1)\n",
            "Requirement already satisfied: numpy>=1.17.3 in /usr/local/lib/python3.10/dist-packages (from imbalanced-learn->imblearn) (1.22.4)\n",
            "Requirement already satisfied: scipy>=1.3.2 in /usr/local/lib/python3.10/dist-packages (from imbalanced-learn->imblearn) (1.10.1)\n",
            "Requirement already satisfied: scikit-learn>=1.0.2 in /usr/local/lib/python3.10/dist-packages (from imbalanced-learn->imblearn) (1.2.2)\n",
            "Requirement already satisfied: joblib>=1.1.1 in /usr/local/lib/python3.10/dist-packages (from imbalanced-learn->imblearn) (1.2.0)\n",
            "Requirement already satisfied: threadpoolctl>=2.0.0 in /usr/local/lib/python3.10/dist-packages (from imbalanced-learn->imblearn) (3.1.0)\n",
            "Installing collected packages: imblearn\n",
            "Successfully installed imblearn-0.0\n"
          ]
        }
      ]
    },
    {
      "cell_type": "code",
      "source": [
        "from imblearn.over_sampling import BorderlineSMOTE"
      ],
      "metadata": {
        "id": "9GToEX6fanKW"
      },
      "execution_count": 22,
      "outputs": []
    },
    {
      "cell_type": "code",
      "source": [
        "smote = BorderlineSMOTE()"
      ],
      "metadata": {
        "id": "CEEM1_meazKQ"
      },
      "execution_count": 23,
      "outputs": []
    },
    {
      "cell_type": "code",
      "source": [
        "x_train = X_train.reshape((X_train.shape[0],X_train.shape[1] * X_train.shape[2] * X_train.shape[3]))\n",
        "x_test = X_test.reshape((X_test.shape[0],-1))"
      ],
      "metadata": {
        "id": "3PHI1TPpbDni"
      },
      "execution_count": 26,
      "outputs": []
    },
    {
      "cell_type": "code",
      "source": [
        "x_train,y_train = smote.fit_resample(x_train,y_train)"
      ],
      "metadata": {
        "id": "PqIy8xZGa5hc"
      },
      "execution_count": 28,
      "outputs": []
    },
    {
      "cell_type": "code",
      "source": [
        "train_ds = tf.data.Dataset.from_tensor_slices((x_train,y_train)).shuffle(1000).batch(32).prefetch(1024)\n",
        "test_ds = tf.data.Dataset.from_tensor_slices((x_test,y_test)).batch(32).prefetch(1024)"
      ],
      "metadata": {
        "id": "0fOQmnl5a88m"
      },
      "execution_count": 29,
      "outputs": []
    },
    {
      "cell_type": "code",
      "source": [
        "model.fit(train_ds,validation_data=test_ds,epochs=10)"
      ],
      "metadata": {
        "colab": {
          "base_uri": "https://localhost:8080/"
        },
        "id": "rPkHtpTEbhjs",
        "outputId": "c982c67b-4030-45e6-c3ab-780d7acee787"
      },
      "execution_count": 30,
      "outputs": [
        {
          "output_type": "stream",
          "name": "stdout",
          "text": [
            "Epoch 1/10\n",
            "313/313 [==============================] - 17s 50ms/step - loss: 0.1528 - accuracy: 0.9468 - precision: 0.9436 - recall: 0.9502 - val_loss: 0.7434 - val_accuracy: 0.7305 - val_precision: 0.9390 - val_recall: 0.4930\n",
            "Epoch 2/10\n",
            "313/313 [==============================] - 17s 53ms/step - loss: 0.1609 - accuracy: 0.9424 - precision: 0.9397 - recall: 0.9452 - val_loss: 1.0636 - val_accuracy: 0.6725 - val_precision: 0.9551 - val_recall: 0.3620\n",
            "Epoch 3/10\n",
            "313/313 [==============================] - 14s 45ms/step - loss: 0.1985 - accuracy: 0.9389 - precision: 0.9386 - recall: 0.9390 - val_loss: 0.7584 - val_accuracy: 0.7295 - val_precision: 0.9355 - val_recall: 0.4930\n",
            "Epoch 4/10\n",
            "313/313 [==============================] - 14s 44ms/step - loss: 0.1448 - accuracy: 0.9490 - precision: 0.9488 - recall: 0.9490 - val_loss: 0.9877 - val_accuracy: 0.6950 - val_precision: 0.9514 - val_recall: 0.4110\n",
            "Epoch 5/10\n",
            "313/313 [==============================] - 15s 48ms/step - loss: 0.1638 - accuracy: 0.9474 - precision: 0.9488 - recall: 0.9456 - val_loss: 0.6819 - val_accuracy: 0.7630 - val_precision: 0.9413 - val_recall: 0.5610\n",
            "Epoch 6/10\n",
            "313/313 [==============================] - 13s 42ms/step - loss: 0.1490 - accuracy: 0.9502 - precision: 0.9515 - recall: 0.9486 - val_loss: 0.8149 - val_accuracy: 0.7335 - val_precision: 0.9431 - val_recall: 0.4970\n",
            "Epoch 7/10\n",
            "313/313 [==============================] - 14s 44ms/step - loss: 0.1273 - accuracy: 0.9555 - precision: 0.9563 - recall: 0.9544 - val_loss: 0.8309 - val_accuracy: 0.7370 - val_precision: 0.9405 - val_recall: 0.5060\n",
            "Epoch 8/10\n",
            "313/313 [==============================] - 13s 43ms/step - loss: 0.1462 - accuracy: 0.9523 - precision: 0.9538 - recall: 0.9504 - val_loss: 0.5585 - val_accuracy: 0.8075 - val_precision: 0.9105 - val_recall: 0.6820\n",
            "Epoch 9/10\n",
            "313/313 [==============================] - 14s 44ms/step - loss: 0.1119 - accuracy: 0.9605 - precision: 0.9647 - recall: 0.9560 - val_loss: 0.7449 - val_accuracy: 0.7655 - val_precision: 0.9345 - val_recall: 0.5710\n",
            "Epoch 10/10\n",
            "313/313 [==============================] - 13s 43ms/step - loss: 0.1202 - accuracy: 0.9591 - precision: 0.9623 - recall: 0.9554 - val_loss: 0.5267 - val_accuracy: 0.8135 - val_precision: 0.8953 - val_recall: 0.7100\n"
          ]
        },
        {
          "output_type": "execute_result",
          "data": {
            "text/plain": [
              "<keras.callbacks.History at 0x7fba78c78790>"
            ]
          },
          "metadata": {},
          "execution_count": 30
        }
      ]
    },
    {
      "cell_type": "markdown",
      "source": [
        "정밀도와 검증 정확도가 올라감"
      ],
      "metadata": {
        "id": "4xXz8XcMbqIU"
      }
    },
    {
      "cell_type": "code",
      "source": [],
      "metadata": {
        "id": "ktyvJAIRbnEY"
      },
      "execution_count": null,
      "outputs": []
    }
  ]
}