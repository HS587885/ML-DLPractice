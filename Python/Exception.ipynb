{
 "cells": [
  {
   "cell_type": "code",
   "execution_count": 3,
   "id": "99a8e40e",
   "metadata": {},
   "outputs": [
    {
     "name": "stdout",
     "output_type": "stream",
     "text": [
      "Not divided by 0\n",
      "1 10\n",
      "2\n",
      "name 'v' is not defined\n",
      "2 5\n",
      "3\n",
      "name 'v' is not defined\n",
      "3 3\n",
      "4\n",
      "name 'v' is not defined\n",
      "4 2\n",
      "5\n",
      "name 'v' is not defined\n",
      "5 2\n",
      "list index out of range\n",
      "6 1\n",
      "list index out of range\n",
      "7 1\n",
      "list index out of range\n",
      "8 1\n",
      "list index out of range\n",
      "9 1\n",
      "list index out of range\n"
     ]
    }
   ],
   "source": [
    "a = [1,2,3,4,5]\n",
    "\n",
    "for i in range(10):\n",
    "    try:\n",
    "        print(i, 10 // i)\n",
    "        print(a[i])\n",
    "        print(v)\n",
    "    except ZeroDivisionError:\n",
    "        print('Not divided by 0')\n",
    "    except IndexError as e:\n",
    "        print(e)\n",
    "    except Exception as e: # 권장하지 않음\n",
    "        print(e)"
   ]
  },
  {
   "cell_type": "code",
   "execution_count": 5,
   "id": "3cf1cd3e",
   "metadata": {},
   "outputs": [
    {
     "name": "stdout",
     "output_type": "stream",
     "text": [
      "Not devided by 0\n",
      "10\n",
      "5\n",
      "3\n",
      "2\n",
      "2\n",
      "1\n",
      "1\n",
      "1\n",
      "1\n"
     ]
    }
   ],
   "source": [
    "for i in range(10):\n",
    "    try:\n",
    "        result = 10//i\n",
    "    except ZeroDivisionError:\n",
    "        print('Not devided by 0')\n",
    "    else:\n",
    "        print(10//i)"
   ]
  },
  {
   "cell_type": "code",
   "execution_count": 8,
   "id": "7040b18d",
   "metadata": {},
   "outputs": [
    {
     "name": "stdout",
     "output_type": "stream",
     "text": [
      "Not devided by 0\n",
      "0 ------- 1\n",
      "10\n",
      "1 ------- 10\n",
      "5\n",
      "2 ------- 5\n",
      "3\n",
      "3 ------- 3\n",
      "2\n",
      "4 ------- 2\n",
      "2\n",
      "5 ------- 2\n",
      "1\n",
      "6 ------- 1\n",
      "1\n",
      "7 ------- 1\n",
      "1\n",
      "8 ------- 1\n",
      "1\n",
      "9 ------- 1\n"
     ]
    }
   ],
   "source": [
    "for i in range(10):\n",
    "    try:\n",
    "        result = 10//i\n",
    "    except ZeroDivisionError:\n",
    "        print('Not devided by 0')\n",
    "    else:\n",
    "        print(10//i)\n",
    "    finally:\n",
    "        print(i,'-------',result)"
   ]
  },
  {
   "cell_type": "code",
   "execution_count": 9,
   "id": "0283342b",
   "metadata": {},
   "outputs": [
    {
     "name": "stdout",
     "output_type": "stream",
     "text": [
      "변환할 정수 값을 입력해주세요10\n",
      "정수값으로 변환된 숫자 - 10\n",
      "변환할 정수 값을 입력해주세요50\n",
      "정수값으로 변환된 숫자 - 50\n",
      "변환할 정수 값을 입력해주세요10.1\n"
     ]
    },
    {
     "ename": "ValueError",
     "evalue": "숫자값을 입력하지 않으셨습니다",
     "output_type": "error",
     "traceback": [
      "\u001b[1;31m---------------------------------------------------------------------------\u001b[0m",
      "\u001b[1;31mValueError\u001b[0m                                Traceback (most recent call last)",
      "\u001b[1;32m~\\AppData\\Local\\Temp\\ipykernel_2192\\1944473204.py\u001b[0m in \u001b[0;36m<module>\u001b[1;34m\u001b[0m\n\u001b[0;32m      3\u001b[0m     \u001b[1;32mfor\u001b[0m \u001b[0mdigit\u001b[0m \u001b[1;32min\u001b[0m \u001b[0mvalue\u001b[0m\u001b[1;33m:\u001b[0m\u001b[1;33m\u001b[0m\u001b[1;33m\u001b[0m\u001b[0m\n\u001b[0;32m      4\u001b[0m         \u001b[1;32mif\u001b[0m \u001b[0mdigit\u001b[0m \u001b[1;32mnot\u001b[0m \u001b[1;32min\u001b[0m \u001b[1;34m'0123456789'\u001b[0m\u001b[1;33m:\u001b[0m\u001b[1;33m\u001b[0m\u001b[1;33m\u001b[0m\u001b[0m\n\u001b[1;32m----> 5\u001b[1;33m             \u001b[1;32mraise\u001b[0m \u001b[0mValueError\u001b[0m\u001b[1;33m(\u001b[0m\u001b[1;34m'숫자값을 입력하지 않으셨습니다'\u001b[0m\u001b[1;33m)\u001b[0m\u001b[1;33m\u001b[0m\u001b[1;33m\u001b[0m\u001b[0m\n\u001b[0m\u001b[0;32m      6\u001b[0m     \u001b[0mprint\u001b[0m\u001b[1;33m(\u001b[0m\u001b[1;34m'정수값으로 변환된 숫자 -'\u001b[0m\u001b[1;33m,\u001b[0m\u001b[0mint\u001b[0m\u001b[1;33m(\u001b[0m\u001b[0mvalue\u001b[0m\u001b[1;33m)\u001b[0m\u001b[1;33m)\u001b[0m\u001b[1;33m\u001b[0m\u001b[1;33m\u001b[0m\u001b[0m\n\u001b[0;32m      7\u001b[0m \u001b[1;33m\u001b[0m\u001b[0m\n",
      "\u001b[1;31mValueError\u001b[0m: 숫자값을 입력하지 않으셨습니다"
     ]
    }
   ],
   "source": [
    "while True:\n",
    "    value = input('변환할 정수 값을 입력해주세요')\n",
    "    for digit in value:\n",
    "        if digit not in '0123456789':\n",
    "            raise ValueError('숫자값을 입력하지 않으셨습니다')\n",
    "    print('정수값으로 변환된 숫자 -',int(value))\n",
    "        "
   ]
  },
  {
   "cell_type": "code",
   "execution_count": 11,
   "id": "0eac9363",
   "metadata": {},
   "outputs": [
    {
     "ename": "AssertionError",
     "evalue": "",
     "output_type": "error",
     "traceback": [
      "\u001b[1;31m---------------------------------------------------------------------------\u001b[0m",
      "\u001b[1;31mAssertionError\u001b[0m                            Traceback (most recent call last)",
      "\u001b[1;32m~\\AppData\\Local\\Temp\\ipykernel_2192\\695994170.py\u001b[0m in \u001b[0;36m<module>\u001b[1;34m\u001b[0m\n\u001b[0;32m      3\u001b[0m     \u001b[1;32mreturn\u001b[0m \u001b[0mbin\u001b[0m\u001b[1;33m(\u001b[0m\u001b[0mdecimal_number\u001b[0m\u001b[1;33m)\u001b[0m\u001b[1;33m\u001b[0m\u001b[1;33m\u001b[0m\u001b[0m\n\u001b[0;32m      4\u001b[0m \u001b[1;33m\u001b[0m\u001b[0m\n\u001b[1;32m----> 5\u001b[1;33m \u001b[0mprint\u001b[0m\u001b[1;33m(\u001b[0m\u001b[0mget_binary_number\u001b[0m\u001b[1;33m(\u001b[0m\u001b[1;36m10.0\u001b[0m\u001b[1;33m)\u001b[0m\u001b[1;33m)\u001b[0m\u001b[1;33m\u001b[0m\u001b[1;33m\u001b[0m\u001b[0m\n\u001b[0m",
      "\u001b[1;32m~\\AppData\\Local\\Temp\\ipykernel_2192\\695994170.py\u001b[0m in \u001b[0;36mget_binary_number\u001b[1;34m(decimal_number)\u001b[0m\n\u001b[0;32m      1\u001b[0m \u001b[1;32mdef\u001b[0m \u001b[0mget_binary_number\u001b[0m\u001b[1;33m(\u001b[0m\u001b[0mdecimal_number\u001b[0m\u001b[1;33m)\u001b[0m\u001b[1;33m:\u001b[0m\u001b[1;33m\u001b[0m\u001b[1;33m\u001b[0m\u001b[0m\n\u001b[1;32m----> 2\u001b[1;33m     \u001b[1;32massert\u001b[0m \u001b[0misinstance\u001b[0m\u001b[1;33m(\u001b[0m\u001b[0mdecimal_number\u001b[0m\u001b[1;33m,\u001b[0m\u001b[0mint\u001b[0m\u001b[1;33m)\u001b[0m\u001b[1;33m\u001b[0m\u001b[1;33m\u001b[0m\u001b[0m\n\u001b[0m\u001b[0;32m      3\u001b[0m     \u001b[1;32mreturn\u001b[0m \u001b[0mbin\u001b[0m\u001b[1;33m(\u001b[0m\u001b[0mdecimal_number\u001b[0m\u001b[1;33m)\u001b[0m\u001b[1;33m\u001b[0m\u001b[1;33m\u001b[0m\u001b[0m\n\u001b[0;32m      4\u001b[0m \u001b[1;33m\u001b[0m\u001b[0m\n\u001b[0;32m      5\u001b[0m \u001b[0mprint\u001b[0m\u001b[1;33m(\u001b[0m\u001b[0mget_binary_number\u001b[0m\u001b[1;33m(\u001b[0m\u001b[1;36m10.0\u001b[0m\u001b[1;33m)\u001b[0m\u001b[1;33m)\u001b[0m\u001b[1;33m\u001b[0m\u001b[1;33m\u001b[0m\u001b[0m\n",
      "\u001b[1;31mAssertionError\u001b[0m: "
     ]
    }
   ],
   "source": [
    "def get_binary_number(decimal_number):\n",
    "    assert isinstance(decimal_number,int)\n",
    "    return bin(decimal_number)\n",
    "\n",
    "print(get_binary_number(10.0))"
   ]
  },
  {
   "cell_type": "code",
   "execution_count": 15,
   "id": "26329b2a",
   "metadata": {},
   "outputs": [
    {
     "name": "stdout",
     "output_type": "stream",
     "text": [
      "그대 기억이 지난 사랑이\n",
      "내 안을 파고드는 가시가 되어\n",
      "제발 가라고 아주 가라고\n",
      "애써도 나를 괴롭히는데\n"
     ]
    }
   ],
   "source": [
    "f = open(r'sample_txt.txt','r',encoding='utf-8') #주소 연결\n",
    "contents = f.read()\n",
    "print(contents)\n",
    "f.close()"
   ]
  },
  {
   "cell_type": "code",
   "execution_count": 17,
   "id": "d567eb7c",
   "metadata": {},
   "outputs": [
    {
     "name": "stdout",
     "output_type": "stream",
     "text": [
      "그대 기억이 지난 사랑이\n",
      "내 안을 파고드는 가시가 되어\n",
      "제발 가라고 아주 가라고\n",
      "애써도 나를 괴롭히는데\n"
     ]
    }
   ],
   "source": [
    "with open('sample_txt.txt','r',encoding='utf=8') as f:\n",
    "    contents = f.read()\n",
    "    print(contents)"
   ]
  },
  {
   "cell_type": "code",
   "execution_count": 18,
   "id": "a916ae0b",
   "metadata": {},
   "outputs": [
    {
     "name": "stdout",
     "output_type": "stream",
     "text": [
      "['그대 기억이 지난 사랑이\\n', '내 안을 파고드는 가시가 되어\\n', '제발 가라고 아주 가라고\\n', '애써도 나를 괴롭히는데']\n"
     ]
    }
   ],
   "source": [
    "with open('sample_txt.txt','r',encoding='utf=8') as f:\n",
    "    contents = f.readlines() # 한 번에 memory에 올림\n",
    "    print(contents)"
   ]
  },
  {
   "cell_type": "code",
   "execution_count": 19,
   "id": "04ab3310",
   "metadata": {},
   "outputs": [
    {
     "name": "stdout",
     "output_type": "stream",
     "text": [
      "0 === 그대 기억이 지난 사랑이\n",
      "1 === 내 안을 파고드는 가시가 되어\n",
      "2 === 제발 가라고 아주 가라고\n",
      "3 === 애써도 나를 괴롭히는데\n"
     ]
    }
   ],
   "source": [
    "with open('sample_txt.txt','r',encoding='utf=8') as f:\n",
    "    i=0\n",
    "    while True:\n",
    "        line = f.readline() #한 줄씩\n",
    "        if not line:\n",
    "            break \n",
    "            \n",
    "        print(str(i) + ' === '+line.replace('\\n',''))\n",
    "        i += 1"
   ]
  },
  {
   "cell_type": "code",
   "execution_count": 20,
   "id": "79061a50",
   "metadata": {},
   "outputs": [
    {
     "name": "stdout",
     "output_type": "stream",
     "text": [
      "Total Number of Characters :  57\n",
      "Total Number of Words :  13\n",
      "Total Number of Lines :  4\n"
     ]
    }
   ],
   "source": [
    "with open('sample_txt.txt','r',encoding='utf=8') as f:\n",
    "    contents = f.read()\n",
    "    word_list = contents.split(' ')\n",
    "    line_list = contents.split('\\n')\n",
    "    \n",
    "print('Total Number of Characters : ',len(contents))\n",
    "print('Total Number of Words : ',len(word_list))\n",
    "print('Total Number of Lines : ',len(line_list))"
   ]
  },
  {
   "cell_type": "markdown",
   "id": "7f6624c5",
   "metadata": {},
   "source": [
    "## File write"
   ]
  },
  {
   "cell_type": "code",
   "execution_count": 22,
   "id": "2e6d948a",
   "metadata": {},
   "outputs": [],
   "source": [
    "f = open('count_log.txt',mode='w',encoding='utf8')\n",
    "for i in range(1,11):\n",
    "    data = '{0}번째 줄입니다.\\n'.format(i)\n",
    "    f.write(data)\n",
    "f.close()"
   ]
  },
  {
   "cell_type": "code",
   "execution_count": 24,
   "id": "57423f64",
   "metadata": {},
   "outputs": [],
   "source": [
    "with open('count_log.txt',mode='a',encoding='utf-8') as f:\n",
    "    for i in range(1,11):\n",
    "        data = '%d번째 줄입니다' % i\n",
    "        f.write(data)"
   ]
  },
  {
   "cell_type": "code",
   "execution_count": 25,
   "id": "c1ff6a2d",
   "metadata": {},
   "outputs": [
    {
     "name": "stdout",
     "output_type": "stream",
     "text": [
      "1번째 줄입니다.\n",
      "2번째 줄입니다.\n",
      "3번째 줄입니다.\n",
      "4번째 줄입니다.\n",
      "5번째 줄입니다.\n",
      "6번째 줄입니다.\n",
      "7번째 줄입니다.\n",
      "8번째 줄입니다.\n",
      "9번째 줄입니다.\n",
      "10번째 줄입니다.\n",
      "1번째 줄입니다2번째 줄입니다3번째 줄입니다4번째 줄입니다5번째 줄입니다6번째 줄입니다7번째 줄입니다8번째 줄입니다9번째 줄입니다10번째 줄입니다\n"
     ]
    }
   ],
   "source": [
    "with open('count_log.txt','r',encoding='utf=8') as f:\n",
    "    contents = f.read()\n",
    "    print(contents)"
   ]
  },
  {
   "cell_type": "markdown",
   "id": "5651b270",
   "metadata": {},
   "source": [
    "## OS module"
   ]
  },
  {
   "cell_type": "code",
   "execution_count": 26,
   "id": "aadf0c01",
   "metadata": {},
   "outputs": [],
   "source": [
    "import os\n",
    "os.mkdir('dongho')"
   ]
  },
  {
   "cell_type": "code",
   "execution_count": 28,
   "id": "7f1d3146",
   "metadata": {},
   "outputs": [
    {
     "name": "stdout",
     "output_type": "stream",
     "text": [
      "Already created\n"
     ]
    }
   ],
   "source": [
    "try:\n",
    "    os.mkdir('abc')\n",
    "except FileExistsError as e:\n",
    "    print('Already created')"
   ]
  },
  {
   "cell_type": "code",
   "execution_count": 29,
   "id": "5b749c21",
   "metadata": {},
   "outputs": [
    {
     "data": {
      "text/plain": [
       "True"
      ]
     },
     "execution_count": 29,
     "metadata": {},
     "output_type": "execute_result"
    }
   ],
   "source": [
    "os.path.exists('abc')"
   ]
  },
  {
   "cell_type": "code",
   "execution_count": 30,
   "id": "8c7e7d6e",
   "metadata": {},
   "outputs": [
    {
     "data": {
      "text/plain": [
       "False"
      ]
     },
     "execution_count": 30,
     "metadata": {},
     "output_type": "execute_result"
    }
   ],
   "source": [
    "os.path.isfile('file.ipynb')"
   ]
  },
  {
   "cell_type": "code",
   "execution_count": 31,
   "id": "bd886122",
   "metadata": {},
   "outputs": [
    {
     "data": {
      "text/plain": [
       "'abc\\\\dongho'"
      ]
     },
     "execution_count": 31,
     "metadata": {},
     "output_type": "execute_result"
    }
   ],
   "source": [
    "import shutil\n",
    "\n",
    "source = 'sample_txt.txt'\n",
    "dest = os.path.join('abc','dongho')\n",
    "shutil.copy(source,dest)"
   ]
  },
  {
   "cell_type": "code",
   "execution_count": 32,
   "id": "7bb6d1d2",
   "metadata": {},
   "outputs": [],
   "source": [
    "import pathlib"
   ]
  },
  {
   "cell_type": "code",
   "execution_count": 33,
   "id": "b8589085",
   "metadata": {},
   "outputs": [
    {
     "data": {
      "text/plain": [
       "WindowsPath('C:/Users/user')"
      ]
     },
     "execution_count": 33,
     "metadata": {},
     "output_type": "execute_result"
    }
   ],
   "source": [
    "cwd = pathlib.Path.cwd()\n",
    "cwd"
   ]
  },
  {
   "cell_type": "code",
   "execution_count": 34,
   "id": "c52b77e5",
   "metadata": {},
   "outputs": [
    {
     "data": {
      "text/plain": [
       "WindowsPath('C:/Users')"
      ]
     },
     "execution_count": 34,
     "metadata": {},
     "output_type": "execute_result"
    }
   ],
   "source": [
    "cwd.parent"
   ]
  },
  {
   "cell_type": "code",
   "execution_count": 35,
   "id": "60517ee0",
   "metadata": {},
   "outputs": [
    {
     "data": {
      "text/plain": [
       "[WindowsPath('C:/')]"
      ]
     },
     "execution_count": 35,
     "metadata": {},
     "output_type": "execute_result"
    }
   ],
   "source": [
    "list(cwd.parent.parents)"
   ]
  },
  {
   "cell_type": "code",
   "execution_count": 36,
   "id": "73411182",
   "metadata": {},
   "outputs": [
    {
     "data": {
      "text/plain": [
       "[WindowsPath('C:/Users/user/.ipynb_checkpoints'),\n",
       " WindowsPath('C:/Users/user/.ipython'),\n",
       " WindowsPath('C:/Users/user/.jupyter'),\n",
       " WindowsPath('C:/Users/user/.keras'),\n",
       " WindowsPath('C:/Users/user/.matplotlib'),\n",
       " WindowsPath('C:/Users/user/.ssh'),\n",
       " WindowsPath('C:/Users/user/.vscode'),\n",
       " WindowsPath('C:/Users/user/3D Objects'),\n",
       " WindowsPath('C:/Users/user/abc'),\n",
       " WindowsPath('C:/Users/user/anaconda3'),\n",
       " WindowsPath('C:/Users/user/AppData'),\n",
       " WindowsPath('C:/Users/user/Application Data'),\n",
       " WindowsPath('C:/Users/user/command_data.csv'),\n",
       " WindowsPath('C:/Users/user/Contacts'),\n",
       " WindowsPath('C:/Users/user/Cookies'),\n",
       " WindowsPath('C:/Users/user/count_log.txt'),\n",
       " WindowsPath('C:/Users/user/dataset'),\n",
       " WindowsPath('C:/Users/user/Desktop'),\n",
       " WindowsPath('C:/Users/user/Documents'),\n",
       " WindowsPath('C:/Users/user/dongho'),\n",
       " WindowsPath('C:/Users/user/Downloads'),\n",
       " WindowsPath('C:/Users/user/Exception.ipynb'),\n",
       " WindowsPath('C:/Users/user/Favorites'),\n",
       " WindowsPath('C:/Users/user/GradientDecent.ipynb'),\n",
       " WindowsPath('C:/Users/user/IntelGraphicsProfiles'),\n",
       " WindowsPath('C:/Users/user/Links'),\n",
       " WindowsPath('C:/Users/user/Local Settings'),\n",
       " WindowsPath('C:/Users/user/Music'),\n",
       " WindowsPath('C:/Users/user/My Documents'),\n",
       " WindowsPath('C:/Users/user/NetHood'),\n",
       " WindowsPath('C:/Users/user/NTUSER.DAT'),\n",
       " WindowsPath('C:/Users/user/ntuser.dat.LOG1'),\n",
       " WindowsPath('C:/Users/user/ntuser.dat.LOG2'),\n",
       " WindowsPath('C:/Users/user/NTUSER.DAT{9a63f72b-f016-11eb-abd1-e884a5eb97d0}.TM.blf'),\n",
       " WindowsPath('C:/Users/user/NTUSER.DAT{9a63f72b-f016-11eb-abd1-e884a5eb97d0}.TMContainer00000000000000000001.regtrans-ms'),\n",
       " WindowsPath('C:/Users/user/NTUSER.DAT{9a63f72b-f016-11eb-abd1-e884a5eb97d0}.TMContainer00000000000000000002.regtrans-ms'),\n",
       " WindowsPath('C:/Users/user/ntuser.ini'),\n",
       " WindowsPath('C:/Users/user/OneDrive'),\n",
       " WindowsPath('C:/Users/user/OneDrive - 연세대학교 (Yonsei University)'),\n",
       " WindowsPath('C:/Users/user/OOP.ipynb'),\n",
       " WindowsPath('C:/Users/user/Pictures'),\n",
       " WindowsPath('C:/Users/user/PrintHood'),\n",
       " WindowsPath('C:/Users/user/Recent'),\n",
       " WindowsPath('C:/Users/user/sample_txt.txt'),\n",
       " WindowsPath('C:/Users/user/Saved Games'),\n",
       " WindowsPath('C:/Users/user/Searches'),\n",
       " WindowsPath('C:/Users/user/SendTo'),\n",
       " WindowsPath('C:/Users/user/ShallowNeuralNet.ipynb'),\n",
       " WindowsPath('C:/Users/user/Templates'),\n",
       " WindowsPath('C:/Users/user/Videos'),\n",
       " WindowsPath('C:/Users/user/데이터구조.ipynb'),\n",
       " WindowsPath('C:/Users/user/시작 메뉴')]"
      ]
     },
     "execution_count": 36,
     "metadata": {},
     "output_type": "execute_result"
    }
   ],
   "source": [
    "list(cwd.glob('*'))"
   ]
  },
  {
   "cell_type": "code",
   "execution_count": 38,
   "id": "1f03b9e0",
   "metadata": {},
   "outputs": [],
   "source": [
    "if not os.path.isdir('log'):\n",
    "    os.mkdir('log')\n",
    "if not os.path.exists('log/count_log.txt'):\n",
    "    f = open('log/counht_log.txt','w',encoding='utf8')\n",
    "    f.write('기록이 시작됩니다\\n')\n",
    "    f.close()\n",
    "    \n",
    "with open('log/count_log.txt','a',encoding='utf8') as f:\n",
    "    import random, datetime\n",
    "    for i in range(1,11):\n",
    "        stamp = str(datetime.datetime.now())\n",
    "        value = random.random() * 1000000\n",
    "        log_line = stamp + '\\t' + str(value) + '값이 생성되었습니다' + '\\n'\n",
    "        f.write(log_line)"
   ]
  },
  {
   "cell_type": "code",
   "execution_count": 40,
   "id": "172b322c",
   "metadata": {},
   "outputs": [],
   "source": [
    "with open('log/count_log.txt','r',encoding='utf8') as f:\n",
    "    result = f.read()"
   ]
  },
  {
   "cell_type": "code",
   "execution_count": 41,
   "id": "b4136a06",
   "metadata": {},
   "outputs": [
    {
     "data": {
      "text/plain": [
       "'2022-12-28 18:31:10.999824\\t423560.07294329954값이 생성되었습니다\\n2022-12-28 18:31:10.999824\\t571320.1056588921값이 생성되었습니다\\n2022-12-28 18:31:10.999824\\t723753.7907179857값이 생성되었습니다\\n2022-12-28 18:31:10.999824\\t799523.9543179335값이 생성되었습니다\\n2022-12-28 18:31:10.999824\\t285203.4615527296값이 생성되었습니다\\n2022-12-28 18:31:10.999824\\t158604.17575367092값이 생성되었습니다\\n2022-12-28 18:31:10.999824\\t357524.8541273465값이 생성되었습니다\\n2022-12-28 18:31:10.999824\\t293358.2208546106값이 생성되었습니다\\n2022-12-28 18:31:10.999824\\t948926.7867813632값이 생성되었습니다\\n2022-12-28 18:31:10.999824\\t255136.33761012368값이 생성되었습니다\\n'"
      ]
     },
     "execution_count": 41,
     "metadata": {},
     "output_type": "execute_result"
    }
   ],
   "source": [
    "result"
   ]
  },
  {
   "cell_type": "markdown",
   "id": "1cda592a",
   "metadata": {},
   "source": [
    "## Pickle"
   ]
  },
  {
   "cell_type": "code",
   "execution_count": 42,
   "id": "67055db9",
   "metadata": {},
   "outputs": [],
   "source": [
    "import pickle"
   ]
  },
  {
   "cell_type": "code",
   "execution_count": 43,
   "id": "2e0a2afa",
   "metadata": {},
   "outputs": [],
   "source": [
    "f = open('list.pickle','wb')\n",
    "test = [1,2,3,4,5]\n",
    "pickle.dump(test,f)\n",
    "f.close()"
   ]
  },
  {
   "cell_type": "code",
   "execution_count": 44,
   "id": "0debebdb",
   "metadata": {},
   "outputs": [
    {
     "ename": "NameError",
     "evalue": "name 'test' is not defined",
     "output_type": "error",
     "traceback": [
      "\u001b[1;31m---------------------------------------------------------------------------\u001b[0m",
      "\u001b[1;31mNameError\u001b[0m                                 Traceback (most recent call last)",
      "\u001b[1;32m~\\AppData\\Local\\Temp\\ipykernel_2192\\2785917051.py\u001b[0m in \u001b[0;36m<module>\u001b[1;34m\u001b[0m\n\u001b[0;32m      1\u001b[0m \u001b[1;32mdel\u001b[0m \u001b[0mtest\u001b[0m\u001b[1;33m\u001b[0m\u001b[1;33m\u001b[0m\u001b[0m\n\u001b[1;32m----> 2\u001b[1;33m \u001b[0mtest\u001b[0m\u001b[1;33m\u001b[0m\u001b[1;33m\u001b[0m\u001b[0m\n\u001b[0m",
      "\u001b[1;31mNameError\u001b[0m: name 'test' is not defined"
     ]
    }
   ],
   "source": [
    "del test\n",
    "test"
   ]
  },
  {
   "cell_type": "code",
   "execution_count": 45,
   "id": "4697122f",
   "metadata": {},
   "outputs": [
    {
     "name": "stdout",
     "output_type": "stream",
     "text": [
      "[1, 2, 3, 4, 5]\n"
     ]
    }
   ],
   "source": [
    "f = open('list.pickle','rb')\n",
    "test_pickle = pickle.load(f)\n",
    "print(test_pickle)\n",
    "f.close()"
   ]
  },
  {
   "cell_type": "code",
   "execution_count": 46,
   "id": "c37f762d",
   "metadata": {},
   "outputs": [],
   "source": [
    "class Multiply(object):\n",
    "    def __init__(self, multiplier):\n",
    "        self.multiplier = multiplier\n",
    "        \n",
    "    def multiply(self,number):\n",
    "        return number * self.multiplier"
   ]
  },
  {
   "cell_type": "code",
   "execution_count": 47,
   "id": "e8e3a53f",
   "metadata": {},
   "outputs": [],
   "source": [
    "multiply = Multiply(5)"
   ]
  },
  {
   "cell_type": "code",
   "execution_count": 48,
   "id": "59232729",
   "metadata": {},
   "outputs": [
    {
     "data": {
      "text/plain": [
       "50"
      ]
     },
     "execution_count": 48,
     "metadata": {},
     "output_type": "execute_result"
    }
   ],
   "source": [
    "multiply.multiply(10)"
   ]
  },
  {
   "cell_type": "code",
   "execution_count": 49,
   "id": "46a1e23c",
   "metadata": {},
   "outputs": [],
   "source": [
    "f = open('multiply_object.pickle','wb')\n",
    "pickle.dump(multiply,f)\n",
    "f.close()"
   ]
  },
  {
   "cell_type": "code",
   "execution_count": 50,
   "id": "8d8fc2f7",
   "metadata": {},
   "outputs": [],
   "source": [
    "f = open('multiply_object.pickle','rb')\n",
    "multiply_pickle = pickle.load(f)\n",
    "f.close()"
   ]
  },
  {
   "cell_type": "code",
   "execution_count": 51,
   "id": "201286e9",
   "metadata": {},
   "outputs": [
    {
     "data": {
      "text/plain": [
       "25"
      ]
     },
     "execution_count": 51,
     "metadata": {},
     "output_type": "execute_result"
    }
   ],
   "source": [
    "multiply_pickle.multiply(5)"
   ]
  },
  {
   "cell_type": "code",
   "execution_count": 52,
   "id": "6d9d6dd0",
   "metadata": {},
   "outputs": [],
   "source": [
    "import logging\n",
    "\n",
    "logger = logging.getLogger('main')#logger 선언\n",
    "stream_hander = logging.StreamHandler() # Logger output 방법 선언\n",
    "logger.addHandler(stream_hander) # Logger output 등록"
   ]
  },
  {
   "cell_type": "code",
   "execution_count": null,
   "id": "f0266472",
   "metadata": {},
   "outputs": [],
   "source": []
  }
 ],
 "metadata": {
  "kernelspec": {
   "display_name": "Python 3 (ipykernel)",
   "language": "python",
   "name": "python3"
  },
  "language_info": {
   "codemirror_mode": {
    "name": "ipython",
    "version": 3
   },
   "file_extension": ".py",
   "mimetype": "text/x-python",
   "name": "python",
   "nbconvert_exporter": "python",
   "pygments_lexer": "ipython3",
   "version": "3.9.13"
  }
 },
 "nbformat": 4,
 "nbformat_minor": 5
}
