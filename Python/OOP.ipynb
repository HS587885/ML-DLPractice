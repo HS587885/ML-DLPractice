{
 "cells": [
  {
   "cell_type": "code",
   "execution_count": 13,
   "id": "f72dad48",
   "metadata": {},
   "outputs": [],
   "source": [
    "class SoccerPlayer(object):\n",
    "    def __init__(self,name : str,position : str,back_number:int):\n",
    "        self.name = name\n",
    "        self.position = position\n",
    "        self.back_number = back_number\n",
    "        \n",
    "    def __str__(self):\n",
    "        return \"Hello. My name is %s. My back number is %d\"%(self.name,self.back_number)\n",
    "    \n",
    "    def __add__(self,other):\n",
    "        return self.name + other.name"
   ]
  },
  {
   "cell_type": "code",
   "execution_count": 14,
   "id": "832eb770",
   "metadata": {},
   "outputs": [],
   "source": [
    "abc = SoccerPlayer('son','FW',7)\n",
    "park = SoccerPlayer('park','MF',13)"
   ]
  },
  {
   "cell_type": "code",
   "execution_count": 12,
   "id": "d1356440",
   "metadata": {},
   "outputs": [
    {
     "name": "stdout",
     "output_type": "stream",
     "text": [
      "Hello. My name is son. My back number is 7\n"
     ]
    }
   ],
   "source": [
    "print(abc)"
   ]
  },
  {
   "cell_type": "code",
   "execution_count": 15,
   "id": "2980279c",
   "metadata": {},
   "outputs": [
    {
     "data": {
      "text/plain": [
       "'sonpark'"
      ]
     },
     "execution_count": 15,
     "metadata": {},
     "output_type": "execute_result"
    }
   ],
   "source": [
    "abc + park"
   ]
  },
  {
   "cell_type": "code",
   "execution_count": 8,
   "id": "31e545e5",
   "metadata": {},
   "outputs": [
    {
     "data": {
      "text/plain": [
       "False"
      ]
     },
     "execution_count": 8,
     "metadata": {},
     "output_type": "execute_result"
    }
   ],
   "source": [
    "abc is park"
   ]
  },
  {
   "cell_type": "code",
   "execution_count": 16,
   "id": "f00ce2ee",
   "metadata": {},
   "outputs": [],
   "source": [
    "class SoccerPlayer(object):\n",
    "    def __init__(self,name : str,position : str,back_number:int):\n",
    "        self.name = name\n",
    "        self.position = position\n",
    "        self.back_number = back_number\n",
    "        \n",
    "    def __str__(self):\n",
    "        return \"Hello. My name is %s. My back number is %d\"%(self.name,self.back_number)\n",
    "    \n",
    "    def change_back_number(self,new_number):\n",
    "        print('선수의 등번호를 변경합니다 : From %d to %d' % (self.back_number,new_number))\n",
    "        self.back_number = new_number"
   ]
  },
  {
   "cell_type": "code",
   "execution_count": 17,
   "id": "328620ca",
   "metadata": {},
   "outputs": [
    {
     "name": "stdout",
     "output_type": "stream",
     "text": [
      "Hello. My name is Jinhyun. My back number is 10\n"
     ]
    }
   ],
   "source": [
    "choi = SoccerPlayer('Jinhyun','mf',10)\n",
    "print(choi)"
   ]
  },
  {
   "cell_type": "code",
   "execution_count": 18,
   "id": "60976659",
   "metadata": {},
   "outputs": [
    {
     "name": "stdout",
     "output_type": "stream",
     "text": [
      "선수의 등번호를 변경합니다 : From 10 to 7\n"
     ]
    }
   ],
   "source": [
    "choi.change_back_number(7)"
   ]
  },
  {
   "cell_type": "code",
   "execution_count": 19,
   "id": "ba2568f9",
   "metadata": {},
   "outputs": [
    {
     "name": "stdout",
     "output_type": "stream",
     "text": [
      "Hello. My name is Jinhyun. My back number is 7\n"
     ]
    }
   ],
   "source": [
    "print(choi)"
   ]
  },
  {
   "cell_type": "code",
   "execution_count": 20,
   "id": "94bf3727",
   "metadata": {},
   "outputs": [
    {
     "name": "stdout",
     "output_type": "stream",
     "text": [
      "Hello. My name is Jinhyun. My back number is 20\n"
     ]
    }
   ],
   "source": [
    "# 권장하지 않음\n",
    "choi.back_number= 20\n",
    "print(choi)"
   ]
  },
  {
   "cell_type": "markdown",
   "id": "a26b5fcf",
   "metadata": {},
   "source": [
    "## Inheritance"
   ]
  },
  {
   "cell_type": "code",
   "execution_count": 21,
   "id": "bcfe08ca",
   "metadata": {},
   "outputs": [],
   "source": [
    "class Person(object):\n",
    "    def __init__(self,name,age):\n",
    "        self.name = name\n",
    "        self.age = age\n",
    "        \n",
    "    def __str__(self):\n",
    "        return '저의 이름은 {0} 입니다. 나이는 {1} 입니다'.format(self.name,self.age)"
   ]
  },
  {
   "cell_type": "code",
   "execution_count": 22,
   "id": "2572b03c",
   "metadata": {},
   "outputs": [],
   "source": [
    "class Korean(Person):\n",
    "    pass"
   ]
  },
  {
   "cell_type": "code",
   "execution_count": 23,
   "id": "f64ea5ac",
   "metadata": {},
   "outputs": [
    {
     "name": "stdout",
     "output_type": "stream",
     "text": [
      "저의 이름은 Sungchul 입니다. 나이는 35 입니다\n"
     ]
    }
   ],
   "source": [
    "first_korean = Korean('Sungchul',35)\n",
    "print(first_korean)"
   ]
  },
  {
   "cell_type": "code",
   "execution_count": 24,
   "id": "55f18187",
   "metadata": {},
   "outputs": [],
   "source": [
    "class Person:\n",
    "    def __init__(self,name,age,gender):\n",
    "        self.name = name\n",
    "        self.age = age\n",
    "        self.gender = gender\n",
    "        \n",
    "    def about_me(self):\n",
    "        print('저의 이름은 ',self.name, '이구요, 제 나이는 ',str(self.age),'살 입니다')\n",
    "    \n",
    "    def __str__(self):\n",
    "        return ('저의 이름은 ',self.name, '이구요, 제 나이는 ',str(self.age),'살 입니다')"
   ]
  },
  {
   "cell_type": "code",
   "execution_count": 25,
   "id": "fd0ed007",
   "metadata": {},
   "outputs": [],
   "source": [
    "class Employee(Person):\n",
    "    def __init__(self,name,age,gender,salary,hire_date):\n",
    "        super().__init__(name,age,gender)\n",
    "        self.salary = salary\n",
    "        self.hire_date = hire_date\n",
    "        \n",
    "    def do_work(self):\n",
    "        print('열심히 일을 합니다')\n",
    "        \n",
    "    def about_me(self):\n",
    "        super().about_me()\n",
    "        print('제 급여는 ',self.salary,'원 이구요, 제 입사일은 ',self.hire_date,'입니다')"
   ]
  },
  {
   "cell_type": "code",
   "execution_count": 27,
   "id": "8b4a9a84",
   "metadata": {},
   "outputs": [
    {
     "name": "stdout",
     "output_type": "stream",
     "text": [
      "저의 이름은  Daeho 이구요, 제 나이는  34 살 입니다\n",
      "제 급여는  300000 원 이구요, 제 입사일은  2012/03/01 입니다\n"
     ]
    }
   ],
   "source": [
    "myPerson = Person('John',35,'Male')\n",
    "myEmployee = Employee('Daeho',34,'Male',300000,'2012/03/01')\n",
    "myEmployee.about_me()"
   ]
  },
  {
   "cell_type": "code",
   "execution_count": 28,
   "id": "05ff29ee",
   "metadata": {},
   "outputs": [
    {
     "name": "stdout",
     "output_type": "stream",
     "text": [
      "저의 이름은  John 이구요, 제 나이는  35 살 입니다\n"
     ]
    }
   ],
   "source": [
    "myPerson.about_me()"
   ]
  },
  {
   "cell_type": "markdown",
   "id": "ad74131d",
   "metadata": {},
   "source": [
    "## Polymorphsim"
   ]
  },
  {
   "cell_type": "code",
   "execution_count": 29,
   "id": "5ea9ef7c",
   "metadata": {},
   "outputs": [],
   "source": [
    "class Animal:\n",
    "    def __init__(self,name):\n",
    "        self.name = name\n",
    "    \n",
    "    def talk(self):\n",
    "        raise NotImplementedError('Subclass must implement abstract method')"
   ]
  },
  {
   "cell_type": "code",
   "execution_count": 30,
   "id": "89326174",
   "metadata": {},
   "outputs": [],
   "source": [
    "class Cat(Animal):\n",
    "    def talk(self):\n",
    "        return 'Meow'\n",
    "    \n",
    "class Dog(Animal):\n",
    "    def talk(self):\n",
    "        return 'Woof! Woof!'"
   ]
  },
  {
   "cell_type": "code",
   "execution_count": 31,
   "id": "74a902e9",
   "metadata": {},
   "outputs": [],
   "source": [
    "animals = [Cat('Missy'),Cat('Mr.Mistoffelees'),Dog('Lassie')]"
   ]
  },
  {
   "cell_type": "code",
   "execution_count": 33,
   "id": "5a789f75",
   "metadata": {},
   "outputs": [
    {
     "name": "stdout",
     "output_type": "stream",
     "text": [
      "Missy: Meow\n",
      "Mr.Mistoffelees: Meow\n",
      "Lassie: Woof! Woof!\n"
     ]
    }
   ],
   "source": [
    "for animal in animals:\n",
    "    print(animal.name + ': '+animal.talk())"
   ]
  },
  {
   "cell_type": "markdown",
   "id": "dc87aa54",
   "metadata": {},
   "source": [
    "## Visibility"
   ]
  },
  {
   "cell_type": "code",
   "execution_count": 34,
   "id": "6619dd1b",
   "metadata": {},
   "outputs": [],
   "source": [
    "class Product(object):\n",
    "    pass"
   ]
  },
  {
   "cell_type": "code",
   "execution_count": 35,
   "id": "7fb96cca",
   "metadata": {},
   "outputs": [],
   "source": [
    "class Inventory(object):\n",
    "    def __init__(self):\n",
    "        self.items = []\n",
    "        self.test = 'abc'\n",
    "        \n",
    "    def add_new_item(self,product):\n",
    "        if type(product) == Product:\n",
    "            self.items.append(product)\n",
    "            print('new item added')\n",
    "        else:\n",
    "            raise ValueError('Invalid Item')\n",
    "            \n",
    "    def get_number_of_items(self):\n",
    "        return len(self.items)"
   ]
  },
  {
   "cell_type": "code",
   "execution_count": 36,
   "id": "92f35e9d",
   "metadata": {},
   "outputs": [
    {
     "name": "stdout",
     "output_type": "stream",
     "text": [
      "new item added\n",
      "new item added\n"
     ]
    },
    {
     "data": {
      "text/plain": [
       "<__main__.Inventory at 0x221e95f7460>"
      ]
     },
     "execution_count": 36,
     "metadata": {},
     "output_type": "execute_result"
    }
   ],
   "source": [
    "my_inventory = Inventory()\n",
    "my_inventory.add_new_item(Product())\n",
    "my_inventory.add_new_item(Product())\n",
    "my_inventory"
   ]
  },
  {
   "cell_type": "code",
   "execution_count": 37,
   "id": "0b77f59a",
   "metadata": {},
   "outputs": [],
   "source": [
    "my_inventory.items.append('abc')"
   ]
  },
  {
   "cell_type": "code",
   "execution_count": 38,
   "id": "4a854b53",
   "metadata": {},
   "outputs": [
    {
     "data": {
      "text/plain": [
       "[<__main__.Product at 0x221e95f73a0>,\n",
       " <__main__.Product at 0x221e99aed30>,\n",
       " 'abc']"
      ]
     },
     "execution_count": 38,
     "metadata": {},
     "output_type": "execute_result"
    }
   ],
   "source": [
    "my_inventory.items"
   ]
  },
  {
   "cell_type": "code",
   "execution_count": 40,
   "id": "9091120f",
   "metadata": {},
   "outputs": [],
   "source": [
    "class Inventory(object):\n",
    "    def __init__(self):\n",
    "        self.__items = []\n",
    "        \n",
    "    def add_new_item(self,product):\n",
    "        if type(product) == Product:\n",
    "            self.__items.append(product)\n",
    "            print('new item added')\n",
    "        else:\n",
    "            raise ValueError('Invalid Item')\n",
    "            \n",
    "    def get_number_of_items(self):\n",
    "        return len(self.__items)\n",
    "    \n",
    "    @property\n",
    "    def items(self):\n",
    "        return self.__items"
   ]
  },
  {
   "cell_type": "code",
   "execution_count": 41,
   "id": "a00b7fab",
   "metadata": {},
   "outputs": [
    {
     "name": "stdout",
     "output_type": "stream",
     "text": [
      "new item added\n",
      "new item added\n"
     ]
    },
    {
     "data": {
      "text/plain": [
       "<__main__.Inventory at 0x221e95f7340>"
      ]
     },
     "execution_count": 41,
     "metadata": {},
     "output_type": "execute_result"
    }
   ],
   "source": [
    "my_inventory = Inventory()\n",
    "my_inventory.add_new_item(Product())\n",
    "my_inventory.add_new_item(Product())\n",
    "my_inventory"
   ]
  },
  {
   "cell_type": "code",
   "execution_count": 42,
   "id": "301a1db3",
   "metadata": {},
   "outputs": [
    {
     "ename": "AttributeError",
     "evalue": "'Inventory' object has no attribute '__items'",
     "output_type": "error",
     "traceback": [
      "\u001b[1;31m---------------------------------------------------------------------------\u001b[0m",
      "\u001b[1;31mAttributeError\u001b[0m                            Traceback (most recent call last)",
      "\u001b[1;32m~\\AppData\\Local\\Temp\\ipykernel_15312\\680171286.py\u001b[0m in \u001b[0;36m<module>\u001b[1;34m\u001b[0m\n\u001b[1;32m----> 1\u001b[1;33m \u001b[0mmy_inventory\u001b[0m\u001b[1;33m.\u001b[0m\u001b[0m__items\u001b[0m\u001b[1;33m.\u001b[0m\u001b[0mapped\u001b[0m\u001b[1;33m(\u001b[0m\u001b[1;34m'abc'\u001b[0m\u001b[1;33m)\u001b[0m\u001b[1;33m\u001b[0m\u001b[1;33m\u001b[0m\u001b[0m\n\u001b[0m",
      "\u001b[1;31mAttributeError\u001b[0m: 'Inventory' object has no attribute '__items'"
     ]
    }
   ],
   "source": [
    "my_inventory.__items.apped('abc')"
   ]
  },
  {
   "cell_type": "code",
   "execution_count": 43,
   "id": "a8a95a67",
   "metadata": {},
   "outputs": [
    {
     "data": {
      "text/plain": [
       "[<__main__.Product at 0x221e95f7a00>, <__main__.Product at 0x221e99aeb50>]"
      ]
     },
     "execution_count": 43,
     "metadata": {},
     "output_type": "execute_result"
    }
   ],
   "source": [
    "my_inventory.items"
   ]
  },
  {
   "cell_type": "markdown",
   "id": "5d945095",
   "metadata": {},
   "source": [
    "보통 list는 copy를 해서 수정"
   ]
  },
  {
   "cell_type": "markdown",
   "id": "37d4ebbe",
   "metadata": {},
   "source": [
    "## decorator"
   ]
  },
  {
   "cell_type": "code",
   "execution_count": 44,
   "id": "a7313f7d",
   "metadata": {},
   "outputs": [
    {
     "name": "stdout",
     "output_type": "stream",
     "text": [
      "******************************\n",
      "Hellp\n",
      "******************************\n"
     ]
    }
   ],
   "source": [
    "def star(func):\n",
    "    def inner(*args,**kwargs):\n",
    "        print('*'*30)\n",
    "        func(*args,**kwargs)\n",
    "        print('*'*30)\n",
    "    return inner\n",
    "\n",
    "@star\n",
    "def printer(msg):\n",
    "    print(msg)\n",
    "printer('Hellp')"
   ]
  },
  {
   "cell_type": "code",
   "execution_count": 46,
   "id": "1aa062ef",
   "metadata": {},
   "outputs": [
    {
     "name": "stdout",
     "output_type": "stream",
     "text": [
      "%%%%%%%%%%%%%%%%%%%%%%%%%%%%%%\n",
      "Hellp\n",
      "%%%%%%%%%%%%%%%%%%%%%%%%%%%%%%\n"
     ]
    }
   ],
   "source": [
    "def star(func):\n",
    "    def inner(*args,**kwargs):\n",
    "        print(args[1]*30)\n",
    "        func(*args,**kwargs)\n",
    "        print(args[1]*30)\n",
    "    return inner\n",
    "\n",
    "@star\n",
    "def printer(msg,mark):\n",
    "    print(msg)\n",
    "printer('Hellp','%')"
   ]
  },
  {
   "cell_type": "code",
   "execution_count": 47,
   "id": "15e34bdd",
   "metadata": {},
   "outputs": [],
   "source": [
    "def generate_power(exponent):\n",
    "    def wrapper(f):\n",
    "        def inner(*args):\n",
    "            result = f(*args)\n",
    "            print(result)\n",
    "            return exponent ** result\n",
    "        return inner\n",
    "    return wrapper\n",
    "\n",
    "@generate_power(2)\n",
    "def raise_two(n):\n",
    "    return n **2"
   ]
  },
  {
   "cell_type": "code",
   "execution_count": 48,
   "id": "4db3318b",
   "metadata": {},
   "outputs": [
    {
     "name": "stdout",
     "output_type": "stream",
     "text": [
      "49\n",
      "562949953421312\n"
     ]
    }
   ],
   "source": [
    "print(raise_two(7))"
   ]
  },
  {
   "cell_type": "markdown",
   "id": "24a53639",
   "metadata": {},
   "source": [
    "## Notebook"
   ]
  },
  {
   "cell_type": "code",
   "execution_count": 57,
   "id": "ed3d3f84",
   "metadata": {},
   "outputs": [],
   "source": [
    "class Note:\n",
    "    def __init__(self):\n",
    "        self.content = content\n",
    "    def write_content(self,content):\n",
    "        self.content = content\n",
    "        \n",
    "    def remove_all(self):\n",
    "        self.content = ''\n",
    "        \n",
    "    def __add__(self,other):\n",
    "        return self.content + other.content\n",
    "    \n",
    "    def __str__(self):\n",
    "        return self.content"
   ]
  },
  {
   "cell_type": "code",
   "execution_count": 58,
   "id": "c4e3a656",
   "metadata": {},
   "outputs": [],
   "source": [
    "class Notebook:\n",
    "    def __init__(self,title):\n",
    "        self.title = title\n",
    "        self.page_number = 1\n",
    "        self.notes = {}\n",
    "    def add_note(self,note,page=0):\n",
    "        if self.page_number < 300:\n",
    "            if page == 0:\n",
    "                self.notes[self.page_number] = note\n",
    "                self.page_number += 1\n",
    "            else:\n",
    "                self.notes = {page : note}\n",
    "                self.page_number += 1\n",
    "        else:\n",
    "            print('Page가 모두 채워졌습니다.')\n",
    "            \n",
    "    def remove_note(self,page_number):\n",
    "        if page_number in self.notes.keys():\n",
    "            return self.notes.pop(page_number)\n",
    "        else:\n",
    "            print('해당 페이지는 존재하지 않습니다.')\n",
    "            \n",
    "    def get_number_of_pages(self):\n",
    "        return len(self.notes.keys())"
   ]
  },
  {
   "cell_type": "code",
   "execution_count": null,
   "id": "cf3e5efa",
   "metadata": {},
   "outputs": [],
   "source": []
  }
 ],
 "metadata": {
  "kernelspec": {
   "display_name": "Python 3 (ipykernel)",
   "language": "python",
   "name": "python3"
  },
  "language_info": {
   "codemirror_mode": {
    "name": "ipython",
    "version": 3
   },
   "file_extension": ".py",
   "mimetype": "text/x-python",
   "name": "python",
   "nbconvert_exporter": "python",
   "pygments_lexer": "ipython3",
   "version": "3.9.13"
  }
 },
 "nbformat": 4,
 "nbformat_minor": 5
}
