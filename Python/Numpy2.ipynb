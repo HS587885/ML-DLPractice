{
 "cells": [
  {
   "cell_type": "code",
   "execution_count": 1,
   "id": "8815be78",
   "metadata": {},
   "outputs": [],
   "source": [
    "import numpy as np"
   ]
  },
  {
   "cell_type": "code",
   "execution_count": 2,
   "id": "986256e2",
   "metadata": {},
   "outputs": [
    {
     "data": {
      "text/plain": [
       "array([0, 1, 2, 3, 4, 5, 6, 7, 8, 9])"
      ]
     },
     "execution_count": 2,
     "metadata": {},
     "output_type": "execute_result"
    }
   ],
   "source": [
    "a = np.arange(10)\n",
    "a"
   ]
  },
  {
   "cell_type": "code",
   "execution_count": 3,
   "id": "92474436",
   "metadata": {},
   "outputs": [
    {
     "data": {
      "text/plain": [
       "True"
      ]
     },
     "execution_count": 3,
     "metadata": {},
     "output_type": "execute_result"
    }
   ],
   "source": [
    "np.any(a>5)"
   ]
  },
  {
   "cell_type": "code",
   "execution_count": 4,
   "id": "40068f62",
   "metadata": {},
   "outputs": [
    {
     "data": {
      "text/plain": [
       "False"
      ]
     },
     "execution_count": 4,
     "metadata": {},
     "output_type": "execute_result"
    }
   ],
   "source": [
    "np.any(a<0)"
   ]
  },
  {
   "cell_type": "code",
   "execution_count": 5,
   "id": "40d0a5a3",
   "metadata": {},
   "outputs": [
    {
     "data": {
      "text/plain": [
       "False"
      ]
     },
     "execution_count": 5,
     "metadata": {},
     "output_type": "execute_result"
    }
   ],
   "source": [
    "np.all(a>5)"
   ]
  },
  {
   "cell_type": "code",
   "execution_count": 6,
   "id": "22b0e8e9",
   "metadata": {},
   "outputs": [
    {
     "data": {
      "text/plain": [
       "True"
      ]
     },
     "execution_count": 6,
     "metadata": {},
     "output_type": "execute_result"
    }
   ],
   "source": [
    "np.all(a<10)"
   ]
  },
  {
   "cell_type": "code",
   "execution_count": 7,
   "id": "85d6c7c9",
   "metadata": {},
   "outputs": [
    {
     "data": {
      "text/plain": [
       "array([False, False, False, False, False, False, False, False, False,\n",
       "       False])"
      ]
     },
     "execution_count": 7,
     "metadata": {},
     "output_type": "execute_result"
    }
   ],
   "source": [
    "a<0"
   ]
  },
  {
   "cell_type": "code",
   "execution_count": 8,
   "id": "754e1af0",
   "metadata": {},
   "outputs": [],
   "source": [
    "a = np.array([1,3,0])\n",
    "b = np.array([5,2,1])"
   ]
  },
  {
   "cell_type": "code",
   "execution_count": 9,
   "id": "44c2edf0",
   "metadata": {},
   "outputs": [
    {
     "data": {
      "text/plain": [
       "array([False,  True, False])"
      ]
     },
     "execution_count": 9,
     "metadata": {},
     "output_type": "execute_result"
    }
   ],
   "source": [
    "a > b"
   ]
  },
  {
   "cell_type": "code",
   "execution_count": 10,
   "id": "f099472e",
   "metadata": {},
   "outputs": [
    {
     "data": {
      "text/plain": [
       "True"
      ]
     },
     "execution_count": 10,
     "metadata": {},
     "output_type": "execute_result"
    }
   ],
   "source": [
    "(a>b).any()"
   ]
  },
  {
   "cell_type": "code",
   "execution_count": 11,
   "id": "454edc06",
   "metadata": {},
   "outputs": [
    {
     "data": {
      "text/plain": [
       "False"
      ]
     },
     "execution_count": 11,
     "metadata": {},
     "output_type": "execute_result"
    }
   ],
   "source": [
    "(a>b).all()"
   ]
  },
  {
   "cell_type": "code",
   "execution_count": 13,
   "id": "f01d8efa",
   "metadata": {},
   "outputs": [
    {
     "data": {
      "text/plain": [
       "array([ True, False, False])"
      ]
     },
     "execution_count": 13,
     "metadata": {},
     "output_type": "execute_result"
    }
   ],
   "source": [
    "np.logical_and(a>0,a<3)"
   ]
  },
  {
   "cell_type": "code",
   "execution_count": 14,
   "id": "692dcd3d",
   "metadata": {},
   "outputs": [],
   "source": [
    "c = np.array([True,False,False])"
   ]
  },
  {
   "cell_type": "code",
   "execution_count": 15,
   "id": "8b244517",
   "metadata": {},
   "outputs": [
    {
     "data": {
      "text/plain": [
       "array([False,  True,  True])"
      ]
     },
     "execution_count": 15,
     "metadata": {},
     "output_type": "execute_result"
    }
   ],
   "source": [
    "np.logical_not(c)"
   ]
  },
  {
   "cell_type": "code",
   "execution_count": 16,
   "id": "c9081088",
   "metadata": {},
   "outputs": [],
   "source": [
    "d = np.array([True,False,True])"
   ]
  },
  {
   "cell_type": "code",
   "execution_count": 18,
   "id": "0c9e2400",
   "metadata": {},
   "outputs": [
    {
     "data": {
      "text/plain": [
       "array([ True,  True,  True])"
      ]
     },
     "execution_count": 18,
     "metadata": {},
     "output_type": "execute_result"
    }
   ],
   "source": [
    "np.logical_or(b,c)"
   ]
  },
  {
   "cell_type": "code",
   "execution_count": 19,
   "id": "880362d9",
   "metadata": {},
   "outputs": [
    {
     "data": {
      "text/plain": [
       "array([1, 3, 0])"
      ]
     },
     "execution_count": 19,
     "metadata": {},
     "output_type": "execute_result"
    }
   ],
   "source": [
    "a"
   ]
  },
  {
   "cell_type": "code",
   "execution_count": 20,
   "id": "303fea3d",
   "metadata": {},
   "outputs": [
    {
     "data": {
      "text/plain": [
       "(array([1], dtype=int64),)"
      ]
     },
     "execution_count": 20,
     "metadata": {},
     "output_type": "execute_result"
    }
   ],
   "source": [
    "np.where(a>2)"
   ]
  },
  {
   "cell_type": "code",
   "execution_count": 21,
   "id": "3c5ab894",
   "metadata": {},
   "outputs": [
    {
     "data": {
      "text/plain": [
       "array([3, 2, 3])"
      ]
     },
     "execution_count": 21,
     "metadata": {},
     "output_type": "execute_result"
    }
   ],
   "source": [
    "np.where(a<3,3,2)"
   ]
  },
  {
   "cell_type": "code",
   "execution_count": 23,
   "id": "2c31d668",
   "metadata": {},
   "outputs": [
    {
     "data": {
      "text/plain": [
       "array([ 1., nan, inf])"
      ]
     },
     "execution_count": 23,
     "metadata": {},
     "output_type": "execute_result"
    }
   ],
   "source": [
    "a = np.array([1,np.NaN,np.inf])\n",
    "a"
   ]
  },
  {
   "cell_type": "code",
   "execution_count": 24,
   "id": "d9f9b2fe",
   "metadata": {},
   "outputs": [
    {
     "data": {
      "text/plain": [
       "array([False,  True, False])"
      ]
     },
     "execution_count": 24,
     "metadata": {},
     "output_type": "execute_result"
    }
   ],
   "source": [
    "np.isnan(a)"
   ]
  },
  {
   "cell_type": "code",
   "execution_count": 25,
   "id": "be578e9a",
   "metadata": {},
   "outputs": [
    {
     "data": {
      "text/plain": [
       "array([ True, False, False])"
      ]
     },
     "execution_count": 25,
     "metadata": {},
     "output_type": "execute_result"
    }
   ],
   "source": [
    "np.isfinite(a)"
   ]
  },
  {
   "cell_type": "markdown",
   "id": "6fbeb561",
   "metadata": {},
   "source": [
    "### argmax&argmin"
   ]
  },
  {
   "cell_type": "code",
   "execution_count": 26,
   "id": "54e91f2e",
   "metadata": {},
   "outputs": [],
   "source": [
    "a = np.array([1,2,4,5,8,78,23,3])"
   ]
  },
  {
   "cell_type": "code",
   "execution_count": 27,
   "id": "435519f4",
   "metadata": {},
   "outputs": [
    {
     "data": {
      "text/plain": [
       "array([0, 1, 7, 2, 3, 4, 6, 5], dtype=int64)"
      ]
     },
     "execution_count": 27,
     "metadata": {},
     "output_type": "execute_result"
    }
   ],
   "source": [
    "a.argsort()"
   ]
  },
  {
   "cell_type": "code",
   "execution_count": 28,
   "id": "9abe7157",
   "metadata": {},
   "outputs": [
    {
     "data": {
      "text/plain": [
       "array([5, 6, 4, 3, 2, 7, 1, 0], dtype=int64)"
      ]
     },
     "execution_count": 28,
     "metadata": {},
     "output_type": "execute_result"
    }
   ],
   "source": [
    "a.argsort()[::-1]"
   ]
  },
  {
   "cell_type": "code",
   "execution_count": 31,
   "id": "0f174faa",
   "metadata": {},
   "outputs": [
    {
     "data": {
      "text/plain": [
       "5"
      ]
     },
     "execution_count": 31,
     "metadata": {},
     "output_type": "execute_result"
    }
   ],
   "source": [
    "np.argmax(a)"
   ]
  },
  {
   "cell_type": "code",
   "execution_count": 32,
   "id": "f6dd7a16",
   "metadata": {},
   "outputs": [
    {
     "data": {
      "text/plain": [
       "0"
      ]
     },
     "execution_count": 32,
     "metadata": {},
     "output_type": "execute_result"
    }
   ],
   "source": [
    "np.argmin(a)"
   ]
  },
  {
   "cell_type": "code",
   "execution_count": 33,
   "id": "06c39121",
   "metadata": {},
   "outputs": [
    {
     "data": {
      "text/plain": [
       "1"
      ]
     },
     "execution_count": 33,
     "metadata": {},
     "output_type": "execute_result"
    }
   ],
   "source": [
    "a[np.argmin(a)]"
   ]
  },
  {
   "cell_type": "code",
   "execution_count": 34,
   "id": "c154699a",
   "metadata": {},
   "outputs": [],
   "source": [
    "a = np.array([[1,2,4,7],[9,88,6,45],[9,76,3,4]])"
   ]
  },
  {
   "cell_type": "code",
   "execution_count": 36,
   "id": "f65f42b1",
   "metadata": {},
   "outputs": [
    {
     "data": {
      "text/plain": [
       "array([3, 1, 1], dtype=int64)"
      ]
     },
     "execution_count": 36,
     "metadata": {},
     "output_type": "execute_result"
    }
   ],
   "source": [
    "np.argmax(a,axis=1)"
   ]
  },
  {
   "cell_type": "code",
   "execution_count": 37,
   "id": "578022c6",
   "metadata": {},
   "outputs": [
    {
     "data": {
      "text/plain": [
       "array([1, 1, 1, 1], dtype=int64)"
      ]
     },
     "execution_count": 37,
     "metadata": {},
     "output_type": "execute_result"
    }
   ],
   "source": [
    "np.argmax(a,axis=0)"
   ]
  },
  {
   "cell_type": "markdown",
   "id": "bd6a4dc3",
   "metadata": {},
   "source": [
    "### boolean index}"
   ]
  },
  {
   "cell_type": "code",
   "execution_count": 38,
   "id": "5f754b98",
   "metadata": {},
   "outputs": [],
   "source": [
    "a = np.array([1,4,0,2,3,8,9,7])"
   ]
  },
  {
   "cell_type": "code",
   "execution_count": 39,
   "id": "dde438c5",
   "metadata": {},
   "outputs": [
    {
     "data": {
      "text/plain": [
       "array([False,  True, False, False, False,  True,  True,  True])"
      ]
     },
     "execution_count": 39,
     "metadata": {},
     "output_type": "execute_result"
    }
   ],
   "source": [
    "a > 3"
   ]
  },
  {
   "cell_type": "code",
   "execution_count": 40,
   "id": "5a4b4fd8",
   "metadata": {},
   "outputs": [
    {
     "data": {
      "text/plain": [
       "array([4, 8, 9, 7])"
      ]
     },
     "execution_count": 40,
     "metadata": {},
     "output_type": "execute_result"
    }
   ],
   "source": [
    "a[a>3]"
   ]
  },
  {
   "cell_type": "code",
   "execution_count": 42,
   "id": "409a43ff",
   "metadata": {},
   "outputs": [],
   "source": [
    "a = np.array([2,4,6,8])\n",
    "b = np.array([0,0,1,3,2,1],int) # 반드시 integer "
   ]
  },
  {
   "cell_type": "code",
   "execution_count": 43,
   "id": "612a6344",
   "metadata": {},
   "outputs": [
    {
     "data": {
      "text/plain": [
       "array([2, 2, 4, 8, 6, 4])"
      ]
     },
     "execution_count": 43,
     "metadata": {},
     "output_type": "execute_result"
    }
   ],
   "source": [
    "a[b]"
   ]
  },
  {
   "cell_type": "code",
   "execution_count": 44,
   "id": "564c567f",
   "metadata": {},
   "outputs": [
    {
     "data": {
      "text/plain": [
       "array([2, 2, 4, 8, 6, 4])"
      ]
     },
     "execution_count": 44,
     "metadata": {},
     "output_type": "execute_result"
    }
   ],
   "source": [
    "a.take(b)"
   ]
  },
  {
   "cell_type": "markdown",
   "id": "45c3f7be",
   "metadata": {},
   "source": [
    "### fancy index"
   ]
  },
  {
   "cell_type": "code",
   "execution_count": 46,
   "id": "57decd50",
   "metadata": {},
   "outputs": [],
   "source": [
    "a = np.array([[1,4],[9,16]])\n",
    "b = np.array((0,0,1,1,0))\n",
    "c = np.array((0,1,1,1,1))"
   ]
  },
  {
   "cell_type": "code",
   "execution_count": 47,
   "id": "7da0f12e",
   "metadata": {},
   "outputs": [
    {
     "data": {
      "text/plain": [
       "array([ 1,  4, 16, 16,  4])"
      ]
     },
     "execution_count": 47,
     "metadata": {},
     "output_type": "execute_result"
    }
   ],
   "source": [
    "a[b,c]"
   ]
  },
  {
   "cell_type": "code",
   "execution_count": 48,
   "id": "31dca78c",
   "metadata": {},
   "outputs": [
    {
     "data": {
      "text/plain": [
       "array([[ 1,  4],\n",
       "       [ 1,  4],\n",
       "       [ 9, 16],\n",
       "       [ 9, 16],\n",
       "       [ 1,  4]])"
      ]
     },
     "execution_count": 48,
     "metadata": {},
     "output_type": "execute_result"
    }
   ],
   "source": [
    "a[b]"
   ]
  },
  {
   "cell_type": "markdown",
   "id": "b4345509",
   "metadata": {},
   "source": [
    "### loadtxt & savetxt"
   ]
  },
  {
   "cell_type": "code",
   "execution_count": 60,
   "id": "3e93eab6",
   "metadata": {},
   "outputs": [
    {
     "data": {
      "text/plain": [
       "array([[ 1,  4],\n",
       "       [ 9, 16]])"
      ]
     },
     "execution_count": 60,
     "metadata": {},
     "output_type": "execute_result"
    }
   ],
   "source": [
    "a_int = a.astype(int)\n",
    "a_int[:3]"
   ]
  },
  {
   "cell_type": "code",
   "execution_count": 66,
   "id": "b0919774",
   "metadata": {},
   "outputs": [],
   "source": [
    "np.savetxt('int_data.csv',a_int,delimiter=', ',fmt='%d')#fmt='%.2e') #소수점 두 자리까지"
   ]
  },
  {
   "cell_type": "code",
   "execution_count": 68,
   "id": "44723d71",
   "metadata": {},
   "outputs": [
    {
     "data": {
      "text/plain": [
       "array([[ 1.,  4.],\n",
       "       [ 9., 16.]])"
      ]
     },
     "execution_count": 68,
     "metadata": {},
     "output_type": "execute_result"
    }
   ],
   "source": [
    "a = np.loadtxt('int_data.csv',delimiter=', ')\n",
    "a"
   ]
  },
  {
   "cell_type": "markdown",
   "id": "ac5e4f39",
   "metadata": {},
   "source": [
    "### numpy object-npy"
   ]
  },
  {
   "cell_type": "code",
   "execution_count": 69,
   "id": "0485faeb",
   "metadata": {},
   "outputs": [],
   "source": [
    "np.save('npy_test_object',arr=a_int)"
   ]
  },
  {
   "cell_type": "code",
   "execution_count": 70,
   "id": "71439c18",
   "metadata": {},
   "outputs": [],
   "source": [
    "a_test = np.load('npy_test_object.npy')"
   ]
  },
  {
   "cell_type": "code",
   "execution_count": 72,
   "id": "884d0819",
   "metadata": {},
   "outputs": [
    {
     "data": {
      "text/plain": [
       "array([[ 1,  4],\n",
       "       [ 9, 16]])"
      ]
     },
     "execution_count": 72,
     "metadata": {},
     "output_type": "execute_result"
    }
   ],
   "source": [
    "a_test"
   ]
  },
  {
   "cell_type": "code",
   "execution_count": null,
   "id": "a4186524",
   "metadata": {},
   "outputs": [],
   "source": []
  }
 ],
 "metadata": {
  "kernelspec": {
   "display_name": "Python 3 (ipykernel)",
   "language": "python",
   "name": "python3"
  },
  "language_info": {
   "codemirror_mode": {
    "name": "ipython",
    "version": 3
   },
   "file_extension": ".py",
   "mimetype": "text/x-python",
   "name": "python",
   "nbconvert_exporter": "python",
   "pygments_lexer": "ipython3",
   "version": "3.9.13"
  }
 },
 "nbformat": 4,
 "nbformat_minor": 5
}
