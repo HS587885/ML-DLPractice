{
  "nbformat": 4,
  "nbformat_minor": 0,
  "metadata": {
    "colab": {
      "name": "Numpy.ipynb",
      "provenance": [],
      "collapsed_sections": [],
      "authorship_tag": "ABX9TyNzjbIDirH2Mm7O94NH+kyS",
      "include_colab_link": true
    },
    "kernelspec": {
      "name": "python3",
      "display_name": "Python 3"
    },
    "language_info": {
      "name": "python"
    }
  },
  "cells": [
    {
      "cell_type": "markdown",
      "metadata": {
        "id": "view-in-github",
        "colab_type": "text"
      },
      "source": [
        "<a href=\"https://colab.research.google.com/github/as9786/ML-DLPratice/blob/main/%EB%94%A5%EB%9F%AC%EB%8B%9D%EC%A4%80%EB%B9%84/Numpy.ipynb\" target=\"_parent\"><img src=\"https://colab.research.google.com/assets/colab-badge.svg\" alt=\"Open In Colab\"/></a>"
      ]
    },
    {
      "cell_type": "code",
      "execution_count": 1,
      "metadata": {
        "id": "yasopyLtB4_Q"
      },
      "outputs": [],
      "source": [
        "import numpy as np"
      ]
    },
    {
      "cell_type": "markdown",
      "source": [
        "# Numpy ndarray\n",
        "\n",
        "numpy의 핵심 기능 중 하나는 ndarray라고 하는 N차원의 배열 객체인데 파이썬에서 할 수 있는 대규모 데이터 집합을 담을 수 있는 빠르고 유연한 자료구조"
      ],
      "metadata": {
        "id": "hDwnaENPB_fh"
      }
    },
    {
      "cell_type": "code",
      "source": [
        "a = np.array([1,2,3])\n",
        "print(a,type(a))"
      ],
      "metadata": {
        "colab": {
          "base_uri": "https://localhost:8080/"
        },
        "id": "0MMRORkPB-uW",
        "outputId": "0c4bf3d2-7f9d-478b-e03b-7e9db3858e88"
      },
      "execution_count": 2,
      "outputs": [
        {
          "output_type": "stream",
          "name": "stdout",
          "text": [
            "[1 2 3] <class 'numpy.ndarray'>\n"
          ]
        }
      ]
    },
    {
      "cell_type": "markdown",
      "source": [
        "# List와 비교"
      ],
      "metadata": {
        "id": "kLQhcBBLCMT9"
      }
    },
    {
      "cell_type": "code",
      "source": [
        "l = [1,2,3]\n",
        "print(l)\n",
        "print(a)"
      ],
      "metadata": {
        "colab": {
          "base_uri": "https://localhost:8080/"
        },
        "id": "dTsc1atnCLNC",
        "outputId": "35b56a18-d571-492b-861a-2c5029a4a6bd"
      },
      "execution_count": 3,
      "outputs": [
        {
          "output_type": "stream",
          "name": "stdout",
          "text": [
            "[1, 2, 3]\n",
            "[1 2 3]\n"
          ]
        }
      ]
    },
    {
      "cell_type": "code",
      "source": [
        "a"
      ],
      "metadata": {
        "colab": {
          "base_uri": "https://localhost:8080/"
        },
        "id": "o1nO1qhGCUOd",
        "outputId": "03c7972e-0268-44cf-f081-9c0a026ef086"
      },
      "execution_count": 4,
      "outputs": [
        {
          "output_type": "execute_result",
          "data": {
            "text/plain": [
              "array([1, 2, 3])"
            ]
          },
          "metadata": {},
          "execution_count": 4
        }
      ]
    },
    {
      "cell_type": "code",
      "source": [
        "for item in l:\n",
        "    print(item)"
      ],
      "metadata": {
        "colab": {
          "base_uri": "https://localhost:8080/"
        },
        "id": "hFu0iy96CUvK",
        "outputId": "ed33d7f1-5c02-4c0d-ecc5-8a6aa5f861c2"
      },
      "execution_count": 5,
      "outputs": [
        {
          "output_type": "stream",
          "name": "stdout",
          "text": [
            "1\n",
            "2\n",
            "3\n"
          ]
        }
      ]
    },
    {
      "cell_type": "code",
      "source": [
        "for item in a:\n",
        "    print(item)"
      ],
      "metadata": {
        "colab": {
          "base_uri": "https://localhost:8080/"
        },
        "id": "GSlli_-QCWt7",
        "outputId": "75057087-5c76-474b-d3bc-858bb5db5dd5"
      },
      "execution_count": 6,
      "outputs": [
        {
          "output_type": "stream",
          "name": "stdout",
          "text": [
            "1\n",
            "2\n",
            "3\n"
          ]
        }
      ]
    },
    {
      "cell_type": "code",
      "source": [
        "l.append(4)\n",
        "l"
      ],
      "metadata": {
        "colab": {
          "base_uri": "https://localhost:8080/"
        },
        "id": "PkNq4oq7CaWS",
        "outputId": "9f69505c-a2c5-4c4e-8a4e-8eab11cacffd"
      },
      "execution_count": 7,
      "outputs": [
        {
          "output_type": "execute_result",
          "data": {
            "text/plain": [
              "[1, 2, 3, 4]"
            ]
          },
          "metadata": {},
          "execution_count": 7
        }
      ]
    },
    {
      "cell_type": "code",
      "source": [
        "a = np.append(a,4)\n",
        "a"
      ],
      "metadata": {
        "colab": {
          "base_uri": "https://localhost:8080/"
        },
        "id": "6W0e0dQGCbnA",
        "outputId": "b3c62aa0-d0d8-41c8-e6a5-69b024f8624d"
      },
      "execution_count": 8,
      "outputs": [
        {
          "output_type": "execute_result",
          "data": {
            "text/plain": [
              "array([1, 2, 3, 4])"
            ]
          },
          "metadata": {},
          "execution_count": 8
        }
      ]
    },
    {
      "cell_type": "code",
      "source": [
        "l = l+[5]\n",
        "l"
      ],
      "metadata": {
        "colab": {
          "base_uri": "https://localhost:8080/"
        },
        "id": "ZQ0_6HhiCesx",
        "outputId": "398fd82d-1b87-40df-c18b-f9d6e783173f"
      },
      "execution_count": 9,
      "outputs": [
        {
          "output_type": "execute_result",
          "data": {
            "text/plain": [
              "[1, 2, 3, 4, 5]"
            ]
          },
          "metadata": {},
          "execution_count": 9
        }
      ]
    },
    {
      "cell_type": "code",
      "source": [
        "#Broadcasting\n",
        "a = a + np.array([5])\n",
        "a"
      ],
      "metadata": {
        "colab": {
          "base_uri": "https://localhost:8080/"
        },
        "id": "z1Rd9F9FCf9X",
        "outputId": "d6e7764f-790a-4713-ef93-0ec6918aea0d"
      },
      "execution_count": 10,
      "outputs": [
        {
          "output_type": "execute_result",
          "data": {
            "text/plain": [
              "array([6, 7, 8, 9])"
            ]
          },
          "metadata": {},
          "execution_count": 10
        }
      ]
    },
    {
      "cell_type": "code",
      "source": [
        "# list의 모든 원소를 2배로 만드기\n",
        "l = [1,2,3]\n",
        "l2 = []\n",
        "for item in l:\n",
        "    l2.append(item*2)\n",
        "print(l2)"
      ],
      "metadata": {
        "colab": {
          "base_uri": "https://localhost:8080/"
        },
        "id": "k5Qir0wnChy8",
        "outputId": "0fb2b085-c902-4444-aaed-21fbea26cd29"
      },
      "execution_count": 11,
      "outputs": [
        {
          "output_type": "stream",
          "name": "stdout",
          "text": [
            "[2, 4, 6]\n"
          ]
        }
      ]
    },
    {
      "cell_type": "code",
      "source": [
        "# ndarray의 모든 원소 2배 만들기\n",
        "a = np.array(l)\n",
        "a*2"
      ],
      "metadata": {
        "colab": {
          "base_uri": "https://localhost:8080/"
        },
        "id": "XGg_iG4tCwQK",
        "outputId": "72c406f0-9334-4ed8-db01-39a9f30e7e7d"
      },
      "execution_count": 12,
      "outputs": [
        {
          "output_type": "execute_result",
          "data": {
            "text/plain": [
              "array([2, 4, 6])"
            ]
          },
          "metadata": {},
          "execution_count": 12
        }
      ]
    },
    {
      "cell_type": "code",
      "source": [
        "l*2"
      ],
      "metadata": {
        "colab": {
          "base_uri": "https://localhost:8080/"
        },
        "id": "RoQpp4cQC1h7",
        "outputId": "cebc08cb-e66f-4e3e-b0a2-52e15370f93f"
      },
      "execution_count": 13,
      "outputs": [
        {
          "output_type": "execute_result",
          "data": {
            "text/plain": [
              "[1, 2, 3, 1, 2, 3]"
            ]
          },
          "metadata": {},
          "execution_count": 13
        }
      ]
    },
    {
      "cell_type": "markdown",
      "source": [
        "# 배열\n",
        "\n",
        "numpy 배열은 모두 같은 값의 유형이며, 음수가 아닌 정수의 튜플로 인덱싱됨. 차원의 수는 배열의 랭크. 배열의 shape는 각 차원별 배열 크기의 튜플, 중첩된 파이썬 리스트로부터 numpy 배열을 초기화 할 수 있고 대괄호를 사용하여 요소에 접근할 수 있음"
      ],
      "metadata": {
        "id": "MV3HzPdBC4BZ"
      }
    },
    {
      "cell_type": "markdown",
      "source": [
        "## 배열 생성하기"
      ],
      "metadata": {
        "id": "-3_yV3KLDEoy"
      }
    },
    {
      "cell_type": "code",
      "source": [
        "a = np.array([1,2,3])\n",
        "print(a)\n",
        "print(type(a),a.ndim,a.shape,a.dtype)"
      ],
      "metadata": {
        "colab": {
          "base_uri": "https://localhost:8080/"
        },
        "id": "hSYtYvmHC3Oz",
        "outputId": "072ee45d-0887-4ac9-e4a5-3233597e5ea7"
      },
      "execution_count": 14,
      "outputs": [
        {
          "output_type": "stream",
          "name": "stdout",
          "text": [
            "[1 2 3]\n",
            "<class 'numpy.ndarray'> 1 (3,) int64\n"
          ]
        }
      ]
    },
    {
      "cell_type": "code",
      "source": [
        "b = np.asarray(a) #얕은 복사\n",
        "b "
      ],
      "metadata": {
        "colab": {
          "base_uri": "https://localhost:8080/"
        },
        "id": "pHEMhh_KDLYE",
        "outputId": "5c19d95f-6d46-49d7-9086-9ea36128637b"
      },
      "execution_count": 15,
      "outputs": [
        {
          "output_type": "execute_result",
          "data": {
            "text/plain": [
              "array([1, 2, 3])"
            ]
          },
          "metadata": {},
          "execution_count": 15
        }
      ]
    },
    {
      "cell_type": "code",
      "source": [
        "c = np.array(a)\n",
        "c"
      ],
      "metadata": {
        "colab": {
          "base_uri": "https://localhost:8080/"
        },
        "id": "piFBywF4DNqS",
        "outputId": "4c51c7e1-6398-4d7f-f92c-53472b61ba51"
      },
      "execution_count": 16,
      "outputs": [
        {
          "output_type": "execute_result",
          "data": {
            "text/plain": [
              "array([1, 2, 3])"
            ]
          },
          "metadata": {},
          "execution_count": 16
        }
      ]
    },
    {
      "cell_type": "code",
      "source": [
        "b[0] = 9\n",
        "print(a)\n",
        "print(b)"
      ],
      "metadata": {
        "colab": {
          "base_uri": "https://localhost:8080/"
        },
        "id": "EdH7xc7VDTva",
        "outputId": "d3f97f97-9419-465b-99c1-cfa93c6b49ea"
      },
      "execution_count": 17,
      "outputs": [
        {
          "output_type": "stream",
          "name": "stdout",
          "text": [
            "[9 2 3]\n",
            "[9 2 3]\n"
          ]
        }
      ]
    },
    {
      "cell_type": "code",
      "source": [
        "c[0] = 1\n",
        "print(a)\n",
        "print(b)\n",
        "print(c)"
      ],
      "metadata": {
        "colab": {
          "base_uri": "https://localhost:8080/"
        },
        "id": "W6yH1U3VDdTG",
        "outputId": "5f5de74a-c3bc-484d-ab7c-56ef8fd35db3"
      },
      "execution_count": 19,
      "outputs": [
        {
          "output_type": "stream",
          "name": "stdout",
          "text": [
            "[9 2 3]\n",
            "[9 2 3]\n",
            "[1 2 3]\n"
          ]
        }
      ]
    },
    {
      "cell_type": "code",
      "source": [
        "a = np.zeros((3,4))\n",
        "print(a)\n",
        "print(a.dtype)"
      ],
      "metadata": {
        "colab": {
          "base_uri": "https://localhost:8080/"
        },
        "id": "vtrsQmunDjPA",
        "outputId": "1efb9b57-8cc5-4384-ae33-3e078aa66063"
      },
      "execution_count": 20,
      "outputs": [
        {
          "output_type": "stream",
          "name": "stdout",
          "text": [
            "[[0. 0. 0. 0.]\n",
            " [0. 0. 0. 0.]\n",
            " [0. 0. 0. 0.]]\n",
            "float64\n"
          ]
        }
      ]
    },
    {
      "cell_type": "code",
      "source": [
        "b = np.ones((5,2))\n",
        "print(b)"
      ],
      "metadata": {
        "colab": {
          "base_uri": "https://localhost:8080/"
        },
        "id": "yCJsqugKDn58",
        "outputId": "a55091da-5545-423d-a5d1-c8c6b057748b"
      },
      "execution_count": 22,
      "outputs": [
        {
          "output_type": "stream",
          "name": "stdout",
          "text": [
            "[[1. 1.]\n",
            " [1. 1.]\n",
            " [1. 1.]\n",
            " [1. 1.]\n",
            " [1. 1.]]\n"
          ]
        }
      ]
    },
    {
      "cell_type": "code",
      "source": [
        "c = np.full((2,3),4)\n",
        "print(c)"
      ],
      "metadata": {
        "colab": {
          "base_uri": "https://localhost:8080/"
        },
        "id": "oLdiaFooDqjx",
        "outputId": "8521b831-f4f9-4064-d455-8be7c621156d"
      },
      "execution_count": 23,
      "outputs": [
        {
          "output_type": "stream",
          "name": "stdout",
          "text": [
            "[[4 4 4]\n",
            " [4 4 4]]\n"
          ]
        }
      ]
    },
    {
      "cell_type": "code",
      "source": [
        "d = np.empty((3,3))\n",
        "d"
      ],
      "metadata": {
        "colab": {
          "base_uri": "https://localhost:8080/"
        },
        "id": "ka0fquqeDuX9",
        "outputId": "72535200-adc4-458e-9b49-ca36538d60dc"
      },
      "execution_count": 24,
      "outputs": [
        {
          "output_type": "execute_result",
          "data": {
            "text/plain": [
              "array([[3.93630242e-316, 1.77863633e-322, 0.00000000e+000],\n",
              "       [0.00000000e+000, 4.34900600e+199, 1.00105331e+165],\n",
              "       [1.16192989e+165, 6.56230677e-091, 8.60607447e-043]])"
            ]
          },
          "metadata": {},
          "execution_count": 24
        }
      ]
    },
    {
      "cell_type": "code",
      "source": [
        "# like : 특정 배열의 모양 갖고오기\n",
        "e = np.zeros_like(a)\n",
        "f = np.ones_like(a)\n",
        "g = np.full_like(a,2)\n",
        "h = np.empty_like(a)\n",
        "print(e)\n",
        "print(f)\n",
        "print(g)\n",
        "print(h)"
      ],
      "metadata": {
        "colab": {
          "base_uri": "https://localhost:8080/"
        },
        "id": "17WXjcBGDwiP",
        "outputId": "c1a1945b-bd2b-42cc-b45c-2ea033816947"
      },
      "execution_count": 25,
      "outputs": [
        {
          "output_type": "stream",
          "name": "stdout",
          "text": [
            "[[0. 0. 0. 0.]\n",
            " [0. 0. 0. 0.]\n",
            " [0. 0. 0. 0.]]\n",
            "[[1. 1. 1. 1.]\n",
            " [1. 1. 1. 1.]\n",
            " [1. 1. 1. 1.]]\n",
            "[[2. 2. 2. 2.]\n",
            " [2. 2. 2. 2.]\n",
            " [2. 2. 2. 2.]]\n",
            "[[0.00000000e+000 0.00000000e+000 7.92975362e-321 2.89223381e-316]\n",
            " [6.91023292e-310 2.89223420e-316 6.91023292e-310 6.91023292e-310]\n",
            " [0.00000000e+000 2.47032823e-323 2.12199579e-314 5.43472210e-323]]\n"
          ]
        }
      ]
    },
    {
      "cell_type": "code",
      "source": [
        "# 항등행렬\n",
        "i = np.eye(3)\n",
        "j = np.identity(3)\n",
        "print(i)\n",
        "print(j)"
      ],
      "metadata": {
        "colab": {
          "base_uri": "https://localhost:8080/"
        },
        "id": "AePmt_GtED3D",
        "outputId": "475f51e1-8cdf-4722-c047-406699fe3824"
      },
      "execution_count": 26,
      "outputs": [
        {
          "output_type": "stream",
          "name": "stdout",
          "text": [
            "[[1. 0. 0.]\n",
            " [0. 1. 0.]\n",
            " [0. 0. 1.]]\n",
            "[[1. 0. 0.]\n",
            " [0. 1. 0.]\n",
            " [0. 0. 1.]]\n"
          ]
        }
      ]
    },
    {
      "cell_type": "code",
      "source": [
        "k = np.arange(10)\n",
        "k"
      ],
      "metadata": {
        "colab": {
          "base_uri": "https://localhost:8080/"
        },
        "id": "PXo5ddfuEIjC",
        "outputId": "7df276c4-96c0-4984-a538-bc353ecf90ab"
      },
      "execution_count": 27,
      "outputs": [
        {
          "output_type": "execute_result",
          "data": {
            "text/plain": [
              "array([0, 1, 2, 3, 4, 5, 6, 7, 8, 9])"
            ]
          },
          "metadata": {},
          "execution_count": 27
        }
      ]
    },
    {
      "cell_type": "code",
      "source": [
        "# uniform distribution : 똑같은 확률로 뽑음\n",
        "l = np.random.rand(2,2)\n",
        "l"
      ],
      "metadata": {
        "colab": {
          "base_uri": "https://localhost:8080/"
        },
        "id": "glWvWwO_EP-U",
        "outputId": "993cf6b0-92a5-4dbe-d2d5-c61c60f4d1b1"
      },
      "execution_count": 28,
      "outputs": [
        {
          "output_type": "execute_result",
          "data": {
            "text/plain": [
              "array([[0.68366905, 0.80448149],\n",
              "       [0.53253662, 0.03839271]])"
            ]
          },
          "metadata": {},
          "execution_count": 28
        }
      ]
    },
    {
      "cell_type": "code",
      "source": [
        "# normal distribution #표준정규분포\n",
        "m = np.random.randn(2,2)\n",
        "m"
      ],
      "metadata": {
        "colab": {
          "base_uri": "https://localhost:8080/"
        },
        "id": "H-XfTaIdET2k",
        "outputId": "8ebf05dc-f337-4bd6-e51e-e803ec6720b7"
      },
      "execution_count": 29,
      "outputs": [
        {
          "output_type": "execute_result",
          "data": {
            "text/plain": [
              "array([[ 2.54976534,  0.90257596],\n",
              "       [ 0.67948512, -0.6947234 ]])"
            ]
          },
          "metadata": {},
          "execution_count": 29
        }
      ]
    },
    {
      "cell_type": "markdown",
      "source": [
        "## 배열의 dtype"
      ],
      "metadata": {
        "id": "qGmrCvJPEcwY"
      }
    },
    {
      "cell_type": "code",
      "source": [
        "a = np.array([1,2,3])\n",
        "b = np.array([1,2,3],dtype=np.float64)\n",
        "c = np.array([1,2,3],dtype=np.int32)\n",
        "print(a.dtype)\n",
        "print(b.dtype)\n",
        "print(c.dtype)"
      ],
      "metadata": {
        "colab": {
          "base_uri": "https://localhost:8080/"
        },
        "id": "1zlwW_U-EYG-",
        "outputId": "bcba33bb-2e39-4d77-805f-67abd4ff11dd"
      },
      "execution_count": 31,
      "outputs": [
        {
          "output_type": "stream",
          "name": "stdout",
          "text": [
            "int64\n",
            "float64\n",
            "int32\n"
          ]
        }
      ]
    },
    {
      "cell_type": "code",
      "source": [
        "d = np.array([1,2,3],dtype='i1')\n",
        "e = np.array([1,2,3],dtype='i2')\n",
        "f = np.array([1,2,3],dtype='i4')\n",
        "g = np.array([1,2,3],dtype='i8')\n",
        "print(d.dtype,e.dtype,f.dtype,g.dtype)"
      ],
      "metadata": {
        "colab": {
          "base_uri": "https://localhost:8080/"
        },
        "id": "QZhvubF_ElMK",
        "outputId": "b1049ac5-e364-4d79-99e9-1af4046fd425"
      },
      "execution_count": 34,
      "outputs": [
        {
          "output_type": "stream",
          "name": "stdout",
          "text": [
            "int8 int16 int32 int64\n"
          ]
        }
      ]
    },
    {
      "cell_type": "code",
      "source": [
        "d = np.array([1,2,3],dtype='u1')\n",
        "e = np.array([1,2,3],dtype='u2')\n",
        "f = np.array([1,2,3],dtype='u4')\n",
        "g = np.array([1,2,3],dtype='u8')\n",
        "print(d.dtype,e.dtype,f.dtype,g.dtype)"
      ],
      "metadata": {
        "colab": {
          "base_uri": "https://localhost:8080/"
        },
        "id": "HxwZtoEAEy1-",
        "outputId": "1c2bda6a-1685-4475-9b62-ced5b6fb9e49"
      },
      "execution_count": 35,
      "outputs": [
        {
          "output_type": "stream",
          "name": "stdout",
          "text": [
            "uint8 uint16 uint32 uint64\n"
          ]
        }
      ]
    },
    {
      "cell_type": "code",
      "source": [
        "d = np.array([1,2,3],dtype='f2')\n",
        "e = np.array([1,2,3],dtype='f4')\n",
        "f = np.array([1,2,3],dtype='f8')\n",
        "g = np.array([1,2,3],dtype='f16')\n",
        "print(d.dtype,e.dtype,f.dtype,g.dtype)"
      ],
      "metadata": {
        "colab": {
          "base_uri": "https://localhost:8080/"
        },
        "id": "ZeV1783sE5tL",
        "outputId": "de62403f-6746-4805-9aa7-54d4ba08e5fd"
      },
      "execution_count": 36,
      "outputs": [
        {
          "output_type": "stream",
          "name": "stdout",
          "text": [
            "float16 float32 float64 float128\n"
          ]
        }
      ]
    },
    {
      "cell_type": "code",
      "source": [
        "#d = np.array([1,2,3],dtype='f2')\n",
        "e = np.array([1,2,3],dtype='f')\n",
        "f = np.array([1,2,3],dtype='d')\n",
        "g = np.array([1,2,3],dtype='g')\n",
        "print(e.dtype,f.dtype,g.dtype)"
      ],
      "metadata": {
        "colab": {
          "base_uri": "https://localhost:8080/"
        },
        "id": "OV7PgJp1E9V9",
        "outputId": "b64c24a8-1985-4902-fbd3-7a2845a350a6"
      },
      "execution_count": 37,
      "outputs": [
        {
          "output_type": "stream",
          "name": "stdout",
          "text": [
            "float32 float64 float128\n"
          ]
        }
      ]
    },
    {
      "cell_type": "code",
      "source": [
        "e = e.astype(np.int32)\n",
        "e.dtype"
      ],
      "metadata": {
        "colab": {
          "base_uri": "https://localhost:8080/"
        },
        "id": "r3F872qcFFpC",
        "outputId": "0bd514a6-9803-44b1-f3d0-1082299e0bbd"
      },
      "execution_count": 38,
      "outputs": [
        {
          "output_type": "execute_result",
          "data": {
            "text/plain": [
              "dtype('int32')"
            ]
          },
          "metadata": {},
          "execution_count": 38
        }
      ]
    },
    {
      "cell_type": "code",
      "source": [
        "f = f.astype(e.dtype)\n",
        "f.dtype"
      ],
      "metadata": {
        "colab": {
          "base_uri": "https://localhost:8080/"
        },
        "id": "al4nacbWFLlR",
        "outputId": "7ba31861-29f4-4875-ee62-5b59fdfa5c10"
      },
      "execution_count": 39,
      "outputs": [
        {
          "output_type": "execute_result",
          "data": {
            "text/plain": [
              "dtype('int32')"
            ]
          },
          "metadata": {},
          "execution_count": 39
        }
      ]
    },
    {
      "cell_type": "markdown",
      "source": [
        "## 배열 indexing(색인)rhk slicing(슬라이싱)"
      ],
      "metadata": {
        "id": "k3j_TJ5UG2t3"
      }
    },
    {
      "cell_type": "markdown",
      "source": [
        "### indexing, slicing 기본"
      ],
      "metadata": {
        "id": "epdWzf4bG7G7"
      }
    },
    {
      "cell_type": "code",
      "source": [
        "a = np.arange(10)\n",
        "a"
      ],
      "metadata": {
        "colab": {
          "base_uri": "https://localhost:8080/"
        },
        "id": "8ERh8hmZFOp_",
        "outputId": "e462ba33-93cd-47fd-eeae-7721fbb09391"
      },
      "execution_count": 40,
      "outputs": [
        {
          "output_type": "execute_result",
          "data": {
            "text/plain": [
              "array([0, 1, 2, 3, 4, 5, 6, 7, 8, 9])"
            ]
          },
          "metadata": {},
          "execution_count": 40
        }
      ]
    },
    {
      "cell_type": "code",
      "source": [
        "# indexing\n",
        "a[5]"
      ],
      "metadata": {
        "colab": {
          "base_uri": "https://localhost:8080/"
        },
        "id": "wCRFC6eKG-tz",
        "outputId": "ef85a819-fa4b-424b-9572-9ba09adba91d"
      },
      "execution_count": 41,
      "outputs": [
        {
          "output_type": "execute_result",
          "data": {
            "text/plain": [
              "5"
            ]
          },
          "metadata": {},
          "execution_count": 41
        }
      ]
    },
    {
      "cell_type": "code",
      "source": [
        "a[5:8]"
      ],
      "metadata": {
        "colab": {
          "base_uri": "https://localhost:8080/"
        },
        "id": "Sb1FIOhHHAbJ",
        "outputId": "85b4d429-9974-4a29-eb7a-0d6e8660f159"
      },
      "execution_count": 42,
      "outputs": [
        {
          "output_type": "execute_result",
          "data": {
            "text/plain": [
              "array([5, 6, 7])"
            ]
          },
          "metadata": {},
          "execution_count": 42
        }
      ]
    },
    {
      "cell_type": "code",
      "source": [
        "a[-1]"
      ],
      "metadata": {
        "colab": {
          "base_uri": "https://localhost:8080/"
        },
        "id": "BoML43JFHBe9",
        "outputId": "602f2cdf-8d0d-463b-da08-233916bfa008"
      },
      "execution_count": 43,
      "outputs": [
        {
          "output_type": "execute_result",
          "data": {
            "text/plain": [
              "9"
            ]
          },
          "metadata": {},
          "execution_count": 43
        }
      ]
    },
    {
      "cell_type": "code",
      "source": [
        "a[7:-1]"
      ],
      "metadata": {
        "colab": {
          "base_uri": "https://localhost:8080/"
        },
        "id": "qLkGHwyFHCcx",
        "outputId": "4309c659-46db-4580-9578-d216486a45a2"
      },
      "execution_count": 46,
      "outputs": [
        {
          "output_type": "execute_result",
          "data": {
            "text/plain": [
              "array([7, 8])"
            ]
          },
          "metadata": {},
          "execution_count": 46
        }
      ]
    },
    {
      "cell_type": "code",
      "source": [
        "a[5:8] = 10\n",
        "a"
      ],
      "metadata": {
        "colab": {
          "base_uri": "https://localhost:8080/"
        },
        "id": "9r5osi-HHDvf",
        "outputId": "49914823-dc6c-44cd-9a3d-2faca46610f1"
      },
      "execution_count": 47,
      "outputs": [
        {
          "output_type": "execute_result",
          "data": {
            "text/plain": [
              "array([ 0,  1,  2,  3,  4, 10, 10, 10,  8,  9])"
            ]
          },
          "metadata": {},
          "execution_count": 47
        }
      ]
    },
    {
      "cell_type": "markdown",
      "source": [
        "### indexing과 slicing 차이\n",
        "\n",
        "indexing을 사용하면 항상 랭크가 감소. 반면에 slicing을 사용하면 차원이 유지"
      ],
      "metadata": {
        "id": "XIfpqlyiHIuJ"
      }
    },
    {
      "cell_type": "code",
      "source": [
        "b = np.arange(1,13)\n",
        "# b= b.reshape(3,4)\n",
        "print(b)\n",
        "print(b.shape)\n",
        "print(b.ndim)"
      ],
      "metadata": {
        "colab": {
          "base_uri": "https://localhost:8080/"
        },
        "id": "fgp-QQdiHH2N",
        "outputId": "68f3658e-5bae-4eba-ee2f-f31d225c2003"
      },
      "execution_count": 48,
      "outputs": [
        {
          "output_type": "stream",
          "name": "stdout",
          "text": [
            "[ 1  2  3  4  5  6  7  8  9 10 11 12]\n",
            "(12,)\n",
            "1\n"
          ]
        }
      ]
    },
    {
      "cell_type": "code",
      "source": [
        "indexing = b[1]\n",
        "slicing = b[1:2]\n",
        "print(indexing,indexing.shape,indexing.ndim)\n",
        "print(slicing,slicing.shape,slicing.ndim)"
      ],
      "metadata": {
        "colab": {
          "base_uri": "https://localhost:8080/"
        },
        "id": "ndfHTH0LHbAj",
        "outputId": "1c6c6225-feed-40ba-b117-da63f585695a"
      },
      "execution_count": 49,
      "outputs": [
        {
          "output_type": "stream",
          "name": "stdout",
          "text": [
            "2 () 0\n",
            "[2] (1,) 1\n"
          ]
        }
      ]
    },
    {
      "cell_type": "code",
      "source": [
        "b = b.reshape(3,4)\n",
        "print(b)\n",
        "print(b.shape)\n",
        "print(b.ndim)"
      ],
      "metadata": {
        "colab": {
          "base_uri": "https://localhost:8080/"
        },
        "id": "BG94KzGLHhvB",
        "outputId": "c4c64af4-cd42-4b07-f7e7-ace086e04e60"
      },
      "execution_count": 50,
      "outputs": [
        {
          "output_type": "stream",
          "name": "stdout",
          "text": [
            "[[ 1  2  3  4]\n",
            " [ 5  6  7  8]\n",
            " [ 9 10 11 12]]\n",
            "(3, 4)\n",
            "2\n"
          ]
        }
      ]
    },
    {
      "cell_type": "code",
      "source": [
        "row_r1 = b[1,:]\n",
        "row_r2 = b[1:2,:]\n",
        "print(row_r1,row_r1.shape,row_r1.ndim)\n",
        "print(row_r2,row_r2.shape,row_r2.ndim)"
      ],
      "metadata": {
        "colab": {
          "base_uri": "https://localhost:8080/"
        },
        "id": "dogHaCQzHl_U",
        "outputId": "8d73e88d-0acf-4f05-fefc-152c43f1f035"
      },
      "execution_count": 52,
      "outputs": [
        {
          "output_type": "stream",
          "name": "stdout",
          "text": [
            "[5 6 7 8] (4,) 1\n",
            "[[5 6 7 8]] (1, 4) 2\n"
          ]
        }
      ]
    },
    {
      "cell_type": "markdown",
      "source": [
        "### slicing examples"
      ],
      "metadata": {
        "id": "ZTmcxhzjHz9J"
      }
    },
    {
      "cell_type": "code",
      "source": [
        "c =np.arange(24).reshape(2,3,4)\n",
        "print(c)\n",
        "print(c.shape)"
      ],
      "metadata": {
        "colab": {
          "base_uri": "https://localhost:8080/"
        },
        "id": "_mtLKCCyHw4z",
        "outputId": "5ce8adb6-e7c3-4961-bcf2-5aaa3d3c6b94"
      },
      "execution_count": 53,
      "outputs": [
        {
          "output_type": "stream",
          "name": "stdout",
          "text": [
            "[[[ 0  1  2  3]\n",
            "  [ 4  5  6  7]\n",
            "  [ 8  9 10 11]]\n",
            "\n",
            " [[12 13 14 15]\n",
            "  [16 17 18 19]\n",
            "  [20 21 22 23]]]\n",
            "(2, 3, 4)\n"
          ]
        }
      ]
    },
    {
      "cell_type": "code",
      "source": [
        "print(c[:,:,:1])\n",
        "print(c[...,:1]) # ... 앞의 전부 다를 의미"
      ],
      "metadata": {
        "colab": {
          "base_uri": "https://localhost:8080/"
        },
        "id": "Bm82449KH4-w",
        "outputId": "21d951b6-816b-4a25-d956-10f48bc04d18"
      },
      "execution_count": 54,
      "outputs": [
        {
          "output_type": "stream",
          "name": "stdout",
          "text": [
            "[[[ 0]\n",
            "  [ 4]\n",
            "  [ 8]]\n",
            "\n",
            " [[12]\n",
            "  [16]\n",
            "  [20]]]\n",
            "[[[ 0]\n",
            "  [ 4]\n",
            "  [ 8]]\n",
            "\n",
            " [[12]\n",
            "  [16]\n",
            "  [20]]]\n"
          ]
        }
      ]
    },
    {
      "cell_type": "code",
      "source": [
        "print(c[0:1])\n",
        "print(c[0::-1])"
      ],
      "metadata": {
        "colab": {
          "base_uri": "https://localhost:8080/"
        },
        "id": "TMssYgk5H8cZ",
        "outputId": "e6094386-5d65-4c79-c72c-e98b5edb89b2"
      },
      "execution_count": 55,
      "outputs": [
        {
          "output_type": "stream",
          "name": "stdout",
          "text": [
            "[[[ 0  1  2  3]\n",
            "  [ 4  5  6  7]\n",
            "  [ 8  9 10 11]]]\n",
            "[[[ 0  1  2  3]\n",
            "  [ 4  5  6  7]\n",
            "  [ 8  9 10 11]]]\n"
          ]
        }
      ]
    },
    {
      "cell_type": "markdown",
      "source": [
        "### boolean indexing"
      ],
      "metadata": {
        "id": "LLfBhGFZII2B"
      }
    },
    {
      "cell_type": "code",
      "source": [
        "print(c)"
      ],
      "metadata": {
        "colab": {
          "base_uri": "https://localhost:8080/"
        },
        "id": "6vYj63LGIBMS",
        "outputId": "747f988d-9822-453c-f3bc-3494160edad3"
      },
      "execution_count": 56,
      "outputs": [
        {
          "output_type": "stream",
          "name": "stdout",
          "text": [
            "[[[ 0  1  2  3]\n",
            "  [ 4  5  6  7]\n",
            "  [ 8  9 10 11]]\n",
            "\n",
            " [[12 13 14 15]\n",
            "  [16 17 18 19]\n",
            "  [20 21 22 23]]]\n"
          ]
        }
      ]
    },
    {
      "cell_type": "code",
      "source": [
        "bool_idx = c>10\n",
        "print(bool_idx)"
      ],
      "metadata": {
        "colab": {
          "base_uri": "https://localhost:8080/"
        },
        "id": "2ofZRkwhILx9",
        "outputId": "db007f9b-1476-4531-e6d3-280240ebf3b5"
      },
      "execution_count": 57,
      "outputs": [
        {
          "output_type": "stream",
          "name": "stdout",
          "text": [
            "[[[False False False False]\n",
            "  [False False False False]\n",
            "  [False False False  True]]\n",
            "\n",
            " [[ True  True  True  True]\n",
            "  [ True  True  True  True]\n",
            "  [ True  True  True  True]]]\n"
          ]
        }
      ]
    },
    {
      "cell_type": "code",
      "source": [
        "print(c[bool_idx]) # 차원을 무시하고 나옴"
      ],
      "metadata": {
        "colab": {
          "base_uri": "https://localhost:8080/"
        },
        "id": "dzzlziC6IOFX",
        "outputId": "f063e8d2-3832-46ae-f6e4-bbe4e18979c9"
      },
      "execution_count": 58,
      "outputs": [
        {
          "output_type": "stream",
          "name": "stdout",
          "text": [
            "[11 12 13 14 15 16 17 18 19 20 21 22 23]\n"
          ]
        }
      ]
    },
    {
      "cell_type": "code",
      "source": [
        "c[c>10]=-1\n",
        "print(c)"
      ],
      "metadata": {
        "colab": {
          "base_uri": "https://localhost:8080/"
        },
        "id": "ImeYZEYOIQUU",
        "outputId": "8fc67929-fe75-425b-f785-ec1f81ef459f"
      },
      "execution_count": 59,
      "outputs": [
        {
          "output_type": "stream",
          "name": "stdout",
          "text": [
            "[[[ 0  1  2  3]\n",
            "  [ 4  5  6  7]\n",
            "  [ 8  9 10 -1]]\n",
            "\n",
            " [[-1 -1 -1 -1]\n",
            "  [-1 -1 -1 -1]\n",
            "  [-1 -1 -1 -1]]]\n"
          ]
        }
      ]
    },
    {
      "cell_type": "markdown",
      "source": [
        "### fancy indexing(정수 인덱싱)"
      ],
      "metadata": {
        "id": "fGDMZkuZIUK2"
      }
    },
    {
      "cell_type": "code",
      "source": [
        "d = np.arange(8).reshape(8,-1)\n",
        "print(d,d.shape)"
      ],
      "metadata": {
        "colab": {
          "base_uri": "https://localhost:8080/"
        },
        "id": "KllZFsk2IToE",
        "outputId": "87336c34-b439-48fb-ceea-941256341d75"
      },
      "execution_count": 60,
      "outputs": [
        {
          "output_type": "stream",
          "name": "stdout",
          "text": [
            "[[0]\n",
            " [1]\n",
            " [2]\n",
            " [3]\n",
            " [4]\n",
            " [5]\n",
            " [6]\n",
            " [7]] (8, 1)\n"
          ]
        }
      ]
    },
    {
      "cell_type": "code",
      "source": [
        "d = np.hstack((d,d,d,d)) # 옆으로 붙이기\n",
        "print(d,d.shape)"
      ],
      "metadata": {
        "colab": {
          "base_uri": "https://localhost:8080/"
        },
        "id": "8NguxpQuIZ6p",
        "outputId": "cec88f79-2f50-4774-f72d-d3f734117f2d"
      },
      "execution_count": 61,
      "outputs": [
        {
          "output_type": "stream",
          "name": "stdout",
          "text": [
            "[[0 0 0 0]\n",
            " [1 1 1 1]\n",
            " [2 2 2 2]\n",
            " [3 3 3 3]\n",
            " [4 4 4 4]\n",
            " [5 5 5 5]\n",
            " [6 6 6 6]\n",
            " [7 7 7 7]] (8, 4)\n"
          ]
        }
      ]
    },
    {
      "cell_type": "code",
      "source": [
        "print(d[[3,5,1,0]])"
      ],
      "metadata": {
        "colab": {
          "base_uri": "https://localhost:8080/"
        },
        "id": "spidj_6eIdcs",
        "outputId": "a544c439-7d9c-47c5-c903-c64f2cfc4c02"
      },
      "execution_count": 62,
      "outputs": [
        {
          "output_type": "stream",
          "name": "stdout",
          "text": [
            "[[3 3 3 3]\n",
            " [5 5 5 5]\n",
            " [1 1 1 1]\n",
            " [0 0 0 0]]\n"
          ]
        }
      ]
    },
    {
      "cell_type": "code",
      "source": [
        "print(d[[-3,-5,-7]])"
      ],
      "metadata": {
        "colab": {
          "base_uri": "https://localhost:8080/"
        },
        "id": "hMMyQ037Ijjm",
        "outputId": "be3d3c21-fddf-4c1f-aad5-b9cc4a632a64"
      },
      "execution_count": 63,
      "outputs": [
        {
          "output_type": "stream",
          "name": "stdout",
          "text": [
            "[[5 5 5 5]\n",
            " [3 3 3 3]\n",
            " [1 1 1 1]]\n"
          ]
        }
      ]
    },
    {
      "cell_type": "code",
      "source": [
        "e = np.arange(32).reshape(8,4)\n",
        "print(e,e.shape)"
      ],
      "metadata": {
        "colab": {
          "base_uri": "https://localhost:8080/"
        },
        "id": "I6ZvsegIIlht",
        "outputId": "e02aac6c-eb42-4e2b-e044-620a5ae17e39"
      },
      "execution_count": 64,
      "outputs": [
        {
          "output_type": "stream",
          "name": "stdout",
          "text": [
            "[[ 0  1  2  3]\n",
            " [ 4  5  6  7]\n",
            " [ 8  9 10 11]\n",
            " [12 13 14 15]\n",
            " [16 17 18 19]\n",
            " [20 21 22 23]\n",
            " [24 25 26 27]\n",
            " [28 29 30 31]] (8, 4)\n"
          ]
        }
      ]
    },
    {
      "cell_type": "code",
      "source": [
        "print(e[[1,5,7,2],[0,3,1,2]])"
      ],
      "metadata": {
        "colab": {
          "base_uri": "https://localhost:8080/"
        },
        "id": "K9RDdWnbIqF2",
        "outputId": "c61f092e-3985-44db-d905-9383146e902f"
      },
      "execution_count": 65,
      "outputs": [
        {
          "output_type": "stream",
          "name": "stdout",
          "text": [
            "[ 4 23 29 10]\n"
          ]
        }
      ]
    },
    {
      "cell_type": "code",
      "source": [
        "print(e[[1,5,7,2]][:,[0,3,1,2]])"
      ],
      "metadata": {
        "colab": {
          "base_uri": "https://localhost:8080/"
        },
        "id": "X0w36V1YItFA",
        "outputId": "0253a063-e5ef-4934-9cb4-edf63c2b7b17"
      },
      "execution_count": 70,
      "outputs": [
        {
          "output_type": "stream",
          "name": "stdout",
          "text": [
            "[[ 4  7  5  6]\n",
            " [20 23 21 22]\n",
            " [28 31 29 30]\n",
            " [ 8 11  9 10]]\n"
          ]
        }
      ]
    },
    {
      "cell_type": "markdown",
      "source": [
        "## Transpose"
      ],
      "metadata": {
        "id": "UNQVR24fI8NG"
      }
    },
    {
      "cell_type": "code",
      "source": [
        "f = np.arange(16).reshape(2,2,4)\n",
        "print(f,f.shape)"
      ],
      "metadata": {
        "colab": {
          "base_uri": "https://localhost:8080/"
        },
        "id": "bpzjQ2pcIy2E",
        "outputId": "74f62253-0274-437c-f66f-cf70cf661f5a"
      },
      "execution_count": 71,
      "outputs": [
        {
          "output_type": "stream",
          "name": "stdout",
          "text": [
            "[[[ 0  1  2  3]\n",
            "  [ 4  5  6  7]]\n",
            "\n",
            " [[ 8  9 10 11]\n",
            "  [12 13 14 15]]] (2, 2, 4)\n"
          ]
        }
      ]
    },
    {
      "cell_type": "code",
      "source": [
        "print(f.transpose(1,0,2))"
      ],
      "metadata": {
        "colab": {
          "base_uri": "https://localhost:8080/"
        },
        "id": "D47z0V5XJBgs",
        "outputId": "2cb7a6fd-0ef3-4b55-b921-d02cec2bea4f"
      },
      "execution_count": 72,
      "outputs": [
        {
          "output_type": "stream",
          "name": "stdout",
          "text": [
            "[[[ 0  1  2  3]\n",
            "  [ 8  9 10 11]]\n",
            "\n",
            " [[ 4  5  6  7]\n",
            "  [12 13 14 15]]]\n"
          ]
        }
      ]
    },
    {
      "cell_type": "code",
      "source": [
        "print(f.swapaxes(0,1))"
      ],
      "metadata": {
        "colab": {
          "base_uri": "https://localhost:8080/"
        },
        "id": "sqDO2-TOJFAL",
        "outputId": "108cb995-ff2a-46e8-b6da-7ffb2a46a8c8"
      },
      "execution_count": 74,
      "outputs": [
        {
          "output_type": "stream",
          "name": "stdout",
          "text": [
            "[[[ 0  1  2  3]\n",
            "  [ 8  9 10 11]]\n",
            "\n",
            " [[ 4  5  6  7]\n",
            "  [12 13 14 15]]]\n"
          ]
        }
      ]
    },
    {
      "cell_type": "markdown",
      "source": [
        "# Numpy 연산"
      ],
      "metadata": {
        "id": "bH_efU7mJLf1"
      }
    },
    {
      "cell_type": "code",
      "source": [
        "x = np.array([[1,2],[3,4]],dtype=np.float64)\n",
        "y= np.array([[5,6],[7,8]],dtype=np.float64)\n",
        "print(x)\n",
        "print(y)"
      ],
      "metadata": {
        "colab": {
          "base_uri": "https://localhost:8080/"
        },
        "id": "N5ef7LRxJITX",
        "outputId": "c9ab5066-c31a-4497-92e3-ac0456b184e1"
      },
      "execution_count": 77,
      "outputs": [
        {
          "output_type": "stream",
          "name": "stdout",
          "text": [
            "[[1. 2.]\n",
            " [3. 4.]]\n",
            "[[5. 6.]\n",
            " [7. 8.]]\n"
          ]
        }
      ]
    },
    {
      "cell_type": "code",
      "source": [
        "print(x+y)\n",
        "print(np.add(x,y)) #universal function"
      ],
      "metadata": {
        "colab": {
          "base_uri": "https://localhost:8080/"
        },
        "id": "N3AZHcj9Jepk",
        "outputId": "af4e0385-1cc5-4969-921c-4d961f2963c5"
      },
      "execution_count": 78,
      "outputs": [
        {
          "output_type": "stream",
          "name": "stdout",
          "text": [
            "[[ 6.  8.]\n",
            " [10. 12.]]\n",
            "[[ 6.  8.]\n",
            " [10. 12.]]\n"
          ]
        }
      ]
    },
    {
      "cell_type": "code",
      "source": [
        "print(x-y)\n",
        "print(np.subtract(x,y))"
      ],
      "metadata": {
        "colab": {
          "base_uri": "https://localhost:8080/"
        },
        "id": "MIwCj7_2JiwL",
        "outputId": "cbd6c9a8-177d-4db7-e089-27cf1ffcdb51"
      },
      "execution_count": 80,
      "outputs": [
        {
          "output_type": "stream",
          "name": "stdout",
          "text": [
            "[[-4. -4.]\n",
            " [-4. -4.]]\n",
            "[[-4. -4.]\n",
            " [-4. -4.]]\n"
          ]
        }
      ]
    },
    {
      "cell_type": "code",
      "source": [
        "print(x*y)\n",
        "print(np.multiply(x,y))"
      ],
      "metadata": {
        "colab": {
          "base_uri": "https://localhost:8080/"
        },
        "id": "MMKCiGKaJlYk",
        "outputId": "819f731d-dec4-4409-fd7c-a48fcc5cb9f6"
      },
      "execution_count": 81,
      "outputs": [
        {
          "output_type": "stream",
          "name": "stdout",
          "text": [
            "[[ 5. 12.]\n",
            " [21. 32.]]\n",
            "[[ 5. 12.]\n",
            " [21. 32.]]\n"
          ]
        }
      ]
    },
    {
      "cell_type": "code",
      "source": [
        "print(x/y)\n",
        "print(np.divide(x,y))"
      ],
      "metadata": {
        "colab": {
          "base_uri": "https://localhost:8080/"
        },
        "id": "YyxpM31pJqJ8",
        "outputId": "5ba4b378-5ed1-40b0-cafa-36d8a74a0775"
      },
      "execution_count": 82,
      "outputs": [
        {
          "output_type": "stream",
          "name": "stdout",
          "text": [
            "[[0.2        0.33333333]\n",
            " [0.42857143 0.5       ]]\n",
            "[[0.2        0.33333333]\n",
            " [0.42857143 0.5       ]]\n"
          ]
        }
      ]
    },
    {
      "cell_type": "code",
      "source": [
        "print(x@y)\n",
        "print(np.matmul(x,y))"
      ],
      "metadata": {
        "colab": {
          "base_uri": "https://localhost:8080/"
        },
        "id": "pd7AYpg6JsLe",
        "outputId": "ae43ba27-2c39-4802-b4d9-9785cca7ecf0"
      },
      "execution_count": 83,
      "outputs": [
        {
          "output_type": "stream",
          "name": "stdout",
          "text": [
            "[[19. 22.]\n",
            " [43. 50.]]\n",
            "[[19. 22.]\n",
            " [43. 50.]]\n"
          ]
        }
      ]
    },
    {
      "cell_type": "code",
      "source": [
        "z = np.arange(1,11).reshape(2,5)\n",
        "print(z)"
      ],
      "metadata": {
        "colab": {
          "base_uri": "https://localhost:8080/"
        },
        "id": "-_ym6uO-Jv49",
        "outputId": "977cb86b-99b8-4609-9060-5b0708aaf45f"
      },
      "execution_count": 84,
      "outputs": [
        {
          "output_type": "stream",
          "name": "stdout",
          "text": [
            "[[ 1  2  3  4  5]\n",
            " [ 6  7  8  9 10]]\n"
          ]
        }
      ]
    },
    {
      "cell_type": "code",
      "source": [
        "print(np.sum(z))"
      ],
      "metadata": {
        "colab": {
          "base_uri": "https://localhost:8080/"
        },
        "id": "BgZr28hBJzby",
        "outputId": "0cbf3b9a-f3b1-402d-fd44-cc66027831ef"
      },
      "execution_count": 85,
      "outputs": [
        {
          "output_type": "stream",
          "name": "stdout",
          "text": [
            "55\n"
          ]
        }
      ]
    },
    {
      "cell_type": "code",
      "source": [
        "sum1 = np.sum(z,axis=0)\n",
        "sum2 = np.sum(z,axis=1)\n",
        "sum3 = np.sum(z,axis=-1)\n",
        "print(sum1,sum1.shape)\n",
        "print(sum2,sum2.shape)\n",
        "print(sum3,sum3.shape)"
      ],
      "metadata": {
        "colab": {
          "base_uri": "https://localhost:8080/"
        },
        "id": "yBuck2-RJ0jp",
        "outputId": "55da8869-6092-4f0f-f60e-fdb19ef4896c"
      },
      "execution_count": 86,
      "outputs": [
        {
          "output_type": "stream",
          "name": "stdout",
          "text": [
            "[ 7  9 11 13 15] (5,)\n",
            "[15 40] (2,)\n",
            "[15 40] (2,)\n"
          ]
        }
      ]
    },
    {
      "cell_type": "markdown",
      "source": [
        "여기서 축(axis)은 각 배열의 차원에 해당하는 index. axis=0에 대하여 sum을 하라는 것은 0번 축 혹은 차원이 없어지는 방향으로 원소를 모두 더하라는 이야기. \n",
        "\n",
        "즉 위이 예에서 sum1의 경우 z[0:]+z[1:]의 연산을 하라는 의미이고,\n",
        "\n",
        "sum2의 경우에는 z[:,0]+z[:,1]+...+z[:,4]를 하라는 의미"
      ],
      "metadata": {
        "id": "U96QDKqzKSIj"
      }
    },
    {
      "cell_type": "code",
      "source": [
        "z[0,:]+z[1,:]"
      ],
      "metadata": {
        "colab": {
          "base_uri": "https://localhost:8080/"
        },
        "id": "iE_l211AKKA-",
        "outputId": "6aeac1d2-6330-40db-a453-7c238c0d5b01"
      },
      "execution_count": 87,
      "outputs": [
        {
          "output_type": "execute_result",
          "data": {
            "text/plain": [
              "array([ 7,  9, 11, 13, 15])"
            ]
          },
          "metadata": {},
          "execution_count": 87
        }
      ]
    },
    {
      "cell_type": "code",
      "source": [
        "z[:,0]+z[:,1]+z[:,2]+z[:,3]+z[:,4]"
      ],
      "metadata": {
        "colab": {
          "base_uri": "https://localhost:8080/"
        },
        "id": "yNiBCp4LKn0d",
        "outputId": "a8cdfc0e-a29f-4723-eeb1-6c0f0577b164"
      },
      "execution_count": 88,
      "outputs": [
        {
          "output_type": "execute_result",
          "data": {
            "text/plain": [
              "array([15, 40])"
            ]
          },
          "metadata": {},
          "execution_count": 88
        }
      ]
    },
    {
      "cell_type": "markdown",
      "source": [
        "## Braodcasting"
      ],
      "metadata": {
        "id": "mOQ3DdONKuaM"
      }
    },
    {
      "cell_type": "markdown",
      "source": [
        "Broadcasting은 numpy가 산술 연산을 수행할 때 다른 모양의 배열로 작업할 수 있게 해주는 강력한 매커니즘. 종종 더 작은 배열과 더 큰 배열이 있을 때 더 작은 배열을 여러번 사용하여 더 큰 배열에서 어떤 연산을 수행하기 원할 때가 있음.\n",
        "\n",
        "예를 들어, 행렬의 각 행에 상수 벡터를 추가하려 한다고 가정할 때, 다음과 같이 할 수 있음"
      ],
      "metadata": {
        "id": "wPifVB-SKyrI"
      }
    },
    {
      "cell_type": "code",
      "source": [
        "x = np.array([[1,2,3],[4,5,6],[7,8,9],[10,11,12]])\n",
        "y = np.array([[1,0,2]])"
      ],
      "metadata": {
        "id": "I69zLVxmKtfx"
      },
      "execution_count": 89,
      "outputs": []
    },
    {
      "cell_type": "code",
      "source": [
        "print(x,x.shape)\n",
        "print(y,y.shape)"
      ],
      "metadata": {
        "colab": {
          "base_uri": "https://localhost:8080/"
        },
        "id": "c4NkDi6bLJHr",
        "outputId": "3b8cc364-4c63-4b57-d238-d2a7c1e08063"
      },
      "execution_count": 90,
      "outputs": [
        {
          "output_type": "stream",
          "name": "stdout",
          "text": [
            "[[ 1  2  3]\n",
            " [ 4  5  6]\n",
            " [ 7  8  9]\n",
            " [10 11 12]] (4, 3)\n",
            "[[1 0 2]] (1, 3)\n"
          ]
        }
      ]
    },
    {
      "cell_type": "code",
      "source": [
        "z = x+y\n",
        "z,z.shape"
      ],
      "metadata": {
        "colab": {
          "base_uri": "https://localhost:8080/"
        },
        "id": "Wyhg8H6_LLu8",
        "outputId": "e129b63e-b005-4cb6-8463-208ac1c75046"
      },
      "execution_count": 91,
      "outputs": [
        {
          "output_type": "execute_result",
          "data": {
            "text/plain": [
              "(array([[ 2,  2,  5],\n",
              "        [ 5,  5,  8],\n",
              "        [ 8,  8, 11],\n",
              "        [11, 11, 14]]), (4, 3))"
            ]
          },
          "metadata": {},
          "execution_count": 91
        }
      ]
    },
    {
      "cell_type": "markdown",
      "source": [
        "z = x+y는 broadcasting으로 인해 x가 (4,3)이고 yrk (3)인데도 작동. 이 행은 y가 실제로 (4,3)인 것처럼 작동. 각 행은 y의 사본이었고, 합계는 요소별로 수행\n",
        "\n",
        "두 개의 배열을 브로드캐스팅하는 규칙은 다음을 따름\n",
        "\n",
        "1. 배열의 랭크가 같지 않으면 두 모양이 같은 길이가 될 때까지 배열의 낮은 랭크쪽에 1을 붙임\n",
        "2. 두 배열은 차원의 크기가 같거나 배열 중 하나의 차원에 크기가 1인 경우 차원에서 호환가능\n",
        "3. 배열은 모든 차원에서 호환되면 함께 broadcasting을 할 수 있음\n",
        "4. Broadcast 후 각 배열은 두 개의 입력 배열 요소 모양 최대 개수와 동일한 모양을 가진 것처럼 동작\n",
        "5. 한 배열의 크기가 1이고 다른 배열의 크기가 1보다 큰 차원에서 첫 번째 배열은 마치 해당 차원을 따라 복사된 것처럼 작동\n",
        "\n",
        "\n",
        "실제로 동작하는 방식\n",
        "\n",
        "1. A와 B의 모양을 생각\n",
        "2. 두 배열이 len(A.shape) == len(B.shape)인지 확인\n",
        "3. 같지 않은 경우에는 두 배열의 모양 길이가 같아질때까지 적은 쪽의 shape 앞에 1을 추가\n",
        "\n",
        "- 예 : (5,3) -> (1,5,3)\n",
        "\n",
        "4. shape가 1인 곳은 복사가 됨\n",
        "\n",
        "- 예 : shape의 변화는 아래와 같음\n",
        "- (5,3)+(3,)\n",
        "- (5,3)+(1,3)\n",
        "- (5,3)+(5,3)\n",
        "- (5,3)"
      ],
      "metadata": {
        "id": "O3PZV36ULQAs"
      }
    },
    {
      "cell_type": "code",
      "source": [
        "x = np.array([1,2,3]).reshape(1,3)\n",
        "y = np.array([4,5]).reshape(1,2)\n",
        "print(x,x.shape)\n",
        "print(y,y.shape)"
      ],
      "metadata": {
        "colab": {
          "base_uri": "https://localhost:8080/"
        },
        "id": "lRyXgon0LNWG",
        "outputId": "7009148a-7640-4010-9f9b-8f4a990c5037"
      },
      "execution_count": 93,
      "outputs": [
        {
          "output_type": "stream",
          "name": "stdout",
          "text": [
            "[[1 2 3]] (1, 3)\n",
            "[[4 5]] (1, 2)\n"
          ]
        }
      ]
    },
    {
      "cell_type": "code",
      "source": [
        "x+y"
      ],
      "metadata": {
        "colab": {
          "base_uri": "https://localhost:8080/",
          "height": 172
        },
        "id": "OvmBQXPpMceD",
        "outputId": "80968b47-2801-4f21-ad0c-8b73b4e39c51"
      },
      "execution_count": 94,
      "outputs": [
        {
          "output_type": "error",
          "ename": "ValueError",
          "evalue": "ignored",
          "traceback": [
            "\u001b[0;31m---------------------------------------------------------------------------\u001b[0m",
            "\u001b[0;31mValueError\u001b[0m                                Traceback (most recent call last)",
            "\u001b[0;32m<ipython-input-94-259706549f3d>\u001b[0m in \u001b[0;36m<module>\u001b[0;34m()\u001b[0m\n\u001b[0;32m----> 1\u001b[0;31m \u001b[0mx\u001b[0m\u001b[0;34m+\u001b[0m\u001b[0my\u001b[0m\u001b[0;34m\u001b[0m\u001b[0;34m\u001b[0m\u001b[0m\n\u001b[0m",
            "\u001b[0;31mValueError\u001b[0m: operands could not be broadcast together with shapes (1,3) (1,2) "
          ]
        }
      ]
    },
    {
      "cell_type": "code",
      "source": [
        "y = y.swapaxes(0,1)\n",
        "y,y.shape"
      ],
      "metadata": {
        "colab": {
          "base_uri": "https://localhost:8080/"
        },
        "id": "Tbq3lubcMe3M",
        "outputId": "d69a309c-fed6-42c7-b969-d102cdff0499"
      },
      "execution_count": 95,
      "outputs": [
        {
          "output_type": "execute_result",
          "data": {
            "text/plain": [
              "(array([[4],\n",
              "        [5]]), (2, 1))"
            ]
          },
          "metadata": {},
          "execution_count": 95
        }
      ]
    },
    {
      "cell_type": "code",
      "source": [
        "# Broadcasting 발생\n",
        "x+y"
      ],
      "metadata": {
        "colab": {
          "base_uri": "https://localhost:8080/"
        },
        "id": "genVly_bMi-Y",
        "outputId": "ea818091-18a8-4e8a-cefe-ed1498edc506"
      },
      "execution_count": 96,
      "outputs": [
        {
          "output_type": "execute_result",
          "data": {
            "text/plain": [
              "array([[5, 6, 7],\n",
              "       [6, 7, 8]])"
            ]
          },
          "metadata": {},
          "execution_count": 96
        }
      ]
    },
    {
      "cell_type": "markdown",
      "source": [
        "# Shape 변경"
      ],
      "metadata": {
        "id": "GfMLlr5kM1mZ"
      }
    },
    {
      "cell_type": "code",
      "source": [
        "a = np.arange(24).reshape(2,3,4)\n",
        "a,a.shape"
      ],
      "metadata": {
        "colab": {
          "base_uri": "https://localhost:8080/"
        },
        "id": "QWkDZjs3Mlpy",
        "outputId": "b80604ec-9fcc-4893-8dff-9f26c11c7d70"
      },
      "execution_count": 97,
      "outputs": [
        {
          "output_type": "execute_result",
          "data": {
            "text/plain": [
              "(array([[[ 0,  1,  2,  3],\n",
              "         [ 4,  5,  6,  7],\n",
              "         [ 8,  9, 10, 11]],\n",
              " \n",
              "        [[12, 13, 14, 15],\n",
              "         [16, 17, 18, 19],\n",
              "         [20, 21, 22, 23]]]), (2, 3, 4))"
            ]
          },
          "metadata": {},
          "execution_count": 97
        }
      ]
    },
    {
      "cell_type": "code",
      "source": [
        "a = a.reshape(4,-1)\n",
        "a,a.shape"
      ],
      "metadata": {
        "colab": {
          "base_uri": "https://localhost:8080/"
        },
        "id": "4DNQhu3HM4wv",
        "outputId": "ca194f0c-eb6c-4b87-c8f6-abae1b5c649c"
      },
      "execution_count": 98,
      "outputs": [
        {
          "output_type": "execute_result",
          "data": {
            "text/plain": [
              "(array([[ 0,  1,  2,  3,  4,  5],\n",
              "        [ 6,  7,  8,  9, 10, 11],\n",
              "        [12, 13, 14, 15, 16, 17],\n",
              "        [18, 19, 20, 21, 22, 23]]), (4, 6))"
            ]
          },
          "metadata": {},
          "execution_count": 98
        }
      ]
    },
    {
      "cell_type": "code",
      "source": [
        "a = a[...,np.newaxis]\n",
        "a,a.shape"
      ],
      "metadata": {
        "colab": {
          "base_uri": "https://localhost:8080/"
        },
        "id": "RA44xKoSM7I5",
        "outputId": "8f80370a-3ced-4e28-cec5-ef5932bdae95"
      },
      "execution_count": 99,
      "outputs": [
        {
          "output_type": "execute_result",
          "data": {
            "text/plain": [
              "(array([[[ 0],\n",
              "         [ 1],\n",
              "         [ 2],\n",
              "         [ 3],\n",
              "         [ 4],\n",
              "         [ 5]],\n",
              " \n",
              "        [[ 6],\n",
              "         [ 7],\n",
              "         [ 8],\n",
              "         [ 9],\n",
              "         [10],\n",
              "         [11]],\n",
              " \n",
              "        [[12],\n",
              "         [13],\n",
              "         [14],\n",
              "         [15],\n",
              "         [16],\n",
              "         [17]],\n",
              " \n",
              "        [[18],\n",
              "         [19],\n",
              "         [20],\n",
              "         [21],\n",
              "         [22],\n",
              "         [23]]]), (4, 6, 1))"
            ]
          },
          "metadata": {},
          "execution_count": 99
        }
      ]
    },
    {
      "cell_type": "code",
      "source": [
        "a = a.reshape(4,6)\n",
        "a = np.expand_dims(a,axis=1)\n",
        "a,a.shape"
      ],
      "metadata": {
        "colab": {
          "base_uri": "https://localhost:8080/"
        },
        "id": "Z-R-ZlFGM-nN",
        "outputId": "a08fd3db-48b9-4c51-e76d-cd9936c7aee4"
      },
      "execution_count": 103,
      "outputs": [
        {
          "output_type": "execute_result",
          "data": {
            "text/plain": [
              "(array([[[ 0,  1,  2,  3,  4,  5]],\n",
              " \n",
              "        [[ 6,  7,  8,  9, 10, 11]],\n",
              " \n",
              "        [[12, 13, 14, 15, 16, 17]],\n",
              " \n",
              "        [[18, 19, 20, 21, 22, 23]]]), (4, 1, 6))"
            ]
          },
          "metadata": {},
          "execution_count": 103
        }
      ]
    },
    {
      "cell_type": "code",
      "source": [
        "b = a.copy()\n",
        "b,b.shape"
      ],
      "metadata": {
        "colab": {
          "base_uri": "https://localhost:8080/"
        },
        "id": "8sAR7VBdNF_n",
        "outputId": "b8321b96-f4f8-4bcc-cc16-c10ab4577782"
      },
      "execution_count": 104,
      "outputs": [
        {
          "output_type": "execute_result",
          "data": {
            "text/plain": [
              "(array([[[ 0,  1,  2,  3,  4,  5]],\n",
              " \n",
              "        [[ 6,  7,  8,  9, 10, 11]],\n",
              " \n",
              "        [[12, 13, 14, 15, 16, 17]],\n",
              " \n",
              "        [[18, 19, 20, 21, 22, 23]]]), (4, 1, 6))"
            ]
          },
          "metadata": {},
          "execution_count": 104
        }
      ]
    },
    {
      "cell_type": "code",
      "source": [
        "c = np.concatenate((a,b),axis=-1)\n",
        "c,c.shape"
      ],
      "metadata": {
        "colab": {
          "base_uri": "https://localhost:8080/"
        },
        "id": "4i2nhz6wNNYj",
        "outputId": "20924f08-cc37-408b-e94c-9e53102d6622"
      },
      "execution_count": 106,
      "outputs": [
        {
          "output_type": "execute_result",
          "data": {
            "text/plain": [
              "(array([[[ 0,  1,  2,  3,  4,  5,  0,  1,  2,  3,  4,  5]],\n",
              " \n",
              "        [[ 6,  7,  8,  9, 10, 11,  6,  7,  8,  9, 10, 11]],\n",
              " \n",
              "        [[12, 13, 14, 15, 16, 17, 12, 13, 14, 15, 16, 17]],\n",
              " \n",
              "        [[18, 19, 20, 21, 22, 23, 18, 19, 20, 21, 22, 23]]]), (4, 1, 12))"
            ]
          },
          "metadata": {},
          "execution_count": 106
        }
      ]
    },
    {
      "cell_type": "code",
      "source": [
        "c = np.concatenate((a,b),axis=0)\n",
        "c,c.shape"
      ],
      "metadata": {
        "colab": {
          "base_uri": "https://localhost:8080/"
        },
        "id": "zz_QhK8SNQaT",
        "outputId": "f162f5a6-e77f-4b6f-9917-0d8de985443a"
      },
      "execution_count": 107,
      "outputs": [
        {
          "output_type": "execute_result",
          "data": {
            "text/plain": [
              "(array([[[ 0,  1,  2,  3,  4,  5]],\n",
              " \n",
              "        [[ 6,  7,  8,  9, 10, 11]],\n",
              " \n",
              "        [[12, 13, 14, 15, 16, 17]],\n",
              " \n",
              "        [[18, 19, 20, 21, 22, 23]],\n",
              " \n",
              "        [[ 0,  1,  2,  3,  4,  5]],\n",
              " \n",
              "        [[ 6,  7,  8,  9, 10, 11]],\n",
              " \n",
              "        [[12, 13, 14, 15, 16, 17]],\n",
              " \n",
              "        [[18, 19, 20, 21, 22, 23]]]), (8, 1, 6))"
            ]
          },
          "metadata": {},
          "execution_count": 107
        }
      ]
    },
    {
      "cell_type": "code",
      "source": [
        "# stack은 차원을 늘림으로써 이어 붙임\n",
        "d = np.stack((a,b),axis=-1)\n",
        "d,d.shape"
      ],
      "metadata": {
        "colab": {
          "base_uri": "https://localhost:8080/"
        },
        "id": "GRESwXcJNU4t",
        "outputId": "fcbdd474-54f8-4754-dcc0-75c7a911a672"
      },
      "execution_count": 108,
      "outputs": [
        {
          "output_type": "execute_result",
          "data": {
            "text/plain": [
              "(array([[[[ 0,  0],\n",
              "          [ 1,  1],\n",
              "          [ 2,  2],\n",
              "          [ 3,  3],\n",
              "          [ 4,  4],\n",
              "          [ 5,  5]]],\n",
              " \n",
              " \n",
              "        [[[ 6,  6],\n",
              "          [ 7,  7],\n",
              "          [ 8,  8],\n",
              "          [ 9,  9],\n",
              "          [10, 10],\n",
              "          [11, 11]]],\n",
              " \n",
              " \n",
              "        [[[12, 12],\n",
              "          [13, 13],\n",
              "          [14, 14],\n",
              "          [15, 15],\n",
              "          [16, 16],\n",
              "          [17, 17]]],\n",
              " \n",
              " \n",
              "        [[[18, 18],\n",
              "          [19, 19],\n",
              "          [20, 20],\n",
              "          [21, 21],\n",
              "          [22, 22],\n",
              "          [23, 23]]]]), (4, 1, 6, 2))"
            ]
          },
          "metadata": {},
          "execution_count": 108
        }
      ]
    },
    {
      "cell_type": "code",
      "source": [
        "d = np.stack((a,b),axis=0)\n",
        "d,d.shape"
      ],
      "metadata": {
        "colab": {
          "base_uri": "https://localhost:8080/"
        },
        "id": "R1UmfhgwNhfy",
        "outputId": "2f73fe01-ccbd-40aa-85a4-95909520fd80"
      },
      "execution_count": 109,
      "outputs": [
        {
          "output_type": "execute_result",
          "data": {
            "text/plain": [
              "(array([[[[ 0,  1,  2,  3,  4,  5]],\n",
              " \n",
              "         [[ 6,  7,  8,  9, 10, 11]],\n",
              " \n",
              "         [[12, 13, 14, 15, 16, 17]],\n",
              " \n",
              "         [[18, 19, 20, 21, 22, 23]]],\n",
              " \n",
              " \n",
              "        [[[ 0,  1,  2,  3,  4,  5]],\n",
              " \n",
              "         [[ 6,  7,  8,  9, 10, 11]],\n",
              " \n",
              "         [[12, 13, 14, 15, 16, 17]],\n",
              " \n",
              "         [[18, 19, 20, 21, 22, 23]]]]), (2, 4, 1, 6))"
            ]
          },
          "metadata": {},
          "execution_count": 109
        }
      ]
    },
    {
      "cell_type": "code",
      "source": [
        ""
      ],
      "metadata": {
        "id": "gh0FtKuqNj2j"
      },
      "execution_count": null,
      "outputs": []
    }
  ]
}