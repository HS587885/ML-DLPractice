{
  "nbformat": 4,
  "nbformat_minor": 0,
  "metadata": {
    "colab": {
      "name": "외국어문장판별하기.ipynb",
      "provenance": [],
      "mount_file_id": "1FZdHfiDsvPAffi3Vj-bbcClMD3CHzSPU",
      "authorship_tag": "ABX9TyO5ckcXAx8S42bqlKEa5kFk",
      "include_colab_link": true
    },
    "kernelspec": {
      "name": "python3",
      "display_name": "Python 3"
    },
    "language_info": {
      "name": "python"
    }
  },
  "cells": [
    {
      "cell_type": "markdown",
      "metadata": {
        "id": "view-in-github",
        "colab_type": "text"
      },
      "source": [
        "<a href=\"https://colab.research.google.com/github/as9786/ML-DLPratice/blob/main/%EB%A8%B8%EC%8B%A0%EB%9F%AC%EB%8B%9D/%EC%99%B8%EA%B5%AD%EC%96%B4%EB%AC%B8%EC%9E%A5%ED%8C%90%EB%B3%84%ED%95%98%EA%B8%B0.ipynb\" target=\"_parent\"><img src=\"https://colab.research.google.com/assets/colab-badge.svg\" alt=\"Open In Colab\"/></a>"
      ]
    },
    {
      "cell_type": "markdown",
      "source": [
        "# 언어 판별 프로그램"
      ],
      "metadata": {
        "id": "psUed9QDeBz-"
      }
    },
    {
      "cell_type": "code",
      "execution_count": 1,
      "metadata": {
        "id": "OcmWMo7-dEmN"
      },
      "outputs": [],
      "source": [
        "from sklearn import svm, metrics\n",
        "import glob, os.path, re, json"
      ]
    },
    {
      "cell_type": "code",
      "source": [
        "#텍스트를 읽어들이고 출현 빈도 조사하기\n",
        "def check_freq(fname):\n",
        "    name = os.path.basename(fname)\n",
        "    lang = re.match('^[a-z]{2,}',name).group()\n",
        "    with open(fname,'r',encoding='utf-8') as f:\n",
        "        text = f.read()\n",
        "    text = text.lower()\n",
        "    #숫자 세기 변수 초기화\n",
        "    cnt = [0 for n in range(0,26)]\n",
        "    code_a = ord(\"a\")\n",
        "    code_z = ord('z')\n",
        "    #알파벳 출현 횟수 구하기\n",
        "    for ch in text:\n",
        "        n = ord(ch)\n",
        "        if code_a<=n<code_z: #a~z 사이에 있을 때\n",
        "            cnt[n-code_a] += 1\n",
        "    # 정규화하기\n",
        "    total = sum(cnt)\n",
        "    freq = list(map(lambda n: n/total,cnt))\n",
        "    return (freq,lang)"
      ],
      "metadata": {
        "id": "7ghYTkHUd_5G"
      },
      "execution_count": 2,
      "outputs": []
    },
    {
      "cell_type": "code",
      "source": [
        "# 각 파일 처리하기\n",
        "def load_files(path):\n",
        "    freqs = []\n",
        "    labels = []\n",
        "    file_list = glob.glob(path)\n",
        "    for fname in file_list:\n",
        "        r = check_freq(fname)\n",
        "        freqs.append(r[0])\n",
        "        labels.append(r[1])\n",
        "    return {'freqs':freqs,'labels':labels}"
      ],
      "metadata": {
        "id": "Gw9P4k4JiRXD"
      },
      "execution_count": 4,
      "outputs": []
    },
    {
      "cell_type": "code",
      "source": [
        "data = load_files('/content/drive/MyDrive/머신러닝,딥러닝실전/4장/lang/train/*.txt')\n",
        "test = load_files('/content/drive/MyDrive/머신러닝,딥러닝실전/4장/lang/test/*.txt')"
      ],
      "metadata": {
        "id": "tKkKQlI_isbL"
      },
      "execution_count": 5,
      "outputs": []
    },
    {
      "cell_type": "code",
      "source": [
        "# 이후를 대비해서 JSON으로 결과 저장하기\n",
        "with open('/content/drive/MyDrive/머신러닝,딥러닝실전/4장/lang/freq.json','w',encoding='utf-8') as fp:\n",
        "    json.dump([data,test],fp)"
      ],
      "metadata": {
        "id": "T0frFU7djI6b"
      },
      "execution_count": 32,
      "outputs": []
    },
    {
      "cell_type": "code",
      "source": [
        "data"
      ],
      "metadata": {
        "colab": {
          "base_uri": "https://localhost:8080/"
        },
        "id": "ow4T9Dz5kEMN",
        "outputId": "32fa4dcf-7930-466b-d9be-5a932d32d7d0"
      },
      "execution_count": 15,
      "outputs": [
        {
          "output_type": "execute_result",
          "data": {
            "text/plain": [
              "{'freqs': [[0.07598519486174614,\n",
              "   0.012845634661441323,\n",
              "   0.045721750489875895,\n",
              "   0.04615719573263662,\n",
              "   0.10537774874809493,\n",
              "   0.015676028739386023,\n",
              "   0.019159590681471803,\n",
              "   0.043762246897452645,\n",
              "   0.07402569126932289,\n",
              "   0.0017417809710428913,\n",
              "   0.0054430655345090355,\n",
              "   0.05377748748094927,\n",
              "   0.02634443718702373,\n",
              "   0.07750925321140867,\n",
              "   0.08970172000870891,\n",
              "   0.016546919224907468,\n",
              "   0.0,\n",
              "   0.07772697583278902,\n",
              "   0.06139777922926192,\n",
              "   0.08055736991073373,\n",
              "   0.025908991944263007,\n",
              "   0.009797517962116264,\n",
              "   0.014151970389723493,\n",
              "   0.0006531678641410843,\n",
              "   0.020030481166993252,\n",
              "   0.0],\n",
              "  [0.0842281078501551,\n",
              "   0.019923645907897875,\n",
              "   0.03042233357193987,\n",
              "   0.03889286566451921,\n",
              "   0.13707945597709378,\n",
              "   0.017418277260796946,\n",
              "   0.031257456454306845,\n",
              "   0.027439751849200666,\n",
              "   0.07539966595084706,\n",
              "   0.0026246719160104987,\n",
              "   0.009782868050584585,\n",
              "   0.04235266046289669,\n",
              "   0.024218563588642328,\n",
              "   0.053567167740396084,\n",
              "   0.0688379861608208,\n",
              "   0.02028155571462658,\n",
              "   0.0054879503698401335,\n",
              "   0.0901932712956335,\n",
              "   0.07170126461465044,\n",
              "   0.07778573132903842,\n",
              "   0.03066094010975901,\n",
              "   0.013719875924600333,\n",
              "   0.01395848246241947,\n",
              "   0.0020281555714626582,\n",
              "   0.010737294201861132,\n",
              "   0.0],\n",
              "  [0.07233238904627007,\n",
              "   0.027762039660056657,\n",
              "   0.03002832861189802,\n",
              "   0.039660056657223795,\n",
              "   0.12124645892351275,\n",
              "   0.016808309726156753,\n",
              "   0.023607176581680833,\n",
              "   0.0591123701605288,\n",
              "   0.06534466477809255,\n",
              "   0.001510859301227573,\n",
              "   0.013031161473087818,\n",
              "   0.044948064211520304,\n",
              "   0.02152974504249292,\n",
              "   0.05873465533522191,\n",
              "   0.08781869688385269,\n",
              "   0.016808309726156753,\n",
              "   0.00037771482530689327,\n",
              "   0.05930122757318225,\n",
              "   0.07346553352219075,\n",
              "   0.09386213408876298,\n",
              "   0.024362606232294616,\n",
              "   0.0050991501416430595,\n",
              "   0.01964117091595845,\n",
              "   0.006043437204910292,\n",
              "   0.017563739376770537,\n",
              "   0.0],\n",
              "  [0.07168557985053972,\n",
              "   0.012178245225574315,\n",
              "   0.04566841959590368,\n",
              "   0.032659839468585666,\n",
              "   0.12012178245225574,\n",
              "   0.014669249930805425,\n",
              "   0.025186825352892333,\n",
              "   0.023526155549404928,\n",
              "   0.09465817879878217,\n",
              "   0.00249100470523111,\n",
              "   0.0016606698034874066,\n",
              "   0.05701632991973429,\n",
              "   0.02241904234707999,\n",
              "   0.075560476058677,\n",
              "   0.07666758926100194,\n",
              "   0.02075837254359258,\n",
              "   0.0016606698034874066,\n",
              "   0.053971768613340715,\n",
              "   0.08801549958483255,\n",
              "   0.08109604207030169,\n",
              "   0.029061721561029614,\n",
              "   0.01882092443952394,\n",
              "   0.01190146692499308,\n",
              "   0.0005535566011624688,\n",
              "   0.01799058953778024,\n",
              "   0.0],\n",
              "  [0.07385492000876616,\n",
              "   0.020381328073635765,\n",
              "   0.031119877273723427,\n",
              "   0.039666885820731974,\n",
              "   0.14135437212360288,\n",
              "   0.020381328073635765,\n",
              "   0.020381328073635765,\n",
              "   0.05698005698005698,\n",
              "   0.0650887573964497,\n",
              "   0.003287310979618672,\n",
              "   0.005917159763313609,\n",
              "   0.039666885820731974,\n",
              "   0.028928336620644313,\n",
              "   0.06223975454744685,\n",
              "   0.06618452772298926,\n",
              "   0.018847249616480384,\n",
              "   0.00043830813061582295,\n",
              "   0.07253999561691869,\n",
              "   0.05960990576375192,\n",
              "   0.0955511724742494,\n",
              "   0.024983563445101907,\n",
              "   0.010738549200087662,\n",
              "   0.02388779311856235,\n",
              "   0.0030681569143107606,\n",
              "   0.01490247644093798,\n",
              "   0.0],\n",
              "  [0.07272512268669071,\n",
              "   0.013066871637202153,\n",
              "   0.03541654348725832,\n",
              "   0.04499497428013954,\n",
              "   0.15077159581387098,\n",
              "   0.01052444864896825,\n",
              "   0.010583574764973689,\n",
              "   0.011529592621060722,\n",
              "   0.07142434813457103,\n",
              "   0.0030154319162774197,\n",
              "   0.0010051439720924731,\n",
              "   0.05959912493348312,\n",
              "   0.04203866847986756,\n",
              "   0.07627268964701708,\n",
              "   0.061964169573700704,\n",
              "   0.03145509371489387,\n",
              "   0.006622124992609235,\n",
              "   0.07692307692307693,\n",
              "   0.07834210370720747,\n",
              "   0.0656891148820434,\n",
              "   0.0509075858806835,\n",
              "   0.012712114941169514,\n",
              "   0.0026015491042393427,\n",
              "   0.004966593744456927,\n",
              "   0.004848341512446047,\n",
              "   0.0],\n",
              "  [0.07794923565041822,\n",
              "   0.014926449379867321,\n",
              "   0.03576579175079319,\n",
              "   0.04485145659071243,\n",
              "   0.14980530718200172,\n",
              "   0.011789731756561868,\n",
              "   0.011501297952119988,\n",
              "   0.012618978944332275,\n",
              "   0.07203634265935968,\n",
              "   0.0021271993077588694,\n",
              "   0.001946928179982694,\n",
              "   0.06504182290164408,\n",
              "   0.03147533890972022,\n",
              "   0.06879146235938852,\n",
              "   0.056965676377271415,\n",
              "   0.029167868474185173,\n",
              "   0.006850302855494664,\n",
              "   0.07477646380155754,\n",
              "   0.0821315258148255,\n",
              "   0.07059417363715027,\n",
              "   0.0544779348139602,\n",
              "   0.010635996538794346,\n",
              "   0.004542832419959619,\n",
              "   0.003893856359965388,\n",
              "   0.005336025382174791,\n",
              "   0.0],\n",
              "  [0.0727430987316588,\n",
              "   0.015792091519522506,\n",
              "   0.039915443919423026,\n",
              "   0.05123103705545884,\n",
              "   0.15742352648594876,\n",
              "   0.01305645361850286,\n",
              "   0.01355384232777916,\n",
              "   0.014424272569012683,\n",
              "   0.08579955235016165,\n",
              "   0.00435215120616762,\n",
              "   0.0018652076597861229,\n",
              "   0.062173588659537427,\n",
              "   0.029097239492663518,\n",
              "   0.07411091768216861,\n",
              "   0.05632927132554091,\n",
              "   0.023501616513305148,\n",
              "   0.005844317333996518,\n",
              "   0.08219348420790848,\n",
              "   0.06665008704302412,\n",
              "   0.06117881124098483,\n",
              "   0.04277542899776175,\n",
              "   0.015170355632927133,\n",
              "   0.0007460830639144492,\n",
              "   0.005098234270082069,\n",
              "   0.004973887092762994,\n",
              "   0.0],\n",
              "  [0.07903981264637003,\n",
              "   0.011514441842310695,\n",
              "   0.0353239656518345,\n",
              "   0.05191256830601093,\n",
              "   0.14344262295081966,\n",
              "   0.01209992193598751,\n",
              "   0.020101483216237316,\n",
              "   0.0195160031225605,\n",
              "   0.0899687743950039,\n",
              "   0.0039032006245121,\n",
              "   0.00234192037470726,\n",
              "   0.057572209211553475,\n",
              "   0.024785323965651834,\n",
              "   0.08001561280249805,\n",
              "   0.059718969555035126,\n",
              "   0.0234192037470726,\n",
              "   0.00468384074941452,\n",
              "   0.0778688524590164,\n",
              "   0.07240437158469945,\n",
              "   0.06342701014832162,\n",
              "   0.043911007025761124,\n",
              "   0.01405152224824356,\n",
              "   0.00039032006245121,\n",
              "   0.003317720530835285,\n",
              "   0.005269320843091335,\n",
              "   0.0],\n",
              "  [0.07880382468074183,\n",
              "   0.010460116793942117,\n",
              "   0.03728421998331515,\n",
              "   0.053327343900404285,\n",
              "   0.1506128473336328,\n",
              "   0.016235641404094205,\n",
              "   0.010716806776615543,\n",
              "   0.015529743951742283,\n",
              "   0.06943464031316178,\n",
              "   0.0023102098440608357,\n",
              "   0.004107039722774819,\n",
              "   0.07033305525251878,\n",
              "   0.026824103189373033,\n",
              "   0.07225823012256946,\n",
              "   0.049220304177629466,\n",
              "   0.026054033241352755,\n",
              "   0.005903869601488802,\n",
              "   0.07514599242764551,\n",
              "   0.07168067766155425,\n",
              "   0.07764871975871142,\n",
              "   0.053519861387409357,\n",
              "   0.014310466534043508,\n",
              "   0.000705897452351922,\n",
              "   0.003914522235769749,\n",
              "   0.0036578322530963227,\n",
              "   0.0],\n",
              "  [0.14764846803681755,\n",
              "   0.02471315092674316,\n",
              "   0.009204387845164544,\n",
              "   0.03946538897995209,\n",
              "   0.09343084100365653,\n",
              "   0.011095700416088766,\n",
              "   0.0339175387719077,\n",
              "   0.018534863195057368,\n",
              "   0.10036565376371201,\n",
              "   0.00529567519858782,\n",
              "   0.03795233892321271,\n",
              "   0.03719581389484302,\n",
              "   0.03845668894212584,\n",
              "   0.08473080317740513,\n",
              "   0.035556676333375364,\n",
              "   0.034800151305005675,\n",
              "   0.0,\n",
              "   0.046652376749464125,\n",
              "   0.0814525280544698,\n",
              "   0.05081326440549742,\n",
              "   0.04060017652250662,\n",
              "   0.008069600302610011,\n",
              "   0.005043500189131257,\n",
              "   0.0013869625520110957,\n",
              "   0.013617450510654393,\n",
              "   0.0],\n",
              "  [0.12624750499001997,\n",
              "   0.03243512974051896,\n",
              "   0.014471057884231538,\n",
              "   0.0344311377245509,\n",
              "   0.0968063872255489,\n",
              "   0.004491017964071856,\n",
              "   0.059880239520958084,\n",
              "   0.013972055888223553,\n",
              "   0.10479041916167664,\n",
              "   0.003992015968063872,\n",
              "   0.0249500998003992,\n",
              "   0.04840319361277445,\n",
              "   0.02944111776447106,\n",
              "   0.08632734530938124,\n",
              "   0.0374251497005988,\n",
              "   0.0249500998003992,\n",
              "   0.0,\n",
              "   0.07684630738522955,\n",
              "   0.06936127744510978,\n",
              "   0.046906187624750496,\n",
              "   0.04241516966067864,\n",
              "   0.003992015968063872,\n",
              "   0.006487025948103792,\n",
              "   0.0014970059880239522,\n",
              "   0.009481037924151697,\n",
              "   0.0],\n",
              "  [0.17740224012576145,\n",
              "   0.023344468461387307,\n",
              "   0.005502063273727648,\n",
              "   0.03875024562782472,\n",
              "   0.08367066221261545,\n",
              "   0.012694045981528788,\n",
              "   0.049597170367459226,\n",
              "   0.018667714678718805,\n",
              "   0.08716840243662802,\n",
              "   0.007388484967577127,\n",
              "   0.039418353311063074,\n",
              "   0.03552760856749853,\n",
              "   0.04193358223619571,\n",
              "   0.09935154254273924,\n",
              "   0.03092945568874042,\n",
              "   0.030064845745726074,\n",
              "   0.0,\n",
              "   0.05207309884063667,\n",
              "   0.04763214776969935,\n",
              "   0.04987227353114561,\n",
              "   0.0485360581646689,\n",
              "   0.0015720180782078995,\n",
              "   0.004087247003340538,\n",
              "   0.0002358027117311849,\n",
              "   0.014580467675378267,\n",
              "   0.0],\n",
              "  [0.1692958313754447,\n",
              "   0.025307108813855138,\n",
              "   0.00456467745183594,\n",
              "   0.03242263542995234,\n",
              "   0.06974558635966974,\n",
              "   0.007921057931127072,\n",
              "   0.04510975364167282,\n",
              "   0.015036584547224273,\n",
              "   0.09740216150902867,\n",
              "   0.006645633348996443,\n",
              "   0.04101496945693764,\n",
              "   0.048533261730549775,\n",
              "   0.04343156340202725,\n",
              "   0.08901121031080084,\n",
              "   0.057931127072564946,\n",
              "   0.029670403436933612,\n",
              "   0.0,\n",
              "   0.0500771967510237,\n",
              "   0.054440491374102166,\n",
              "   0.04980868631268041,\n",
              "   0.04665368866214674,\n",
              "   0.0022152111163321474,\n",
              "   0.0018124454588172114,\n",
              "   0.00020138282875746796,\n",
              "   0.011747331677518964,\n",
              "   0.0],\n",
              "  [0.18025806870998148,\n",
              "   0.025693112750674423,\n",
              "   0.00825559853089349,\n",
              "   0.04615334611759352,\n",
              "   0.0836773166054539,\n",
              "   0.00511912113628238,\n",
              "   0.034159976598303374,\n",
              "   0.02085026164396919,\n",
              "   0.08879643774173628,\n",
              "   0.009068157441414502,\n",
              "   0.03596385737966003,\n",
              "   0.03572008970650372,\n",
              "   0.034013715994409596,\n",
              "   0.10002600188513668,\n",
              "   0.03485877726135145,\n",
              "   0.029755907303279486,\n",
              "   0.0001787629603146228,\n",
              "   0.05694412844931258,\n",
              "   0.054441447004907856,\n",
              "   0.05026489420482985,\n",
              "   0.04330938993076998,\n",
              "   0.003006467968927747,\n",
              "   0.006240452432801378,\n",
              "   0.00030877238599798484,\n",
              "   0.012935937855494524,\n",
              "   0.0],\n",
              "  [0.2200146047587172,\n",
              "   0.01792125600924968,\n",
              "   0.0049899592283819145,\n",
              "   0.013996227103998053,\n",
              "   0.02306334814093592,\n",
              "   0.0017951682589910545,\n",
              "   0.08991054585285706,\n",
              "   0.01688675226678026,\n",
              "   0.08516399926976206,\n",
              "   0.0006998113551999026,\n",
              "   0.03505142092131686,\n",
              "   0.0463396823464979,\n",
              "   0.04320574453842877,\n",
              "   0.12931296780867765,\n",
              "   0.04947362015456703,\n",
              "   0.028844398466500335,\n",
              "   0.00024341264528692264,\n",
              "   0.023185054463579383,\n",
              "   0.05412888699567943,\n",
              "   0.04487920647477636,\n",
              "   0.032678147629769366,\n",
              "   0.000638958193878172,\n",
              "   0.009097547617598734,\n",
              "   0.0003042658066086533,\n",
              "   0.028175013691961296,\n",
              "   0.0],\n",
              "  [0.22329634918891209,\n",
              "   0.02460727232780402,\n",
              "   0.008129188179720971,\n",
              "   0.013182467318466439,\n",
              "   0.02424109268006884,\n",
              "   0.0035153246182577174,\n",
              "   0.0964151012486726,\n",
              "   0.018821633893588194,\n",
              "   0.08726061005529313,\n",
              "   0.001281628767073126,\n",
              "   0.02706067596762972,\n",
              "   0.050898971035189866,\n",
              "   0.030246438902925776,\n",
              "   0.12735728148229522,\n",
              "   0.044783770918012375,\n",
              "   0.0335786736973159,\n",
              "   0.0008788311545644293,\n",
              "   0.01768647698560914,\n",
              "   0.04910469076128749,\n",
              "   0.05459738547731517,\n",
              "   0.027536709509685453,\n",
              "   0.0024534036398256983,\n",
              "   0.012413490058222563,\n",
              "   0.0005126515068292505,\n",
              "   0.020139880625434838,\n",
              "   0.0],\n",
              "  [0.2297304869165686,\n",
              "   0.021067966605031657,\n",
              "   0.0025214321734745334,\n",
              "   0.012775256345604303,\n",
              "   0.029808931473076707,\n",
              "   0.0002801591303860593,\n",
              "   0.09144394015800975,\n",
              "   0.011262397041519583,\n",
              "   0.07037597355297809,\n",
              "   0.0017930184344707794,\n",
              "   0.031209727125007004,\n",
              "   0.04930800694794643,\n",
              "   0.035187986776489044,\n",
              "   0.13526082815038942,\n",
              "   0.04280831512298986,\n",
              "   0.03132179077716143,\n",
              "   5.6031826077211856e-05,\n",
              "   0.02689527651706169,\n",
              "   0.04734689303524402,\n",
              "   0.05961786294615341,\n",
              "   0.03479576399394856,\n",
              "   0.0010646046954670254,\n",
              "   0.014288115649689024,\n",
              "   5.6031826077211856e-05,\n",
              "   0.019723202779178575,\n",
              "   0.0],\n",
              "  [0.17803588454537575,\n",
              "   0.022882898500476728,\n",
              "   0.019069082083730607,\n",
              "   0.02184276675045506,\n",
              "   0.06509491202218948,\n",
              "   0.00494062581260293,\n",
              "   0.06708849787639767,\n",
              "   0.019069082083730607,\n",
              "   0.07471613070988992,\n",
              "   0.0019069082083730607,\n",
              "   0.02062927970876311,\n",
              "   0.042558724105053305,\n",
              "   0.0374447430007801,\n",
              "   0.11328768310652683,\n",
              "   0.05616711450117015,\n",
              "   0.029210366646441884,\n",
              "   0.0004333882291756956,\n",
              "   0.04602582993845887,\n",
              "   0.05911415445956488,\n",
              "   0.0549536274594782,\n",
              "   0.027910201958914797,\n",
              "   0.005113981104273208,\n",
              "   0.008234376354338217,\n",
              "   0.0008667764583513912,\n",
              "   0.023402964375487563,\n",
              "   0.0],\n",
              "  [0.20298466215282576,\n",
              "   0.022799502556307864,\n",
              "   0.01962139007876192,\n",
              "   0.03717009810695039,\n",
              "   0.06439132237114827,\n",
              "   0.005803509741605638,\n",
              "   0.03316291280917507,\n",
              "   0.006770761365206577,\n",
              "   0.07572198424761642,\n",
              "   0.0023490396573165677,\n",
              "   0.01478513196075722,\n",
              "   0.050711620837363545,\n",
              "   0.023904932983280364,\n",
              "   0.11524112201188337,\n",
              "   0.06784579245543734,\n",
              "   0.030952051955230066,\n",
              "   0.0017963244438303164,\n",
              "   0.03951913776426696,\n",
              "   0.06522039519137764,\n",
              "   0.04628989912947354,\n",
              "   0.027912118281055685,\n",
              "   0.004836258118004698,\n",
              "   0.005803509741605638,\n",
              "   0.00041453641011468843,\n",
              "   0.03399198562940445,\n",
              "   0.0]],\n",
              " 'labels': ['en',\n",
              "  'en',\n",
              "  'en',\n",
              "  'en',\n",
              "  'en',\n",
              "  'fr',\n",
              "  'fr',\n",
              "  'fr',\n",
              "  'fr',\n",
              "  'fr',\n",
              "  'id',\n",
              "  'id',\n",
              "  'id',\n",
              "  'id',\n",
              "  'id',\n",
              "  'tl',\n",
              "  'tl',\n",
              "  'tl',\n",
              "  'tl',\n",
              "  'tl']}"
            ]
          },
          "metadata": {},
          "execution_count": 15
        }
      ]
    },
    {
      "cell_type": "code",
      "source": [
        "clf = svm.SVC()\n",
        "clf.fit(data['freqs'],data['labels'])"
      ],
      "metadata": {
        "colab": {
          "base_uri": "https://localhost:8080/"
        },
        "id": "7u95D7dEjuXQ",
        "outputId": "737dd614-7adb-4700-e52e-f529646be4b5"
      },
      "execution_count": 7,
      "outputs": [
        {
          "output_type": "execute_result",
          "data": {
            "text/plain": [
              "SVC()"
            ]
          },
          "metadata": {},
          "execution_count": 7
        }
      ]
    },
    {
      "cell_type": "code",
      "source": [
        "predict = clf.predict(test['freqs'])"
      ],
      "metadata": {
        "id": "WoaBvjQaj3d5"
      },
      "execution_count": 9,
      "outputs": []
    },
    {
      "cell_type": "code",
      "source": [
        "ac_score = metrics.accuracy_score(test['labels'],predict)\n",
        "cl_report = metrics.classification_report(test['labels'],predict)\n",
        "print('정답률=',ac_score)\n",
        "print('리포트=')\n",
        "print(cl_report)"
      ],
      "metadata": {
        "colab": {
          "base_uri": "https://localhost:8080/"
        },
        "id": "h2XiQoa2kBUz",
        "outputId": "a8eb862f-df31-422f-da82-448acb1b5b43"
      },
      "execution_count": 16,
      "outputs": [
        {
          "output_type": "stream",
          "name": "stdout",
          "text": [
            "정답률= 1.0\n",
            "리포트=\n",
            "              precision    recall  f1-score   support\n",
            "\n",
            "          en       1.00      1.00      1.00         2\n",
            "          fr       1.00      1.00      1.00         2\n",
            "          id       1.00      1.00      1.00         2\n",
            "          tl       1.00      1.00      1.00         2\n",
            "\n",
            "    accuracy                           1.00         8\n",
            "   macro avg       1.00      1.00      1.00         8\n",
            "weighted avg       1.00      1.00      1.00         8\n",
            "\n"
          ]
        }
      ]
    },
    {
      "cell_type": "markdown",
      "source": [
        "## 데이터마다의 분포를 그래프로 확인하기"
      ],
      "metadata": {
        "id": "TXDknUfCm7mw"
      }
    },
    {
      "cell_type": "code",
      "source": [
        "import matplotlib.pyplot as plt\n",
        "import pandas as pd"
      ],
      "metadata": {
        "id": "8xB_AouPl7iO"
      },
      "execution_count": 17,
      "outputs": []
    },
    {
      "cell_type": "code",
      "source": [
        "# 알파벳 출현 빈도 데이터 읽어 들이기\n",
        "with open('/content/drive/MyDrive/머신러닝,딥러닝실전/4장/lang/freq.json','r',encoding='utf-8') as fp:\n",
        "    freq = json.load(fp)"
      ],
      "metadata": {
        "id": "7SXneLbSnHv3"
      },
      "execution_count": 18,
      "outputs": []
    },
    {
      "cell_type": "code",
      "source": [
        "# 언어마다 계산하기\n",
        "lang_dic = {}\n",
        "for i, lbl in enumerate(freq[0]['labels']):\n",
        "    fq = freq[0]['freqs'][i]\n",
        "    if not (lbl in lang_dic):\n",
        "        lang_dic[lbl] = fq\n",
        "        continue\n",
        "    for idx,v in enumerate(fq):\n",
        "        lang_dic[lbl][idx] = (lang_dic[lbl][idx]+v)/2"
      ],
      "metadata": {
        "id": "Hz_vyksLnwfg"
      },
      "execution_count": 19,
      "outputs": []
    },
    {
      "cell_type": "code",
      "source": [
        "asclist = [[chr(n) for n in range(97,97+26)]]\n",
        "df = pd.DataFrame(lang_dic,index=asclist)"
      ],
      "metadata": {
        "id": "BDHHi9SaoL2d"
      },
      "execution_count": 20,
      "outputs": []
    },
    {
      "cell_type": "code",
      "source": [
        "plt.style.use('ggplot')\n",
        "df.plot(kind='bar',subplots=True,ylim=(0,0.15))\n",
        "plt.savefig('/content/drive/MyDrive/머신러닝,딥러닝실전/4장/lang/lang-plot.png')"
      ],
      "metadata": {
        "colab": {
          "base_uri": "https://localhost:8080/",
          "height": 293
        },
        "id": "2wu_uoPaoYJJ",
        "outputId": "ff94aae8-9b93-4432-dced-22a1af834cd3"
      },
      "execution_count": 21,
      "outputs": [
        {
          "output_type": "display_data",
          "data": {
            "text/plain": [
              "<Figure size 432x288 with 4 Axes>"
            ],
            "image/png": "[encoded data removed]"
          },
          "metadata": {}
        }
      ]
    },
    {
      "cell_type": "code",
      "source": [
        "plt.style.use('ggplot')\n",
        "df.plot(kind='line')\n",
        "plt.show()"
      ],
      "metadata": {
        "colab": {
          "base_uri": "https://localhost:8080/",
          "height": 265
        },
        "id": "6EOoV-59okSG",
        "outputId": "4a185a07-7fd1-4b16-b3e6-845f313c51da"
      },
      "execution_count": 22,
      "outputs": [
        {
          "output_type": "display_data",
          "data": {
            "text/plain": [
              "<Figure size 432x288 with 1 Axes>"
            ],
            "image/png": "[encoded data removed]"
          },
          "metadata": {}
        }
      ]
    },
    {
      "cell_type": "markdown",
      "source": [
        "# 웹 인터페이스 추가하기"
      ],
      "metadata": {
        "id": "jRHt16QBpOEf"
      }
    },
    {
      "cell_type": "markdown",
      "source": [
        "## 학습한 매개변수를 저장하는 프로그램"
      ],
      "metadata": {
        "id": "_mkakSXKpP2Y"
      }
    },
    {
      "cell_type": "code",
      "source": [
        "import joblib"
      ],
      "metadata": {
        "id": "-RbtGgUDpdg1"
      },
      "execution_count": 24,
      "outputs": []
    },
    {
      "cell_type": "code",
      "source": [
        "with open('/content/drive/MyDrive/머신러닝,딥러닝실전/4장/lang/freq.json','r',encoding='utf-8') as fp:\n",
        "    d = json.load(fp)\n",
        "    data = d[0]"
      ],
      "metadata": {
        "id": "uIntKh2IpWtx"
      },
      "execution_count": 26,
      "outputs": []
    },
    {
      "cell_type": "code",
      "source": [
        "clf = svm.SVC()\n",
        "clf.fit(data['freqs'],data['labels'])"
      ],
      "metadata": {
        "colab": {
          "base_uri": "https://localhost:8080/"
        },
        "id": "omy8_M5rp5FH",
        "outputId": "f6f3edc8-42c9-4e62-e49e-b5da1bf0137b"
      },
      "execution_count": 31,
      "outputs": [
        {
          "output_type": "execute_result",
          "data": {
            "text/plain": [
              "SVC()"
            ]
          },
          "metadata": {},
          "execution_count": 31
        }
      ]
    },
    {
      "cell_type": "code",
      "source": [
        "joblib.dump(clf,'/content/drive/MyDrive/머신러닝,딥러닝실전/4장/lang/freq.pkl')\n",
        "print('ok')"
      ],
      "metadata": {
        "colab": {
          "base_uri": "https://localhost:8080/"
        },
        "id": "1zWRAcOtp8T5",
        "outputId": "5cee0d55-8225-4797-9cff-c2cf97fce4b7"
      },
      "execution_count": 33,
      "outputs": [
        {
          "output_type": "stream",
          "name": "stdout",
          "text": [
            "ok\n"
          ]
        }
      ]
    },
    {
      "cell_type": "markdown",
      "source": [
        "## 웹에서 사용할 수 있는 언어 판별 애플리케이션"
      ],
      "metadata": {
        "id": "RtgTheg2qpyo"
      }
    },
    {
      "cell_type": "code",
      "source": [
        "import cgi"
      ],
      "metadata": {
        "id": "oYqD6ZJyqYcP"
      },
      "execution_count": 34,
      "outputs": []
    },
    {
      "cell_type": "code",
      "source": [
        "pklfile = os.path.dirname('/content/drive/MyDrive/머신러닝,딥러닝실전/4장/lang/freq.pkl')+'/freq.pkl'"
      ],
      "metadata": {
        "id": "LBgahBTQq8xQ"
      },
      "execution_count": 41,
      "outputs": []
    },
    {
      "cell_type": "code",
      "source": [
        "clf = joblib.load(pklfile)"
      ],
      "metadata": {
        "id": "WgRHf_yBrEAn"
      },
      "execution_count": 42,
      "outputs": []
    },
    {
      "cell_type": "code",
      "source": [
        "# 텍스트 입력 양식 출력하기\n",
        "def show_form(text,msg=''):\n",
        "    print('Content-Type: text/html; charset=utf-8')\n",
        "    print('')\n",
        "    print('')\n",
        "    print(\"\"\"\n",
        "        <html><body><form>\n",
        "        <textarea name=\"text\" rows=\"8\" cols=\"40\">{0}</textarea>\n",
        "        <p><input type=\"submit\" value=\"판정\"></p>\n",
        "        <p>{1}</p>\n",
        "        </form></body></html>\n",
        "    \"\"\".format(cgi.escape(text), msg))"
      ],
      "metadata": {
        "id": "fNhoWgArrNFr"
      },
      "execution_count": 43,
      "outputs": []
    },
    {
      "cell_type": "code",
      "source": [
        "# 판정하기\n",
        "def detect_lang(text):\n",
        "    # 알파벳 출현 빈도 구하기\n",
        "    text = text.lower() \n",
        "    code_a, code_z = (ord(\"a\"), ord(\"z\"))\n",
        "    cnt = [0 for i in range(26)]\n",
        "    for ch in text:\n",
        "        n = ord(ch) - code_a\n",
        "        if 0 <= n < 26: cnt[n] += 1\n",
        "    total = sum(cnt)\n",
        "    if total == 0: return \"입력이 없습니다\"\n",
        "    freq = list(map(lambda n: n/total, cnt))\n",
        "    # 언어 예측하기\n",
        "    res = clf.predict([freq])\n",
        "    # 언어 코드를 한국어로 변환하기\n",
        "    lang_dic = {\"en\":\"영어\",\"fr\":\"프랑스어\",\n",
        "        \"id\":\"인도네시아어\", \"tl\":\"타갈로그어\"}\n",
        "    return lang_dic[res[0]]"
      ],
      "metadata": {
        "id": "7m1VQx-0r1Uo"
      },
      "execution_count": 44,
      "outputs": []
    },
    {
      "cell_type": "code",
      "source": [
        "# 입력 양식의 값 읽어 들이기\n",
        "form = cgi.FieldStorage()\n",
        "text = form.getvalue(\"text\", default=\"\")\n",
        "msg = \"\"\n",
        "if text != \"\":\n",
        "    lang = detect_lang(text)\n",
        "    msg = \"판정 결과:\" + lang"
      ],
      "metadata": {
        "id": "spTMdVaur-l5"
      },
      "execution_count": 45,
      "outputs": []
    },
    {
      "cell_type": "code",
      "source": [
        "show_form(text, msg)"
      ],
      "metadata": {
        "colab": {
          "base_uri": "https://localhost:8080/"
        },
        "id": "8TBtXiCYsAhH",
        "outputId": "a5d7053e-e931-4f04-ca8b-9b598840d2e4"
      },
      "execution_count": 46,
      "outputs": [
        {
          "output_type": "stream",
          "name": "stdout",
          "text": [
            "Content-Type: text/html; charset=utf-8\n",
            "\n",
            "\n",
            "\n",
            "        <html><body><form>\n",
            "        <textarea name=\"text\" rows=\"8\" cols=\"40\"></textarea>\n",
            "        <p><input type=\"submit\" value=\"판정\"></p>\n",
            "        <p></p>\n",
            "        </form></body></html>\n",
            "    \n"
          ]
        },
        {
          "output_type": "stream",
          "name": "stderr",
          "text": [
            "/usr/local/lib/python3.7/dist-packages/ipykernel_launcher.py:12: DeprecationWarning: cgi.escape is deprecated, use html.escape instead\n",
            "  if sys.path[0] == '':\n"
          ]
        }
      ]
    },
    {
      "cell_type": "code",
      "source": [
        ""
      ],
      "metadata": {
        "id": "SrNZqYSDsB3b"
      },
      "execution_count": null,
      "outputs": []
    }
  ]
}