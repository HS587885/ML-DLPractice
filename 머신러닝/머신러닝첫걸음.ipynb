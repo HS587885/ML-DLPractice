{
  "nbformat": 4,
  "nbformat_minor": 0,
  "metadata": {
    "colab": {
      "name": "머신러닝첫걸음.ipynb",
      "provenance": [],
      "collapsed_sections": [],
      "authorship_tag": "ABX9TyPxEIsJP3V2BYmOxAsmpNhk",
      "include_colab_link": true
    },
    "kernelspec": {
      "name": "python3",
      "display_name": "Python 3"
    },
    "language_info": {
      "name": "python"
    }
  },
  "cells": [
    {
      "cell_type": "markdown",
      "metadata": {
        "id": "view-in-github",
        "colab_type": "text"
      },
      "source": [
        "<a href=\"https://colab.research.google.com/github/as9786/ML-DLPratice/blob/main/%EB%A8%B8%EC%8B%A0%EB%9F%AC%EB%8B%9D/%EB%A8%B8%EC%8B%A0%EB%9F%AC%EB%8B%9D%EC%B2%AB%EA%B1%B8%EC%9D%8C.ipynb\" target=\"_parent\"><img src=\"https://colab.research.google.com/assets/colab-badge.svg\" alt=\"Open In Colab\"/></a>"
      ]
    },
    {
      "cell_type": "markdown",
      "source": [
        "# XOR 연산 학습"
      ],
      "metadata": {
        "id": "xcfLqMYESAq4"
      }
    },
    {
      "cell_type": "code",
      "execution_count": null,
      "metadata": {
        "id": "Kyhi3YFQRzyx"
      },
      "outputs": [],
      "source": [
        "from sklearn import svm"
      ]
    },
    {
      "cell_type": "code",
      "source": [
        "xor_data = [[0,0,0],[0,1,1],[1,0,1],[1,1,0]]"
      ],
      "metadata": {
        "id": "uUn9JRj2SIsT"
      },
      "execution_count": null,
      "outputs": []
    },
    {
      "cell_type": "code",
      "source": [
        "data = []\n",
        "label = []\n",
        "for row in xor_data:\n",
        "    p = row[0]\n",
        "    q = row[1]\n",
        "    r = row[2]\n",
        "    data.append([p,q])\n",
        "    label.append(r)"
      ],
      "metadata": {
        "id": "rBaEua74SOWs"
      },
      "execution_count": null,
      "outputs": []
    },
    {
      "cell_type": "code",
      "source": [
        "clf = svm.SVC()\n",
        "clf.fit(data,label)"
      ],
      "metadata": {
        "colab": {
          "base_uri": "https://localhost:8080/"
        },
        "id": "DYUqLnYMSX8l",
        "outputId": "1b228fdf-c8fa-43c7-a0b9-810bce08841a"
      },
      "execution_count": null,
      "outputs": [
        {
          "output_type": "execute_result",
          "data": {
            "text/plain": [
              "SVC()"
            ]
          },
          "metadata": {},
          "execution_count": 4
        }
      ]
    },
    {
      "cell_type": "code",
      "source": [
        "pre = clf.predict(data)\n",
        "print(' 예측결과:',pre)"
      ],
      "metadata": {
        "colab": {
          "base_uri": "https://localhost:8080/"
        },
        "id": "9tf-JqHnSbqb",
        "outputId": "f5702d20-7ff9-449e-c60f-04fe43c25d88"
      },
      "execution_count": null,
      "outputs": [
        {
          "output_type": "stream",
          "name": "stdout",
          "text": [
            " 예측결과: [0 1 1 0]\n"
          ]
        }
      ]
    },
    {
      "cell_type": "code",
      "source": [
        "ok = 0\n",
        "total = 0\n",
        "for idx,answer in enumerate(label):\n",
        "    p = pre[idx]\n",
        "    if p == answer:\n",
        "        ok += 1\n",
        "    total += 1\n",
        "print('정답률:',ok,'/',total,'=',ok/total)"
      ],
      "metadata": {
        "colab": {
          "base_uri": "https://localhost:8080/"
        },
        "id": "m1RmgOGMShIQ",
        "outputId": "8ae0c2dc-cea3-4234-c9d2-61bf3e4259f6"
      },
      "execution_count": null,
      "outputs": [
        {
          "output_type": "stream",
          "name": "stdout",
          "text": [
            "정답률: 4 / 4 = 1.0\n"
          ]
        }
      ]
    },
    {
      "cell_type": "markdown",
      "source": [
        "1) 학습 기계에 데이터를 학습시킨다\n",
        "2) 데이터를 넣어 예측시킨다"
      ],
      "metadata": {
        "id": "KVnWuK-3S3PU"
      }
    },
    {
      "cell_type": "markdown",
      "source": [
        "## 프레임워크로 프로그램 간단하게 작성하기"
      ],
      "metadata": {
        "id": "fe5mgmDpTJA1"
      }
    },
    {
      "cell_type": "code",
      "source": [
        "import pandas as pd\n",
        "from sklearn import svm,metrics"
      ],
      "metadata": {
        "id": "JlLHYfipSzAI"
      },
      "execution_count": null,
      "outputs": []
    },
    {
      "cell_type": "code",
      "source": [
        "xor_df = pd.DataFrame(xor_data)\n",
        "xor_data = xor_df.loc[:,0:1]\n",
        "xor_label = xor_df.loc[:,2]"
      ],
      "metadata": {
        "id": "szdJldKlTOS1"
      },
      "execution_count": null,
      "outputs": []
    },
    {
      "cell_type": "code",
      "source": [
        "clf = svm.SVC()\n",
        "clf.fit(xor_data,xor_label)\n",
        "pre = clf.predict(xor_data)"
      ],
      "metadata": {
        "id": "oUkKK9rATXlM"
      },
      "execution_count": null,
      "outputs": []
    },
    {
      "cell_type": "code",
      "source": [
        "ac_score = metrics.accuracy_score(xor_label,pre)\n",
        "print('정답률=',ac_score)"
      ],
      "metadata": {
        "colab": {
          "base_uri": "https://localhost:8080/"
        },
        "id": "ioOv4wQSTcpb",
        "outputId": "5eef2c50-3c1b-4c4c-896f-9e936a497762"
      },
      "execution_count": null,
      "outputs": [
        {
          "output_type": "stream",
          "name": "stdout",
          "text": [
            "정답률= 1.0\n"
          ]
        }
      ]
    },
    {
      "cell_type": "markdown",
      "source": [
        "# 붓꽃의 품종 분류하기"
      ],
      "metadata": {
        "id": "n0cHtI5STkSq"
      }
    },
    {
      "cell_type": "code",
      "source": [
        "from google.colab import drive\n",
        "drive.mount('/content/drive')"
      ],
      "metadata": {
        "colab": {
          "base_uri": "https://localhost:8080/"
        },
        "id": "CZ4ygiH9T38y",
        "outputId": "f6cb3e9a-7b4e-46ff-8093-0ac4039b4676"
      },
      "execution_count": null,
      "outputs": [
        {
          "output_type": "stream",
          "name": "stdout",
          "text": [
            "Mounted at /content/drive\n"
          ]
        }
      ]
    },
    {
      "cell_type": "code",
      "source": [
        "import re, random"
      ],
      "metadata": {
        "id": "B6xWDCTWT-EL"
      },
      "execution_count": null,
      "outputs": []
    },
    {
      "cell_type": "code",
      "source": [
        "csv = []\n",
        "with open('/content/drive/MyDrive/머신러닝,딥러닝실전/4장/iris.csv','r',encoding='utf-8') as fp:\n",
        "    for line in fp:\n",
        "        line = line.strip()\n",
        "        cols = line.split(',')\n",
        "        #문자열 데이터를 숫자로 변환\n",
        "        fn = lambda n : float(n) if re.match('^[0-9\\.]+$',n) else n\n",
        "        clos = list(map(fn,cols))\n",
        "        csv.append(cols)"
      ],
      "metadata": {
        "id": "sNRlt3gAT_en"
      },
      "execution_count": null,
      "outputs": []
    },
    {
      "cell_type": "code",
      "source": [
        "del csv[0]"
      ],
      "metadata": {
        "id": "E6P4ypWOUh-h"
      },
      "execution_count": null,
      "outputs": []
    },
    {
      "cell_type": "code",
      "source": [
        "random.shuffle(csv)"
      ],
      "metadata": {
        "id": "JAH8RenXUkIJ"
      },
      "execution_count": null,
      "outputs": []
    },
    {
      "cell_type": "code",
      "source": [
        "total_len = len(csv)\n",
        "train_len = int(total_len*2/3)\n",
        "train_data = []\n",
        "train_label = []\n",
        "test_data = []\n",
        "test_label = []"
      ],
      "metadata": {
        "id": "VWeWfbp1Ulpr"
      },
      "execution_count": null,
      "outputs": []
    },
    {
      "cell_type": "code",
      "source": [
        "for i in range(total_len):\n",
        "    data = csv[i][0:3]\n",
        "    label = csv[i][4]\n",
        "\n",
        "    if i < train_len:\n",
        "        train_data.append(data)\n",
        "        train_label.append(label)\n",
        "    else:\n",
        "        test_data.append(data)\n",
        "        test_label.append(label)"
      ],
      "metadata": {
        "id": "XlEobeBMUx-E"
      },
      "execution_count": null,
      "outputs": []
    },
    {
      "cell_type": "code",
      "source": [
        "clf = svm.SVC()\n",
        "clf.fit(train_data,train_label)\n",
        "pre = clf.predict(test_data)"
      ],
      "metadata": {
        "id": "F8Wc-KV1VBqF"
      },
      "execution_count": null,
      "outputs": []
    },
    {
      "cell_type": "code",
      "source": [
        "ac_score = metrics.accuracy_score(test_label,pre)\n",
        "print('정답률=',ac_score)"
      ],
      "metadata": {
        "colab": {
          "base_uri": "https://localhost:8080/"
        },
        "id": "mLsxdyohVICP",
        "outputId": "f6f0938c-3b31-4873-b5dd-c3641a666594"
      },
      "execution_count": null,
      "outputs": [
        {
          "output_type": "stream",
          "name": "stdout",
          "text": [
            "정답률= 0.94\n"
          ]
        }
      ]
    },
    {
      "cell_type": "markdown",
      "source": [
        "## 훈련 전용 데이터와 테스트 전용 데이터로 분할하는 메서드"
      ],
      "metadata": {
        "id": "2f-djjBuVjoM"
      }
    },
    {
      "cell_type": "code",
      "source": [
        "from sklearn.model_selection import train_test_split"
      ],
      "metadata": {
        "id": "Is0uDjgEVNn-"
      },
      "execution_count": null,
      "outputs": []
    },
    {
      "cell_type": "code",
      "source": [
        "csv = pd.read_csv('/content/drive/MyDrive/머신러닝,딥러닝실전/4장/iris.csv')"
      ],
      "metadata": {
        "id": "08xA2JePVqWc"
      },
      "execution_count": null,
      "outputs": []
    },
    {
      "cell_type": "code",
      "source": [
        "csv_data = csv[['SepalLength','SepalWidth','PetalLength','PetalWidth']]\n",
        "csv_label = csv['Name']"
      ],
      "metadata": {
        "id": "V-TXCX0qVuB4"
      },
      "execution_count": null,
      "outputs": []
    },
    {
      "cell_type": "code",
      "source": [
        "train_data,test_data,train_label,test_label = train_test_split(csv_data,csv_label)"
      ],
      "metadata": {
        "id": "C4xSEG_7V2V8"
      },
      "execution_count": null,
      "outputs": []
    },
    {
      "cell_type": "code",
      "source": [
        "clf = svm.SVC()\n",
        "clf.fit(train_data,train_label)\n",
        "pre = clf.predict(test_data)"
      ],
      "metadata": {
        "id": "ZEPbkvUKV-w7"
      },
      "execution_count": null,
      "outputs": []
    },
    {
      "cell_type": "code",
      "source": [
        "ac_score = metrics.accuracy_score(test_label,pre)\n",
        "print('정답률=',ac_score)"
      ],
      "metadata": {
        "colab": {
          "base_uri": "https://localhost:8080/"
        },
        "id": "zsXE3EvBWFne",
        "outputId": "77e2ab09-f0da-4c6a-b646-8ddfe08db6cd"
      },
      "execution_count": null,
      "outputs": [
        {
          "output_type": "stream",
          "name": "stdout",
          "text": [
            "정답률= 0.9736842105263158\n"
          ]
        }
      ]
    },
    {
      "cell_type": "code",
      "source": [
        ""
      ],
      "metadata": {
        "id": "yendOAbJWH64"
      },
      "execution_count": null,
      "outputs": []
    },
    {
      "cell_type": "code",
      "source": [
        ""
      ],
      "metadata": {
        "id": "soVTCIoFWQnK"
      },
      "execution_count": null,
      "outputs": []
    }
  ]
}