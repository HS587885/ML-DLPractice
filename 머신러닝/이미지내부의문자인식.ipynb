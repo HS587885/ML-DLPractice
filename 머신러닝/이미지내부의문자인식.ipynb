{
  "nbformat": 4,
  "nbformat_minor": 0,
  "metadata": {
    "colab": {
      "name": "이미지내부의문자인식.ipynb",
      "provenance": [],
      "mount_file_id": "1oOjVNVhxbdIREX8kPiTI-VdFmMrZycXM",
      "authorship_tag": "ABX9TyNN8bwHNqwPjap30cXOPvw7",
      "include_colab_link": true
    },
    "kernelspec": {
      "name": "python3",
      "display_name": "Python 3"
    },
    "language_info": {
      "name": "python"
    }
  },
  "cells": [
    {
      "cell_type": "markdown",
      "metadata": {
        "id": "view-in-github",
        "colab_type": "text"
      },
      "source": [
        "<a href=\"https://colab.research.google.com/github/as9786/ML-DLPratice/blob/main/%EB%A8%B8%EC%8B%A0%EB%9F%AC%EB%8B%9D/%EC%9D%B4%EB%AF%B8%EC%A7%80%EB%82%B4%EB%B6%80%EC%9D%98%EB%AC%B8%EC%9E%90%EC%9D%B8%EC%8B%9D.ipynb\" target=\"_parent\"><img src=\"https://colab.research.google.com/assets/colab-badge.svg\" alt=\"Open In Colab\"/></a>"
      ]
    },
    {
      "cell_type": "markdown",
      "source": [
        "# 손글씨 숫자 인식하기"
      ],
      "metadata": {
        "id": "Vuwl9FQ4XYwN"
      }
    },
    {
      "cell_type": "markdown",
      "source": [
        "## MNIST 데이터"
      ],
      "metadata": {
        "id": "1CJ9gXTUX6Dz"
      }
    },
    {
      "cell_type": "code",
      "execution_count": 1,
      "metadata": {
        "id": "WwauTzWQWWK6"
      },
      "outputs": [],
      "source": [
        "import urllib.request as req\n",
        "import gzip,os,os.path"
      ]
    },
    {
      "cell_type": "code",
      "source": [
        "savepath = '/content/drive/MyDrive/머신러닝,딥러닝실전/4장/mnist'\n",
        "baseurl = 'http://yann.lecun.com/exdb/mnist/'\n",
        "files = ['t10k-images-idx3-ubyte.gz','t10k-labels-idx1-ubyte.gz','train-images-idx3-ubyte.gz','train-labels-idx1-ubyte.gz']"
      ],
      "metadata": {
        "id": "yvV46zlDYFlz"
      },
      "execution_count": 11,
      "outputs": []
    },
    {
      "cell_type": "code",
      "source": [
        "# 다운로드\n",
        "if not os.path.exists(savepath):os.mkdir(savepath)\n",
        "for f in files:\n",
        "    url = baseurl+f\n",
        "    loc = savepath+'/'+f\n",
        "    print('download:',url)\n",
        "    if not os.path.exists(loc):\n",
        "        req.urlretrieve(url,loc)"
      ],
      "metadata": {
        "colab": {
          "base_uri": "https://localhost:8080/"
        },
        "id": "Pu1M8l95YeSf",
        "outputId": "ffdc2964-bd9c-45f7-c493-3b2b03f62830"
      },
      "execution_count": 19,
      "outputs": [
        {
          "output_type": "stream",
          "name": "stdout",
          "text": [
            "download: http://yann.lecun.com/exdb/mnist/t10k-images-idx3-ubyte.gz\n",
            "download: http://yann.lecun.com/exdb/mnist/t10k-labels-idx1-ubyte.gz\n",
            "download: http://yann.lecun.com/exdb/mnist/train-images-idx3-ubyte.gz\n",
            "download: http://yann.lecun.com/exdb/mnist/train-labels-idx1-ubyte.gz\n"
          ]
        }
      ]
    },
    {
      "cell_type": "code",
      "source": [
        "# Gzip 압축 해제\n",
        "for f in files:\n",
        "    gz_file = savepath+'/'+f\n",
        "    raw_file = savepath+'/'+f.replace('.gz','')\n",
        "    print('gzip:',f)\n",
        "    with gzip.open(gz_file,'rb') as fp:\n",
        "        body = fp.read()\n",
        "        with open(raw_file,'wb') as w:\n",
        "            w.write(body)\n",
        "print('ok')"
      ],
      "metadata": {
        "colab": {
          "base_uri": "https://localhost:8080/"
        },
        "id": "hWrZgpCmY5fd",
        "outputId": "6b108dd3-ae48-4fe8-ecd7-12702ba2d29a"
      },
      "execution_count": 20,
      "outputs": [
        {
          "output_type": "stream",
          "name": "stdout",
          "text": [
            "gzip: t10k-images-idx3-ubyte.gz\n",
            "gzip: t10k-labels-idx1-ubyte.gz\n",
            "gzip: train-images-idx3-ubyte.gz\n",
            "gzip: train-labels-idx1-ubyte.gz\n",
            "ok\n"
          ]
        }
      ]
    },
    {
      "cell_type": "code",
      "source": [
        "%cd /content/drive/MyDrive/머신러닝,딥러닝실전/4장"
      ],
      "metadata": {
        "colab": {
          "base_uri": "https://localhost:8080/"
        },
        "id": "4fgOKJPfbExM",
        "outputId": "f495ac76-48be-448d-d6b3-0782c6503cbc"
      },
      "execution_count": 39,
      "outputs": [
        {
          "output_type": "stream",
          "name": "stdout",
          "text": [
            "/content/drive/MyDrive/머신러닝,딥러닝실전/4장\n"
          ]
        }
      ]
    },
    {
      "cell_type": "code",
      "source": [
        "import struct\n",
        "\n",
        "def to_csv(name,maxdata):\n",
        "    # 레이블 파일과 이미지 파일 열기\n",
        "    lbl_f = open('./mnist/'+name+'-labels-idx1-ubyte','rb')\n",
        "    img_f = open('./mnist/'+name+'-images-idx3-ubyte','rb')\n",
        "    csv_f = open('./mnist/'+name+'.csv','w',encoding='utf-8')\n",
        "    #헤더 정보 읽기\n",
        "    mag, lbl_count = struct.unpack('>II',lbl_f.read(8))\n",
        "    mag, img_count = struct.unpack('>II',img_f.read(8))\n",
        "    rows,cols = struct.unpack('>II',img_f.read(8))\n",
        "    pixels = rows * cols\n",
        "    #이미지 데이터를 읽고 csv로 저장\n",
        "    for idx in range(lbl_count):\n",
        "        if idx > maxdata: break\n",
        "        label = struct.unpack('B',lbl_f.read(1))[0]\n",
        "        bdata = img_f.read(pixels)\n",
        "        sdata = list(map(lambda n : str(n),bdata))\n",
        "        csv_f.write(str(label)+',')\n",
        "        csv_f.write(','.join(sdata)+'\\r\\n')\n",
        "\n",
        "        # 잘 저장됐는지 이미지 파일로 저장해서 테스트\n",
        "        if idx < 10:\n",
        "            s = 'P2 28 28 255\\n'\n",
        "            s += ' '.join(sdata)\n",
        "            iname = './mnist/{0}-{1}-{2}.pgm'.format(name,idx,label)\n",
        "            with open(iname,'w',encoding='utf-8') as f:\n",
        "                f.write(s)\n",
        "    csv_f.close()\n",
        "    lbl_f.close()\n",
        "    img_f.close()"
      ],
      "metadata": {
        "id": "L0UOnmgtaDVK"
      },
      "execution_count": 42,
      "outputs": []
    },
    {
      "cell_type": "code",
      "source": [
        "to_csv(\"train\", 1000)\n",
        "to_csv('t10k',500)"
      ],
      "metadata": {
        "id": "DlyXa7ElchSt"
      },
      "execution_count": 44,
      "outputs": []
    },
    {
      "cell_type": "markdown",
      "source": [
        "# 이미지 데이터 학습시키기"
      ],
      "metadata": {
        "id": "5-52mGGJee4u"
      }
    },
    {
      "cell_type": "code",
      "source": [
        "from sklearn import model_selection, svm, metrics"
      ],
      "metadata": {
        "id": "P-v6eODUcqiC"
      },
      "execution_count": 45,
      "outputs": []
    },
    {
      "cell_type": "code",
      "source": [
        "def load_csv(fname):\n",
        "    labels = []\n",
        "    images = []\n",
        "\n",
        "    with open(fname,'r') as f:\n",
        "        for line in f:\n",
        "            cols = line.split(',')\n",
        "            if len(cols) < 2: continue\n",
        "            labels.append(int(cols.pop(0)))\n",
        "            vals = list(map(lambda n:int(n)/256,cols))\n",
        "            images.append(vals)\n",
        "    return {'labels':labels,'images':images}"
      ],
      "metadata": {
        "id": "1OBZjXsQephr"
      },
      "execution_count": 46,
      "outputs": []
    },
    {
      "cell_type": "code",
      "source": [
        "data = load_csv('./mnist/train.csv')\n",
        "test = load_csv('./mnist/t10k.csv')"
      ],
      "metadata": {
        "id": "2LhtoRMbfA1e"
      },
      "execution_count": 47,
      "outputs": []
    },
    {
      "cell_type": "code",
      "source": [
        "clf = svm.SVC()\n",
        "clf.fit(data['images'],data['labels'])"
      ],
      "metadata": {
        "colab": {
          "base_uri": "https://localhost:8080/"
        },
        "id": "FzDEG2mTfGbv",
        "outputId": "a42c3696-64bd-4ff9-a4f9-28ce537b1064"
      },
      "execution_count": 48,
      "outputs": [
        {
          "output_type": "execute_result",
          "data": {
            "text/plain": [
              "SVC()"
            ]
          },
          "metadata": {},
          "execution_count": 48
        }
      ]
    },
    {
      "cell_type": "code",
      "source": [
        "predict = clf.predict(test['images'])"
      ],
      "metadata": {
        "id": "E4Qz4rAsfbKr"
      },
      "execution_count": 53,
      "outputs": []
    },
    {
      "cell_type": "code",
      "source": [
        "ac_score = metrics.accuracy_score(test['labels'],predict)\n",
        "cl_report = metrics.classification_report(test['labels'],predict)\n",
        "print('정답률=',ac_score)\n",
        "print('리포트=')\n",
        "print(cl_report)"
      ],
      "metadata": {
        "colab": {
          "base_uri": "https://localhost:8080/"
        },
        "id": "lWaSSDJwflYm",
        "outputId": "80b0cd90-e1b1-4ac9-b5e5-8c627b0ba2b8"
      },
      "execution_count": 54,
      "outputs": [
        {
          "output_type": "stream",
          "name": "stdout",
          "text": [
            "정답률= 0.8842315369261478\n",
            "리포트=\n",
            "              precision    recall  f1-score   support\n",
            "\n",
            "           0       0.87      0.98      0.92        42\n",
            "           1       0.99      1.00      0.99        67\n",
            "           2       0.91      0.89      0.90        55\n",
            "           3       0.94      0.72      0.81        46\n",
            "           4       0.86      0.93      0.89        55\n",
            "           5       0.75      0.82      0.78        50\n",
            "           6       0.95      0.81      0.88        43\n",
            "           7       0.79      0.94      0.86        49\n",
            "           8       0.94      0.82      0.88        40\n",
            "           9       0.89      0.87      0.88        54\n",
            "\n",
            "    accuracy                           0.88       501\n",
            "   macro avg       0.89      0.88      0.88       501\n",
            "weighted avg       0.89      0.88      0.88       501\n",
            "\n"
          ]
        }
      ]
    },
    {
      "cell_type": "markdown",
      "source": [
        "## 6만 개의 모든 데이터 학습시키기"
      ],
      "metadata": {
        "id": "PC67ndF4f4Y8"
      }
    },
    {
      "cell_type": "code",
      "source": [
        "to_csv(\"train\", 99999)"
      ],
      "metadata": {
        "id": "CULSdzchfzCn"
      },
      "execution_count": 55,
      "outputs": []
    },
    {
      "cell_type": "code",
      "source": [
        "def load_csv(fname):\n",
        "    labels = []\n",
        "    images = []\n",
        "\n",
        "    with open(fname,'r') as f:\n",
        "        for line in f:\n",
        "            cols = line.split(',')\n",
        "            if len(cols) < 2: continue\n",
        "            labels.append(int(cols.pop(0)))\n",
        "            vals = list(map(lambda n:int(n)/256,cols))\n",
        "            images.append(vals)\n",
        "    return {'labels':labels,'images':images}"
      ],
      "metadata": {
        "id": "hDV_YBlDgDww"
      },
      "execution_count": 56,
      "outputs": []
    },
    {
      "cell_type": "code",
      "source": [
        "data = load_csv('./mnist/train.csv')\n",
        "test = load_csv('./mnist/t10k.csv')"
      ],
      "metadata": {
        "id": "AF6ncxE9gDwx"
      },
      "execution_count": 57,
      "outputs": []
    },
    {
      "cell_type": "code",
      "source": [
        "clf = svm.SVC()\n",
        "clf.fit(data['images'],data['labels'])"
      ],
      "metadata": {
        "colab": {
          "base_uri": "https://localhost:8080/"
        },
        "outputId": "de7feefc-790d-4ec3-f8f2-cfac67014568",
        "id": "p8IHWZ5KgDwx"
      },
      "execution_count": 58,
      "outputs": [
        {
          "output_type": "execute_result",
          "data": {
            "text/plain": [
              "SVC()"
            ]
          },
          "metadata": {},
          "execution_count": 58
        }
      ]
    },
    {
      "cell_type": "code",
      "source": [
        "predict = clf.predict(test['images'])"
      ],
      "metadata": {
        "id": "HqrRJdjdgDwy"
      },
      "execution_count": 59,
      "outputs": []
    },
    {
      "cell_type": "code",
      "source": [
        "ac_score = metrics.accuracy_score(test['labels'],predict)\n",
        "cl_report = metrics.classification_report(test['labels'],predict)\n",
        "print('정답률=',ac_score)\n",
        "print('리포트=')\n",
        "print(cl_report)"
      ],
      "metadata": {
        "colab": {
          "base_uri": "https://localhost:8080/"
        },
        "outputId": "91fec335-45d3-4630-8472-af6f01013892",
        "id": "PRopEo90gDwy"
      },
      "execution_count": 60,
      "outputs": [
        {
          "output_type": "stream",
          "name": "stdout",
          "text": [
            "정답률= 0.9720558882235529\n",
            "리포트=\n",
            "              precision    recall  f1-score   support\n",
            "\n",
            "           0       0.95      1.00      0.98        42\n",
            "           1       1.00      1.00      1.00        67\n",
            "           2       0.96      0.96      0.96        55\n",
            "           3       0.98      0.98      0.98        46\n",
            "           4       0.98      0.96      0.97        55\n",
            "           5       1.00      0.96      0.98        50\n",
            "           6       0.98      0.95      0.96        43\n",
            "           7       0.96      0.98      0.97        49\n",
            "           8       0.93      0.97      0.95        40\n",
            "           9       0.96      0.94      0.95        54\n",
            "\n",
            "    accuracy                           0.97       501\n",
            "   macro avg       0.97      0.97      0.97       501\n",
            "weighted avg       0.97      0.97      0.97       501\n",
            "\n"
          ]
        }
      ]
    }
  ]
}