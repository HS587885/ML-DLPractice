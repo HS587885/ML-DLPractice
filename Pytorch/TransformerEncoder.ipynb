{
  "nbformat": 4,
  "nbformat_minor": 0,
  "metadata": {
    "colab": {
      "provenance": [],
      "authorship_tag": "ABX9TyMfqbNv8FmTX0AqweEtK2FD",
      "include_colab_link": true
    },
    "kernelspec": {
      "name": "python3",
      "display_name": "Python 3"
    },
    "language_info": {
      "name": "python"
    },
    "accelerator": "GPU",
    "gpuClass": "standard"
  },
  "cells": [
    {
      "cell_type": "markdown",
      "metadata": {
        "id": "view-in-github",
        "colab_type": "text"
      },
      "source": [
        "<a href=\"https://colab.research.google.com/github/as9786/ML-DLPratice/blob/main/Pytorch/TransformerEncoder.ipynb\" target=\"_parent\"><img src=\"https://colab.research.google.com/assets/colab-badge.svg\" alt=\"Open In Colab\"/></a>"
      ]
    },
    {
      "cell_type": "markdown",
      "source": [
        "# Module"
      ],
      "metadata": {
        "id": "YpDtImKTNi4N"
      }
    },
    {
      "cell_type": "code",
      "execution_count": 1,
      "metadata": {
        "id": "nz3hZYOtNDRk"
      },
      "outputs": [],
      "source": [
        "import torch\n",
        "import torch.nn as nn\n",
        "\n",
        "import tensorflow as tf\n",
        "from tensorflow.keras.datasets import imdb"
      ]
    },
    {
      "cell_type": "markdown",
      "source": [
        "# 장치 설정"
      ],
      "metadata": {
        "id": "lW6DsUNwNzIB"
      }
    },
    {
      "cell_type": "code",
      "source": [
        "device = torch.device(\"cuda\" if torch.cuda.is_available() else \"cpu\")\n",
        "print(\"Using {}\".format(device))"
      ],
      "metadata": {
        "colab": {
          "base_uri": "https://localhost:8080/"
        },
        "id": "mKMpY7XuN1TT",
        "outputId": "9e8cf40c-7f30-454e-bb65-80e1cb965251"
      },
      "execution_count": 2,
      "outputs": [
        {
          "output_type": "stream",
          "name": "stdout",
          "text": [
            "Using cuda\n"
          ]
        }
      ]
    },
    {
      "cell_type": "markdown",
      "source": [
        "# Data"
      ],
      "metadata": {
        "id": "co8301TUOFPt"
      }
    },
    {
      "cell_type": "code",
      "source": [
        "max_features = 10000\n",
        "(x_train, y_train), (x_test, y_test) = imdb.load_data(num_words=max_features)"
      ],
      "metadata": {
        "id": "57t_eMAEN76t",
        "colab": {
          "base_uri": "https://localhost:8080/"
        },
        "outputId": "8547d39e-87f7-4748-fb9e-8be36311fcb2"
      },
      "execution_count": 3,
      "outputs": [
        {
          "output_type": "stream",
          "name": "stdout",
          "text": [
            "Downloading data from https://storage.googleapis.com/tensorflow/tf-keras-datasets/imdb.npz\n",
            "17464789/17464789 [==============================] - 0s 0us/step\n"
          ]
        }
      ]
    },
    {
      "cell_type": "code",
      "source": [
        "from tensorflow.keras.preprocessing import sequence\n",
        "max_len = 200\n",
        "x_train = sequence.pad_sequences(x_train, maxlen=max_len)\n",
        "x_test = sequence.pad_sequences(x_test, maxlen=max_len)"
      ],
      "metadata": {
        "id": "vOYP8wZ1OJQp"
      },
      "execution_count": 4,
      "outputs": []
    },
    {
      "cell_type": "code",
      "source": [
        "# holdout\n",
        "from sklearn.model_selection import train_test_split\n",
        "x_train, x_valid, y_train, y_valid = train_test_split(x_train,y_train,test_size=0.3)"
      ],
      "metadata": {
        "id": "TAFJKVaYWVKx"
      },
      "execution_count": 5,
      "outputs": []
    },
    {
      "cell_type": "code",
      "source": [
        "print('Feature Shapes:')\n",
        "print('===============')\n",
        "print('Train set: {}'.format(x_train.shape))\n",
        "print('Validation set: {}'.format(x_valid.shape))\n",
        "print('Test set: {}'.format(x_test.shape))"
      ],
      "metadata": {
        "colab": {
          "base_uri": "https://localhost:8080/"
        },
        "id": "yl-67drKWho_",
        "outputId": "f49bf555-4fb6-4058-971b-86fa5bfea001"
      },
      "execution_count": 6,
      "outputs": [
        {
          "output_type": "stream",
          "name": "stdout",
          "text": [
            "Feature Shapes:\n",
            "===============\n",
            "Train set: (17500, 200)\n",
            "Validation set: (7500, 200)\n",
            "Test set: (25000, 200)\n"
          ]
        }
      ]
    },
    {
      "cell_type": "code",
      "source": [
        "from torch.utils.data import TensorDataset, DataLoader"
      ],
      "metadata": {
        "id": "Dd_RSjoAXFtL"
      },
      "execution_count": 7,
      "outputs": []
    },
    {
      "cell_type": "code",
      "source": [
        "train_dataset = TensorDataset(torch.from_numpy(x_train),torch.from_numpy(y_train))\n",
        "valid_dataset = TensorDataset(torch.from_numpy(x_valid),torch.from_numpy(y_valid))\n",
        "test_dataset = TensorDataset(torch.from_numpy(x_test),torch.from_numpy(y_test))"
      ],
      "metadata": {
        "id": "uVwEqvRxXItT"
      },
      "execution_count": 8,
      "outputs": []
    },
    {
      "cell_type": "code",
      "source": [
        "train_loader = DataLoader(train_dataset, batch_size=128,shuffle=True)\n",
        "valid_loader = DataLoader(valid_dataset, batch_size=128)\n",
        "test_loader = DataLoader(test_dataset, batch_size=32)"
      ],
      "metadata": {
        "id": "1JK1PxVkXlhv"
      },
      "execution_count": 9,
      "outputs": []
    },
    {
      "cell_type": "code",
      "source": [
        "# check our batches\n",
        "dataiter = iter(train_loader)\n",
        "x, y = next(dataiter)"
      ],
      "metadata": {
        "id": "Pvlw3hHhbDt0"
      },
      "execution_count": 10,
      "outputs": []
    },
    {
      "cell_type": "code",
      "source": [
        "print('Sample batch size: ', x.size())   # batch_size, seq_length\n",
        "#print('Sample batch input: \\n', x)\n",
        "print()\n",
        "print('Sample label size: ', y.size())   # batch_size\n",
        "#print('Sample label input: \\n', y)"
      ],
      "metadata": {
        "colab": {
          "base_uri": "https://localhost:8080/"
        },
        "id": "u1-EPe6tbXHC",
        "outputId": "93cc9842-0bd0-43c1-b9f6-125d2a923cdc"
      },
      "execution_count": 11,
      "outputs": [
        {
          "output_type": "stream",
          "name": "stdout",
          "text": [
            "Sample batch size:  torch.Size([128, 200])\n",
            "\n",
            "Sample label size:  torch.Size([128])\n"
          ]
        }
      ]
    },
    {
      "cell_type": "markdown",
      "source": [
        "# 모형"
      ],
      "metadata": {
        "id": "xZDYmDp_cREW"
      }
    },
    {
      "cell_type": "code",
      "source": [
        "import numpy as np"
      ],
      "metadata": {
        "id": "Xh-8HEjOlYVW"
      },
      "execution_count": 15,
      "outputs": []
    },
    {
      "cell_type": "code",
      "source": [
        "class PositionalEncoding(nn.Module):\n",
        "  def __init__(self, d_model, dropout=0.1, max_len = 200):\n",
        "    super(PositionalEncoding,self).__init__()\n",
        "    self.dropout = nn.Dropout(p=dropout)\n",
        "    pe = torch.zeros(max_len, d_model)\n",
        "    position = torch.arange(0,max_len,dtype=torch.float).unsqueeze(1)\n",
        "    div_term = torch.exp(torch.arange(0,d_model,2).float()*(-np.log(10000.0)/d_model))\n",
        "    pe[:,0::2] = torch.sin(position * div_term)\n",
        "    pe[:,1::2] = torch.cos(position * div_term)\n",
        "    pe = pe.unsqueeze(0).transpose(0, 1)\n",
        "    self.register_buffer('pe',pe)\n",
        "\n",
        "  def forward(self,x):\n",
        "    x =  x + self.pe[:x.size(0),:]\n",
        "    return self.dropout(x)"
      ],
      "metadata": {
        "id": "wnvqx29_biid"
      },
      "execution_count": 17,
      "outputs": []
    },
    {
      "cell_type": "code",
      "source": [
        "class TransformerEncoder(nn.Module):\n",
        "  def __init__(self, max_features,embedding_dim, hidden_size, nheads, n_layers,max_len, num_labels,dropout):\n",
        "    super(TransformerEncoder,self).__init__()\n",
        "    self.embedding = nn.Embedding(max_features,embedding_dim)\n",
        "    self.pe = PositionalEncoding(embedding_dim,max_len=max_len)\n",
        "    enc_layer = nn.TransformerEncoderLayer(embedding_dim, nheads, hidden_size,dropout)\n",
        "    self.encoder = nn.TransformerEncoder(enc_layer,num_layers=n_layers,)\n",
        "\n",
        "    self.dense = nn.Linear(embedding_dim*max_len,num_labels)\n",
        "    self.log_softmax = nn.LogSoftmax()\n",
        "\n",
        "  def forward(self,x):\n",
        "    x = self.embedding(x).permute(1,0,2)\n",
        "    x = self.pe(x)\n",
        "    x = self.encoder(x)\n",
        "    x = x.reshape(x.shape[1],-1)\n",
        "    x = self.dense(x)\n",
        "    return x"
      ],
      "metadata": {
        "id": "-0wp6O6WfSpo"
      },
      "execution_count": 26,
      "outputs": []
    },
    {
      "cell_type": "code",
      "source": [
        "model = TransformerEncoder(max_features,64,16,4,4,200,2,0.3).to(device)"
      ],
      "metadata": {
        "id": "rc6wAPf9Yn8R"
      },
      "execution_count": 27,
      "outputs": []
    },
    {
      "cell_type": "code",
      "source": [
        "criterion = nn.CrossEntropyLoss()\n",
        "optimizer = torch.optim.Adam(model.parameters(), lr = 0.001)"
      ],
      "metadata": {
        "id": "BeFdDWygZBIM"
      },
      "execution_count": 28,
      "outputs": []
    },
    {
      "cell_type": "code",
      "source": [
        "from tqdm import tqdm\n",
        "import matplotlib.pyplot as plt"
      ],
      "metadata": {
        "id": "bTfDPrlTmYPm"
      },
      "execution_count": 31,
      "outputs": []
    },
    {
      "cell_type": "code",
      "source": [
        "%%time\n",
        "loss_trace = []\n",
        "for epoch in tqdm(range(10)):\n",
        "  current_loss = 0\n",
        "  for i, (x, y) in enumerate(train_loader):\n",
        "    x, y  = x.to(device), y.to(device)\n",
        "    outputs = model(x)\n",
        "    loss = criterion(outputs, y)\n",
        "    optimizer.zero_grad()\n",
        "    loss.backward()\n",
        "    optimizer.step()\n",
        "    current_loss += loss.item()\n",
        "  loss_trace.append(current_loss)\n",
        "\n",
        "# loss curve\n",
        "plt.plot(range(1, 11), loss_trace, 'r-')\n",
        "plt.xlabel('Epoch')\n",
        "plt.ylabel('Loss')\n",
        "plt.show()"
      ],
      "metadata": {
        "colab": {
          "base_uri": "https://localhost:8080/",
          "height": 337
        },
        "id": "VZSMSinQmW_0",
        "outputId": "d975f168-2fc1-4d4e-ed2f-e9c1147afb8a"
      },
      "execution_count": 32,
      "outputs": [
        {
          "output_type": "stream",
          "name": "stderr",
          "text": [
            "100%|██████████| 10/10 [01:19<00:00,  8.00s/it]\n"
          ]
        },
        {
          "output_type": "display_data",
          "data": {
            "text/plain": [
              "<Figure size 432x288 with 1 Axes>"
            ],
            "image/png": "[encoded data removed]"
          },
          "metadata": {
            "needs_background": "light"
          }
        },
        {
          "output_type": "stream",
          "name": "stdout",
          "text": [
            "CPU times: user 1min 15s, sys: 194 ms, total: 1min 16s\n",
            "Wall time: 1min 20s\n"
          ]
        }
      ]
    },
    {
      "cell_type": "code",
      "source": [
        "correct, total = 0, 0\n",
        "predictions = []\n",
        "model.eval()\n",
        "for i, (x,y) in enumerate(test_loader):\n",
        "\n",
        "  with torch.no_grad():\n",
        "    x, y  = x.to(device), y.to(device)\n",
        "    outputs = model(x)\n",
        "    _, y_pred = torch.max(outputs.data, 1)\n",
        "    total += y.shape[0]\n",
        "    correct += (y_pred == y).sum().item()\n",
        "\n",
        "print(correct/total)"
      ],
      "metadata": {
        "id": "IMDGnXxPdlct",
        "colab": {
          "base_uri": "https://localhost:8080/"
        },
        "outputId": "7cd3b4b5-af94-4eb4-e3d9-9ad2b870da2c"
      },
      "execution_count": 33,
      "outputs": [
        {
          "output_type": "stream",
          "name": "stdout",
          "text": [
            "0.50268\n"
          ]
        }
      ]
    }
  ]
}