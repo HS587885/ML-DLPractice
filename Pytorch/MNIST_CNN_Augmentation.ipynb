{
  "nbformat": 4,
  "nbformat_minor": 0,
  "metadata": {
    "colab": {
      "provenance": []
    },
    "kernelspec": {
      "name": "python3",
      "display_name": "Python 3"
    },
    "language_info": {
      "name": "python"
    },
    "accelerator": "GPU",
    "gpuClass": "standard"
  },
  "cells": [
    {
      "cell_type": "code",
      "execution_count": null,
      "metadata": {
        "id": "Ukg1_7I221Mg"
      },
      "outputs": [],
      "source": [
        "import torch\n",
        "import torch.nn as nn\n",
        "from torchvision import datasets\n",
        "import torchvision.transforms as transforms\n",
        "import torch.nn.init"
      ]
    },
    {
      "cell_type": "code",
      "source": [
        "device = 'cuda' if torch.cuda.is_available() else 'cpu'\n",
        "device"
      ],
      "metadata": {
        "colab": {
          "base_uri": "https://localhost:8080/",
          "height": 35
        },
        "id": "gV811ryZ3C4J",
        "outputId": "0b7daa1c-5943-4211-8965-c35a59da1eb8"
      },
      "execution_count": null,
      "outputs": [
        {
          "output_type": "execute_result",
          "data": {
            "text/plain": [
              "'cuda'"
            ],
            "application/vnd.google.colaboratory.intrinsic+json": {
              "type": "string"
            }
          },
          "metadata": {},
          "execution_count": 2
        }
      ]
    },
    {
      "cell_type": "code",
      "source": [
        "if device == 'cuda':\n",
        "    torch.cuda.manual_seed_all(777)"
      ],
      "metadata": {
        "id": "bjeBElYo3gpF"
      },
      "execution_count": null,
      "outputs": []
    },
    {
      "cell_type": "code",
      "source": [
        "batch_size = 256"
      ],
      "metadata": {
        "id": "KHe_Q0qI3vkB"
      },
      "execution_count": null,
      "outputs": []
    },
    {
      "cell_type": "code",
      "source": [
        "transform = transforms.Compose([\n",
        "    transforms.RandomHorizontalFlip(p=0.5),\n",
        "    transforms.ToTensor()\n",
        "])"
      ],
      "metadata": {
        "id": "Vg4RSWmMKWsv"
      },
      "execution_count": null,
      "outputs": []
    },
    {
      "cell_type": "code",
      "source": [
        "mnist_train = datasets.MNIST(root='MNIST_data/', # 다운로드 경로 지정\n",
        "                          train=True, # True를 지정하면 훈련 데이터로 다운로드\n",
        "                          transform=transform, # 텐서로 변환\n",
        "                          download=True)\n",
        "\n",
        "mnist_test = datasets.MNIST(root='MNIST_data/', # 다운로드 경로 지정\n",
        "                         train=False, # False를 지정하면 테스트 데이터로 다운로드\n",
        "                         transform=transforms.ToTensor(), # 텐서로 변환\n",
        "                         download=True)"
      ],
      "metadata": {
        "id": "FIvqW_IQ3wmX"
      },
      "execution_count": null,
      "outputs": []
    },
    {
      "cell_type": "code",
      "source": [
        "train_loader = torch.utils.data.DataLoader(dataset=mnist_train,batch_size=batch_size,shuffle=True)\n",
        "test_loader = torch.utils.data.DataLoader(mnist_test,batch_size=batch_size)\n",
        "                                    "
      ],
      "metadata": {
        "id": "_aN_d8kp3x1g"
      },
      "execution_count": null,
      "outputs": []
    },
    {
      "cell_type": "code",
      "source": [
        "import matplotlib.pyplot as plt"
      ],
      "metadata": {
        "id": "Xjh_d8CxL7li"
      },
      "execution_count": null,
      "outputs": []
    },
    {
      "cell_type": "code",
      "source": [
        "def visualize_image(data,index,pred=False,val=0):\n",
        "    plt.imshow(data[index].reshape(28,28))\n",
        "    plt.axis('off')\n",
        "    plt.show()"
      ],
      "metadata": {
        "id": "qnEPe4-_L2gX"
      },
      "execution_count": null,
      "outputs": []
    },
    {
      "cell_type": "code",
      "source": [
        "visualize_image(mnist_train.data,12)"
      ],
      "metadata": {
        "colab": {
          "base_uri": "https://localhost:8080/",
          "height": 248
        },
        "id": "FZYE97LuMD7O",
        "outputId": "a4035da8-6f8a-4f68-e8d4-a96ea4d7cb13"
      },
      "execution_count": null,
      "outputs": [
        {
          "output_type": "display_data",
          "data": {
            "text/plain": [
              "<Figure size 432x288 with 1 Axes>"
            ],
            "image/png": "[encoded data removed]"
          },
          "metadata": {
            "needs_background": "light"
          }
        }
      ]
    },
    {
      "cell_type": "code",
      "source": [
        "import torch.nn.functional as F"
      ],
      "metadata": {
        "id": "_fL0iNQ3Pkfd"
      },
      "execution_count": null,
      "outputs": []
    },
    {
      "cell_type": "code",
      "source": [
        "class CNN(nn.Module):\n",
        "    def __init__(self):\n",
        "        super(CNN, self).__init__()\n",
        "        self.conv1 = nn.Conv2d(1, 32, kernel_size=5)\n",
        "        self.conv2 = nn.Conv2d(32, 32, kernel_size=5)\n",
        "        self.conv3 = nn.Conv2d(32,64, kernel_size=5)\n",
        "        self.fc1 = nn.Linear(3*3*64, 256)\n",
        "        self.fc2 = nn.Linear(256, 10)\n",
        "\n",
        "    def forward(self, x):\n",
        "        x = F.relu(self.conv1(x))\n",
        "        #x = F.dropout(x, p=0.5, training=self.training)\n",
        "        x = F.relu(F.max_pool2d(self.conv2(x), 2))\n",
        "        x = F.dropout(x, p=0.5, training=self.training)\n",
        "        x = F.relu(F.max_pool2d(self.conv3(x),2))\n",
        "        x = F.dropout(x, p=0.5, training=self.training)\n",
        "        x = x.view(-1,3*3*64 )\n",
        "        x = F.relu(self.fc1(x))\n",
        "        x = F.dropout(x, training=self.training)\n",
        "        x = self.fc2(x)\n",
        "        return F.log_softmax(x, dim=1)"
      ],
      "metadata": {
        "id": "eCSc8ILE34x9"
      },
      "execution_count": null,
      "outputs": []
    },
    {
      "cell_type": "code",
      "source": [
        "model = CNN().to(device)"
      ],
      "metadata": {
        "id": "pDpYEhjp4CwR"
      },
      "execution_count": null,
      "outputs": []
    },
    {
      "cell_type": "code",
      "source": [
        "criterion = torch.nn.CrossEntropyLoss().to(device)    # 비용 함수에 소프트맥스 함수 포함되어져 있음.\n",
        "optimizer = torch.optim.Adam(model.parameters(), lr=0.0015)"
      ],
      "metadata": {
        "id": "F8flQJmt4ElB"
      },
      "execution_count": null,
      "outputs": []
    },
    {
      "cell_type": "code",
      "source": [
        "EPOCHS = 5\n",
        "model.train()\n",
        "for epoch in range(EPOCHS):\n",
        "    correct = 0\n",
        "    for batch_idx, (X, y) in enumerate(train_loader):\n",
        "        var_X_batch = X.to(device)\n",
        "        var_y_batch = y.to(device)\n",
        "        optimizer.zero_grad()\n",
        "        output = model(var_X_batch)\n",
        "        loss = criterion(output, var_y_batch)\n",
        "        loss.backward()\n",
        "        optimizer.step()\n",
        "\n",
        "        # Total correct predictions\n",
        "        predicted = torch.max(output.data, 1)[1] \n",
        "        correct += (predicted == var_y_batch).sum()\n",
        "        #print(correct)\n",
        "        if batch_idx % 50 == 0:\n",
        "            print('Epoch : {} [{}/{} ({:.0f}%)]\\tLoss: {:.6f}\\t Accuracy:{:.3f}%'.format(\n",
        "                epoch, batch_idx*len(X), len(train_loader.dataset), 100.*batch_idx / len(train_loader), loss.item(), float(correct*100) / float(256*(batch_idx+1))))"
      ],
      "metadata": {
        "id": "-5JHJM4s4KLP",
        "colab": {
          "base_uri": "https://localhost:8080/"
        },
        "outputId": "1b9a0269-6b33-46c2-ce42-7f5f8863c9c3"
      },
      "execution_count": null,
      "outputs": [
        {
          "output_type": "stream",
          "name": "stdout",
          "text": [
            "Epoch : 0 [0/60000 (0%)]\tLoss: 2.315496\t Accuracy:15.234%\n",
            "Epoch : 0 [12800/60000 (21%)]\tLoss: 0.733028\t Accuracy:59.597%\n",
            "Epoch : 0 [25600/60000 (43%)]\tLoss: 0.412306\t Accuracy:70.641%\n",
            "Epoch : 0 [38400/60000 (64%)]\tLoss: 0.380976\t Accuracy:76.030%\n",
            "Epoch : 0 [51200/60000 (85%)]\tLoss: 0.354560\t Accuracy:79.452%\n",
            "Epoch : 1 [0/60000 (0%)]\tLoss: 0.301497\t Accuracy:91.406%\n",
            "Epoch : 1 [12800/60000 (21%)]\tLoss: 0.201754\t Accuracy:92.624%\n",
            "Epoch : 1 [25600/60000 (43%)]\tLoss: 0.277777\t Accuracy:92.532%\n",
            "Epoch : 1 [38400/60000 (64%)]\tLoss: 0.150441\t Accuracy:92.956%\n",
            "Epoch : 1 [51200/60000 (85%)]\tLoss: 0.175935\t Accuracy:93.282%\n",
            "Epoch : 2 [0/60000 (0%)]\tLoss: 0.270615\t Accuracy:92.969%\n",
            "Epoch : 2 [12800/60000 (21%)]\tLoss: 0.181085\t Accuracy:94.156%\n",
            "Epoch : 2 [25600/60000 (43%)]\tLoss: 0.103262\t Accuracy:94.442%\n",
            "Epoch : 2 [38400/60000 (64%)]\tLoss: 0.149219\t Accuracy:94.676%\n",
            "Epoch : 2 [51200/60000 (85%)]\tLoss: 0.115115\t Accuracy:94.796%\n",
            "Epoch : 3 [0/60000 (0%)]\tLoss: 0.211847\t Accuracy:93.359%\n",
            "Epoch : 3 [12800/60000 (21%)]\tLoss: 0.162442\t Accuracy:95.389%\n",
            "Epoch : 3 [25600/60000 (43%)]\tLoss: 0.143227\t Accuracy:95.548%\n",
            "Epoch : 3 [38400/60000 (64%)]\tLoss: 0.184949\t Accuracy:95.597%\n",
            "Epoch : 3 [51200/60000 (85%)]\tLoss: 0.153961\t Accuracy:95.610%\n",
            "Epoch : 4 [0/60000 (0%)]\tLoss: 0.176127\t Accuracy:94.141%\n",
            "Epoch : 4 [12800/60000 (21%)]\tLoss: 0.137775\t Accuracy:95.473%\n",
            "Epoch : 4 [25600/60000 (43%)]\tLoss: 0.101254\t Accuracy:95.838%\n",
            "Epoch : 4 [38400/60000 (64%)]\tLoss: 0.125147\t Accuracy:95.998%\n",
            "Epoch : 4 [51200/60000 (85%)]\tLoss: 0.123046\t Accuracy:95.929%\n"
          ]
        }
      ]
    },
    {
      "cell_type": "code",
      "source": [
        "correct = 0 \n",
        "for test_imgs, test_labels in test_loader:\n",
        "    #print(test_imgs.shape)\n",
        "    test_imgs = test_imgs.to(device)\n",
        "    test_labels = test_labels.to(device)\n",
        "    output = model(test_imgs)\n",
        "    predicted = torch.max(output,1)[1]\n",
        "    correct += (predicted == test_labels).sum()\n",
        "print(\"Test accuracy:{:.3f}% \".format( float(correct) / (len(test_loader)*256)))"
      ],
      "metadata": {
        "colab": {
          "base_uri": "https://localhost:8080/"
        },
        "id": "wGpHd1sqQrgy",
        "outputId": "044f7641-19e9-4d86-de4f-44282f80209c"
      },
      "execution_count": null,
      "outputs": [
        {
          "output_type": "stream",
          "name": "stdout",
          "text": [
            "Test accuracy:0.942% \n"
          ]
        }
      ]
    },
    {
      "cell_type": "code",
      "source": [],
      "metadata": {
        "id": "7VJTDv70Qv73"
      },
      "execution_count": null,
      "outputs": []
    }
  ]
}