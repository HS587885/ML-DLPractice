{
  "nbformat": 4,
  "nbformat_minor": 0,
  "metadata": {
    "colab": {
      "provenance": [],
      "mount_file_id": "1RAjjdZczmZbKS4N2PAHmZRtypKKVGu8Y",
      "authorship_tag": "ABX9TyOIPbbcHs4TuXQpwXaehGy7",
      "include_colab_link": true
    },
    "kernelspec": {
      "name": "python3",
      "display_name": "Python 3"
    },
    "language_info": {
      "name": "python"
    },
    "accelerator": "GPU",
    "gpuClass": "standard"
  },
  "cells": [
    {
      "cell_type": "markdown",
      "metadata": {
        "id": "view-in-github",
        "colab_type": "text"
      },
      "source": [
        "<a href=\"https://colab.research.google.com/github/as9786/ML-DLPratice/blob/main/TransferLearning_TFHub.ipynb\" target=\"_parent\"><img src=\"https://colab.research.google.com/assets/colab-badge.svg\" alt=\"Open In Colab\"/></a>"
      ]
    },
    {
      "cell_type": "markdown",
      "source": [
        "# Transfer Learning"
      ],
      "metadata": {
        "id": "-4c0hmcZsbx6"
      }
    },
    {
      "cell_type": "code",
      "execution_count": 1,
      "metadata": {
        "id": "hi9KtTaOqGeG"
      },
      "outputs": [],
      "source": [
        "import os \n",
        "import math\n",
        "import cv2\n",
        "import numpy as np\n",
        "import pandas as pd\n",
        "import tensorflow as tf      \n",
        "from tensorflow.keras.applications import EfficientNetB0 \n",
        "from tensorflow import keras \n",
        "from tensorflow.keras import layers \n",
        "from tensorflow.keras import activations"
      ]
    },
    {
      "cell_type": "code",
      "source": [
        "def get_model(input_shape):\n",
        "\n",
        "  inputs = keras.Input(input_shape)\n",
        "  base_model = EfficientNetB0(\n",
        "      input_shape=input_shape,\n",
        "      weights = 'imagenet',\n",
        "      include_top = False,\n",
        "      pooling='avg'\n",
        "  )\n",
        "\n",
        "  x = base_model(inputs) \n",
        "  output = layers.Dense(1,activation='sigmoid')(x)\n",
        "  model = keras.Model(inputs,output)\n",
        "  \n",
        "  return model    \n",
        "\n",
        "input_shape = (256,256,3)\n",
        "model = get_model(input_shape)\n",
        "\n",
        "adam = keras.optimizers.Adam(lr=0.0001)\n",
        "\n",
        "model.compile(optimizer=adam,loss='binary_crossentropy',metrics='accuracy')\n",
        "\n",
        "model.summary()"
      ],
      "metadata": {
        "colab": {
          "base_uri": "https://localhost:8080/"
        },
        "id": "MqpBkiF5tYIP",
        "outputId": "428217df-456b-4b26-c9f9-028b45f4b904"
      },
      "execution_count": 8,
      "outputs": [
        {
          "output_type": "stream",
          "name": "stdout",
          "text": [
            "Model: \"model\"\n",
            "_________________________________________________________________\n",
            " Layer (type)                Output Shape              Param #   \n",
            "=================================================================\n",
            " input_5 (InputLayer)        [(None, 256, 256, 3)]     0         \n",
            "                                                                 \n",
            " efficientnetb0 (Functional)  (None, 1280)             4049571   \n",
            "                                                                 \n",
            " dense_1 (Dense)             (None, 1)                 1281      \n",
            "                                                                 \n",
            "=================================================================\n",
            "Total params: 4,050,852\n",
            "Trainable params: 4,008,829\n",
            "Non-trainable params: 42,023\n",
            "_________________________________________________________________\n"
          ]
        },
        {
          "output_type": "stream",
          "name": "stderr",
          "text": [
            "/usr/local/lib/python3.8/dist-packages/keras/optimizers/optimizer_v2/adam.py:110: UserWarning: The `lr` argument is deprecated, use `learning_rate` instead.\n",
            "  super(Adam, self).__init__(name, **kwargs)\n"
          ]
        }
      ]
    },
    {
      "cell_type": "markdown",
      "source": [
        "include_top = False : Feature만 추출\n",
        "\n",
        "include_top = True : Imagenet 출력값 하는 것\n",
        "\n",
        "pooling = 'avg' : GlobalAveragePooling\n",
        "\n",
        "pooling = 'max' : GlobalMaxPooling"
      ],
      "metadata": {
        "id": "CqVyDhf3wRM8"
      }
    },
    {
      "cell_type": "markdown",
      "source": [
        "# TF hub"
      ],
      "metadata": {
        "id": "UFLu-Ykfxbaf"
      }
    },
    {
      "cell_type": "code",
      "source": [
        "import tensorflow_hub as hub\n",
        "\n",
        "import tensorflow_hub as hub\n",
        "\n",
        "model = tf.keras.Sequential([\n",
        "    hub.KerasLayer(\"https://tfhub.dev/google/imagenet/efficientnet_v2_imagenet1k_b0/feature_vector/2\",\n",
        "                   trainable=True),  # Can be True, see below.\n",
        "    tf.keras.layers.Dense(1, activation='sigmoid')\n",
        "])\n",
        "model.build([None, 256, 256, 3])  # Batch input shape.\n",
        "\n",
        "adam = keras.optimizers.Adam(lr=0.0001)\n",
        "model.compile(\n",
        "    optimizer=adam,\n",
        "    loss='binary_crossentropy',\n",
        "    metrics='accuracy'\n",
        ")\n",
        "\n",
        "model.summary()"
      ],
      "metadata": {
        "colab": {
          "base_uri": "https://localhost:8080/"
        },
        "id": "zWdeW0f3xceg",
        "outputId": "ba0c85d9-28f2-4685-a15b-10a816565739"
      },
      "execution_count": 2,
      "outputs": [
        {
          "output_type": "stream",
          "name": "stdout",
          "text": [
            "Model: \"sequential\"\n",
            "_________________________________________________________________\n",
            " Layer (type)                Output Shape              Param #   \n",
            "=================================================================\n",
            " keras_layer (KerasLayer)    (None, 1280)              5919312   \n",
            "                                                                 \n",
            " dense (Dense)               (None, 1)                 1281      \n",
            "                                                                 \n",
            "=================================================================\n",
            "Total params: 5,920,593\n",
            "Trainable params: 5,859,985\n",
            "Non-trainable params: 60,608\n",
            "_________________________________________________________________\n"
          ]
        },
        {
          "output_type": "stream",
          "name": "stderr",
          "text": [
            "/usr/local/lib/python3.8/dist-packages/keras/optimizers/optimizer_v2/adam.py:110: UserWarning: The `lr` argument is deprecated, use `learning_rate` instead.\n",
            "  super(Adam, self).__init__(name, **kwargs)\n"
          ]
        }
      ]
    },
    {
      "cell_type": "code",
      "source": [],
      "metadata": {
        "id": "52H3bwovYhIC"
      },
      "execution_count": null,
      "outputs": []
    }
  ]
}