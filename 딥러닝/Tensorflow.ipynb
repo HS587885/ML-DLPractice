{
  "nbformat": 4,
  "nbformat_minor": 0,
  "metadata": {
    "colab": {
      "name": "Tensorflow.ipynb",
      "provenance": [],
      "collapsed_sections": [],
      "mount_file_id": "1OT5kUBtO9dprIlsGx42giu5B6FTYZfsS",
      "authorship_tag": "ABX9TyPHtDUjWqVlMR0ra0qhKQgY",
      "include_colab_link": true
    },
    "kernelspec": {
      "name": "python3",
      "display_name": "Python 3"
    },
    "language_info": {
      "name": "python"
    }
  },
  "cells": [
    {
      "cell_type": "markdown",
      "metadata": {
        "id": "view-in-github",
        "colab_type": "text"
      },
      "source": [
        "<a href=\"https://colab.research.google.com/github/as9786/ML-DLPratice/blob/main/%EB%94%A5%EB%9F%AC%EB%8B%9D/Tensorflow.ipynb\" target=\"_parent\"><img src=\"https://colab.research.google.com/assets/colab-badge.svg\" alt=\"Open In Colab\"/></a>"
      ]
    },
    {
      "cell_type": "markdown",
      "source": [
        "# Tensorflow"
      ],
      "metadata": {
        "id": "SOp0l08U_T8I"
      }
    },
    {
      "cell_type": "markdown",
      "source": [
        "- 대규모 숫자 계산을 해주는 라이브러리\n",
        "- 머신러닝과 딥러닝에 많이 사용되고 있고, 그러한 것을 목적으로 하는 도구이지만 실제로는 다양한 숫자 계산을 할 수 있는 범용적인 라이브러리\n",
        "- Tensor : 다차원 행렬 계산\n",
        "- 자료가 굉장히 많음\n",
        "- C++로 제작"
      ],
      "metadata": {
        "id": "uJGAnXby_WIz"
      }
    },
    {
      "cell_type": "markdown",
      "source": [
        "## Tensorflow로 간단한 계산해보기"
      ],
      "metadata": {
        "id": "UuduOrdL_rCr"
      }
    },
    {
      "cell_type": "code",
      "execution_count": 1,
      "metadata": {
        "id": "XptmEIYI_Pso"
      },
      "outputs": [],
      "source": [
        "import tensorflow as tf"
      ]
    },
    {
      "cell_type": "code",
      "source": [
        "a = tf.constant(1234)\n",
        "b = tf.constant(5000)"
      ],
      "metadata": {
        "id": "c17dPDkB_vNq"
      },
      "execution_count": 2,
      "outputs": []
    },
    {
      "cell_type": "code",
      "source": [
        "add_op = a+b"
      ],
      "metadata": {
        "id": "-l0hVB0q_yZk"
      },
      "execution_count": 3,
      "outputs": []
    },
    {
      "cell_type": "code",
      "source": [
        "print(add_op)"
      ],
      "metadata": {
        "colab": {
          "base_uri": "https://localhost:8080/"
        },
        "id": "tdaezZos_4gu",
        "outputId": "fa34b39f-2643-414b-9f31-0f0b6b0748a8"
      },
      "execution_count": 5,
      "outputs": [
        {
          "output_type": "stream",
          "name": "stdout",
          "text": [
            "tf.Tensor(6234, shape=(), dtype=int32)\n"
          ]
        }
      ]
    },
    {
      "cell_type": "markdown",
      "source": [
        "계산 처리를 그래프라는 객체로 구축하고, 이러한 그래프를 실행하는 구조"
      ],
      "metadata": {
        "id": "Gng0wV_rANo3"
      }
    },
    {
      "cell_type": "markdown",
      "source": [
        "### 간단한 계산"
      ],
      "metadata": {
        "id": "-EMu-XI8ATJo"
      }
    },
    {
      "cell_type": "code",
      "source": [
        "a = tf.constant(2)\n",
        "b = tf.constant(3)\n",
        "c = tf.constant(4)"
      ],
      "metadata": {
        "id": "tFloeXp6_-MW"
      },
      "execution_count": 6,
      "outputs": []
    },
    {
      "cell_type": "code",
      "source": [
        "calc1_op = a+b*c\n",
        "calc2_op = (a+b)*c"
      ],
      "metadata": {
        "id": "MQjKFWZhAYBq"
      },
      "execution_count": 9,
      "outputs": []
    },
    {
      "cell_type": "code",
      "source": [
        "print(calc1_op)\n",
        "print(calc2_op)"
      ],
      "metadata": {
        "colab": {
          "base_uri": "https://localhost:8080/"
        },
        "id": "H4vz1rFDAcht",
        "outputId": "f89f457c-a4f9-42cf-c3ba-5b93b7dd2ce7"
      },
      "execution_count": 10,
      "outputs": [
        {
          "output_type": "stream",
          "name": "stdout",
          "text": [
            "tf.Tensor(14, shape=(), dtype=int32)\n",
            "tf.Tensor(20, shape=(), dtype=int32)\n"
          ]
        }
      ]
    },
    {
      "cell_type": "markdown",
      "source": [
        "# Tensorflow 기본"
      ],
      "metadata": {
        "id": "L_bX3lQGAqjh"
      }
    },
    {
      "cell_type": "markdown",
      "source": [
        "## Tensorflow에서 변수를 표현하는 방법"
      ],
      "metadata": {
        "id": "NN7--GbiA0M8"
      }
    },
    {
      "cell_type": "code",
      "source": [
        "a = tf.constant(120,name='a')\n",
        "b = tf.constant(130,name='b')\n",
        "c = tf.constant(140,name='c')"
      ],
      "metadata": {
        "id": "E3ymds4BArd_"
      },
      "execution_count": 11,
      "outputs": []
    },
    {
      "cell_type": "code",
      "source": [
        "# 변수 정의\n",
        "v = tf.Variable(0,name='v')"
      ],
      "metadata": {
        "id": "079KRYC7A_bU"
      },
      "execution_count": 12,
      "outputs": []
    },
    {
      "cell_type": "code",
      "source": [
        "calc_op = a + b + c\n",
        "assign_op = v.assign(calc_op)"
      ],
      "metadata": {
        "id": "Kyudq8zdBDJW"
      },
      "execution_count": 14,
      "outputs": []
    },
    {
      "cell_type": "code",
      "source": [
        "tf.print(assign_op)"
      ],
      "metadata": {
        "colab": {
          "base_uri": "https://localhost:8080/"
        },
        "id": "bJY7F5HwBHeU",
        "outputId": "cff58e2b-f766-460a-b805-88511721e0df"
      },
      "execution_count": 15,
      "outputs": [
        {
          "output_type": "stream",
          "name": "stdout",
          "text": [
            "390\n"
          ]
        }
      ]
    },
    {
      "cell_type": "markdown",
      "source": [
        "## Tensorflow의 플레이스홀더"
      ],
      "metadata": {
        "id": "Vx_5cKp9Bpsd"
      }
    },
    {
      "cell_type": "markdown",
      "source": [
        "- 템플릿처럼 값을 넣을 공간을 만들어주는 기능"
      ],
      "metadata": {
        "id": "UIcrUfqeBsgY"
      }
    },
    {
      "cell_type": "code",
      "source": [
        "@tf.function\n",
        "def multiplier(a,b):\n",
        "    return a*b"
      ],
      "metadata": {
        "id": "xhQ2EaySBncX"
      },
      "execution_count": 18,
      "outputs": []
    },
    {
      "cell_type": "code",
      "source": [
        "a = tf.constant([1,2,3])\n",
        "b = tf.constant(2)\n",
        "x2_op = multiplier(a,b)"
      ],
      "metadata": {
        "id": "FkLcYE0aCD4A"
      },
      "execution_count": 19,
      "outputs": []
    },
    {
      "cell_type": "code",
      "source": [
        "tf.print(x2_op)"
      ],
      "metadata": {
        "colab": {
          "base_uri": "https://localhost:8080/"
        },
        "id": "wHZWQkS3CnZG",
        "outputId": "4d8ee873-302b-4861-db99-b9de91dbf0d8"
      },
      "execution_count": 21,
      "outputs": [
        {
          "output_type": "stream",
          "name": "stdout",
          "text": [
            "[2 4 6]\n"
          ]
        }
      ]
    }
  ]
}